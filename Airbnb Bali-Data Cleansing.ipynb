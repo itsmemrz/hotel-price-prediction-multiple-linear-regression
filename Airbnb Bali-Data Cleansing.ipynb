{
 "cells": [
  {
   "cell_type": "code",
   "execution_count": 1,
   "metadata": {},
   "outputs": [],
   "source": [
    "# Importing our libraries\n",
    "\n",
    "import matplotlib.pyplot as plt\n",
    "import pandas as pd\n",
    "import numpy as np\n",
    "import scipy\n",
    "import scipy.stats as stats\n",
    "import seaborn as sns\n",
    "import warnings\n",
    "warnings.filterwarnings('ignore')"
   ]
  },
  {
   "cell_type": "markdown",
   "metadata": {},
   "source": [
    "# I. LOADING DATASET"
   ]
  },
  {
   "cell_type": "markdown",
   "metadata": {},
   "source": [
    "I got this dataset by scraping Airbnb website using web scraping app called Octoparse."
   ]
  },
  {
   "cell_type": "code",
   "execution_count": 2,
   "metadata": {
    "scrolled": true
   },
   "outputs": [
    {
     "data": {
      "text/html": [
       "<div>\n",
       "<style scoped>\n",
       "    .dataframe tbody tr th:only-of-type {\n",
       "        vertical-align: middle;\n",
       "    }\n",
       "\n",
       "    .dataframe tbody tr th {\n",
       "        vertical-align: top;\n",
       "    }\n",
       "\n",
       "    .dataframe thead th {\n",
       "        text-align: right;\n",
       "    }\n",
       "</style>\n",
       "<table border=\"1\" class=\"dataframe\">\n",
       "  <thead>\n",
       "    <tr style=\"text-align: right;\">\n",
       "      <th></th>\n",
       "      <th>Title</th>\n",
       "      <th>listing_url</th>\n",
       "      <th>service_level</th>\n",
       "      <th>accom_type</th>\n",
       "      <th>max_guest</th>\n",
       "      <th>no_bedroom</th>\n",
       "      <th>no_bed</th>\n",
       "      <th>no_bathroom</th>\n",
       "      <th>_3c0zz14</th>\n",
       "      <th>_3c0zz15</th>\n",
       "      <th>_3c0zz16</th>\n",
       "      <th>_3c0zz17</th>\n",
       "      <th>rating</th>\n",
       "      <th>no_review</th>\n",
       "      <th>price</th>\n",
       "      <th>_tt122m</th>\n",
       "    </tr>\n",
       "  </thead>\n",
       "  <tbody>\n",
       "    <tr>\n",
       "      <th>0</th>\n",
       "      <td>NEW Private Luxe Villa, Jungle View-Pool-Koi Pond</td>\n",
       "      <td>https://www.airbnb.com/rooms/49443276?adults=2...</td>\n",
       "      <td>NaN</td>\n",
       "      <td>Entire villa in Kecamatan Ubud</td>\n",
       "      <td>2 guests</td>\n",
       "      <td>1 bedroom</td>\n",
       "      <td>1 bed</td>\n",
       "      <td>1 bath</td>\n",
       "      <td>Pool</td>\n",
       "      <td>Wifi</td>\n",
       "      <td>Air conditioning</td>\n",
       "      <td>Kitchen</td>\n",
       "      <td>5.00</td>\n",
       "      <td>(13 reviews)</td>\n",
       "      <td>$42</td>\n",
       "      <td>$225 total</td>\n",
       "    </tr>\n",
       "    <tr>\n",
       "      <th>1</th>\n",
       "      <td>-75% New Luxe Villa C, Private Pool/Jungle Views</td>\n",
       "      <td>https://www.airbnb.com/rooms/50444504?adults=2...</td>\n",
       "      <td>NaN</td>\n",
       "      <td>Entire villa in Kecamatan Ubud</td>\n",
       "      <td>2 guests</td>\n",
       "      <td>1 bedroom</td>\n",
       "      <td>0 beds</td>\n",
       "      <td>1 bath</td>\n",
       "      <td>Pool</td>\n",
       "      <td>Wifi</td>\n",
       "      <td>Air conditioning</td>\n",
       "      <td>Kitchen</td>\n",
       "      <td>5.00</td>\n",
       "      <td>(9 reviews)</td>\n",
       "      <td>$38</td>\n",
       "      <td>$205 total</td>\n",
       "    </tr>\n",
       "    <tr>\n",
       "      <th>2</th>\n",
       "      <td>55%OFF|Lasamana Exotic Hideaway W/ Rice Field ...</td>\n",
       "      <td>https://www.airbnb.com/rooms/44411077?adults=2...</td>\n",
       "      <td>SUPERHOST</td>\n",
       "      <td>Private room in Kecamatan Ubud</td>\n",
       "      <td>2 guests</td>\n",
       "      <td>1 bedroom</td>\n",
       "      <td>1 bed</td>\n",
       "      <td>1 private bath</td>\n",
       "      <td>Pool</td>\n",
       "      <td>Wifi</td>\n",
       "      <td>Air conditioning</td>\n",
       "      <td>Kitchen</td>\n",
       "      <td>4.93</td>\n",
       "      <td>(28 reviews)</td>\n",
       "      <td>$47</td>\n",
       "      <td>$233 total</td>\n",
       "    </tr>\n",
       "    <tr>\n",
       "      <th>3</th>\n",
       "      <td>-70%- Chic 2BR private villa with endless rice...</td>\n",
       "      <td>https://www.airbnb.com/rooms/43271847?adults=2...</td>\n",
       "      <td>NaN</td>\n",
       "      <td>Entire villa in Kecamatan Ubud</td>\n",
       "      <td>6 guests</td>\n",
       "      <td>2 bedrooms</td>\n",
       "      <td>2 beds</td>\n",
       "      <td>2 baths</td>\n",
       "      <td>Pool</td>\n",
       "      <td>Wifi</td>\n",
       "      <td>Air conditioning</td>\n",
       "      <td>Kitchen</td>\n",
       "      <td>4.90</td>\n",
       "      <td>(52 reviews)</td>\n",
       "      <td>$215</td>\n",
       "      <td>$1,075 total</td>\n",
       "    </tr>\n",
       "    <tr>\n",
       "      <th>4</th>\n",
       "      <td>Magical Treehouse with Jungle Pool above the R...</td>\n",
       "      <td>https://www.airbnb.com/rooms/plus/792724?adult...</td>\n",
       "      <td>PLUS</td>\n",
       "      <td>Treehouse in Ubud</td>\n",
       "      <td>4 guests</td>\n",
       "      <td>2 bedrooms</td>\n",
       "      <td>3 beds</td>\n",
       "      <td>2 baths</td>\n",
       "      <td>Pool</td>\n",
       "      <td>Wifi</td>\n",
       "      <td>Air conditioning</td>\n",
       "      <td>Kitchen</td>\n",
       "      <td>4.77</td>\n",
       "      <td>(439 reviews)</td>\n",
       "      <td>$280</td>\n",
       "      <td>$1,399 total</td>\n",
       "    </tr>\n",
       "  </tbody>\n",
       "</table>\n",
       "</div>"
      ],
      "text/plain": [
       "                                               Title  \\\n",
       "0  NEW Private Luxe Villa, Jungle View-Pool-Koi Pond   \n",
       "1   -75% New Luxe Villa C, Private Pool/Jungle Views   \n",
       "2  55%OFF|Lasamana Exotic Hideaway W/ Rice Field ...   \n",
       "3  -70%- Chic 2BR private villa with endless rice...   \n",
       "4  Magical Treehouse with Jungle Pool above the R...   \n",
       "\n",
       "                                         listing_url service_level  \\\n",
       "0  https://www.airbnb.com/rooms/49443276?adults=2...           NaN   \n",
       "1  https://www.airbnb.com/rooms/50444504?adults=2...           NaN   \n",
       "2  https://www.airbnb.com/rooms/44411077?adults=2...     SUPERHOST   \n",
       "3  https://www.airbnb.com/rooms/43271847?adults=2...           NaN   \n",
       "4  https://www.airbnb.com/rooms/plus/792724?adult...          PLUS   \n",
       "\n",
       "                       accom_type max_guest  no_bedroom  no_bed  \\\n",
       "0  Entire villa in Kecamatan Ubud  2 guests   1 bedroom   1 bed   \n",
       "1  Entire villa in Kecamatan Ubud  2 guests   1 bedroom  0 beds   \n",
       "2  Private room in Kecamatan Ubud  2 guests   1 bedroom   1 bed   \n",
       "3  Entire villa in Kecamatan Ubud  6 guests  2 bedrooms  2 beds   \n",
       "4               Treehouse in Ubud  4 guests  2 bedrooms  3 beds   \n",
       "\n",
       "      no_bathroom _3c0zz14 _3c0zz15          _3c0zz16 _3c0zz17  rating  \\\n",
       "0          1 bath     Pool     Wifi  Air conditioning  Kitchen    5.00   \n",
       "1          1 bath     Pool     Wifi  Air conditioning  Kitchen    5.00   \n",
       "2  1 private bath     Pool     Wifi  Air conditioning  Kitchen    4.93   \n",
       "3         2 baths     Pool     Wifi  Air conditioning  Kitchen    4.90   \n",
       "4         2 baths     Pool     Wifi  Air conditioning  Kitchen    4.77   \n",
       "\n",
       "       no_review price       _tt122m  \n",
       "0   (13 reviews)   $42    $225 total  \n",
       "1    (9 reviews)   $38    $205 total  \n",
       "2   (28 reviews)   $47    $233 total  \n",
       "3   (52 reviews)  $215  $1,075 total  \n",
       "4  (439 reviews)  $280  $1,399 total  "
      ]
     },
     "execution_count": 2,
     "metadata": {},
     "output_type": "execute_result"
    }
   ],
   "source": [
    "# Load the dataset\n",
    "\n",
    "df = pd.read_csv('airbnb bali-raw dataset.csv') \n",
    "df.head()"
   ]
  },
  {
   "cell_type": "code",
   "execution_count": 3,
   "metadata": {},
   "outputs": [
    {
     "data": {
      "text/plain": [
       "(300, 16)"
      ]
     },
     "execution_count": 3,
     "metadata": {},
     "output_type": "execute_result"
    }
   ],
   "source": [
    "df.shape\n",
    "\n",
    "\n",
    "# This dataset contains 300 rows and 16 columns"
   ]
  },
  {
   "cell_type": "markdown",
   "metadata": {},
   "source": [
    "####    labels explanation:\n",
    "\n",
    "- Title: Accomodation's name and/or general description\n",
    "- listing_url: url for each accommodation\n",
    "- service_level: null, Superhost, or Plus (Superhost is of higher rank than null, Plus is of higher rank than Superhost)\n",
    "- accom_type: type of accommodation + area/neighborhood\n",
    "- max_guest: maximum number of guests that can stay in each accommodation at a time\n",
    "- no_bedroom: total number of bedrooms in each accommodation\n",
    "- no_bed: total number of beds\n",
    "- no_bathroom: total number of bathrooms\n",
    "- _3c0zz14,_3c0zz15, _3c0zz16, _3c0zz17: 4 main amenities as specified in the listing\n",
    "- rating: rating score (1-5)\n",
    "- no_review: total number of customers who have given their review\n",
    "- price: price/night in USD\n",
    "- _tt122m: total price in USD (unused)\n",
    "\n",
    "At a glance, our dataset looks pretty neat and quite easy to understand. However, neat according to human eyes does not necessarily mean neat or readable according to Python. As we can see, some labels are categorical in nature, while the others are numerical. Therefore, the very first thing we need to do after loading our dataset is to check the data types for each label."
   ]
  },
  {
   "cell_type": "markdown",
   "metadata": {},
   "source": [
    "# II. DATA CLEANING"
   ]
  },
  {
   "cell_type": "markdown",
   "metadata": {},
   "source": [
    "## 2.1 Identifying data types"
   ]
  },
  {
   "cell_type": "code",
   "execution_count": 4,
   "metadata": {
    "scrolled": false
   },
   "outputs": [
    {
     "data": {
      "text/plain": [
       "Title             object\n",
       "listing_url       object\n",
       "service_level     object\n",
       "accom_type        object\n",
       "max_guest         object\n",
       "no_bedroom        object\n",
       "no_bed            object\n",
       "no_bathroom       object\n",
       "_3c0zz14          object\n",
       "_3c0zz15          object\n",
       "_3c0zz16          object\n",
       "_3c0zz17          object\n",
       "rating           float64\n",
       "no_review         object\n",
       "price             object\n",
       "_tt122m           object\n",
       "dtype: object"
      ]
     },
     "execution_count": 4,
     "metadata": {},
     "output_type": "execute_result"
    }
   ],
   "source": [
    "# Check data type of each label\n",
    "\n",
    "df.dtypes"
   ]
  },
  {
   "cell_type": "markdown",
   "metadata": {},
   "source": [
    "It is apparent that the only truly numerical column is 'rating' . However, these columns also need to be numerical in order to be usable:\n",
    "- max_guest\n",
    "- no_bedroom       \n",
    "- no_bed          \n",
    "- no_bathroom   \n",
    "- no_review\n",
    "- price"
   ]
  },
  {
   "cell_type": "markdown",
   "metadata": {},
   "source": [
    "## 2.2 Dealing with inappropriate values"
   ]
  },
  {
   "cell_type": "markdown",
   "metadata": {},
   "source": [
    "We need to check whether our dataset contains incorrect values, such as categorical values in numerical variables and slightly different naming for supposedly identical categorical values."
   ]
  },
  {
   "cell_type": "markdown",
   "metadata": {},
   "source": [
    "### 2.2.1 Numerical variables"
   ]
  },
  {
   "cell_type": "markdown",
   "metadata": {},
   "source": [
    "#### 2.2.1.1 Checking for unusual value"
   ]
  },
  {
   "cell_type": "code",
   "execution_count": 5,
   "metadata": {
    "scrolled": true
   },
   "outputs": [
    {
     "data": {
      "text/plain": [
       "array(['2 guests', '6 guests', '4 guests', '3 guests', '16 guests',\n",
       "       '5 guests', '14 guests', '7 guests', '10 guests', '8 guests',\n",
       "       '12 guests'], dtype=object)"
      ]
     },
     "execution_count": 5,
     "metadata": {},
     "output_type": "execute_result"
    }
   ],
   "source": [
    "df['max_guest'].unique() \n",
    "\n",
    "# no unusual value"
   ]
  },
  {
   "cell_type": "code",
   "execution_count": 6,
   "metadata": {
    "scrolled": true
   },
   "outputs": [
    {
     "data": {
      "text/plain": [
       "array(['1 bedroom', '2 bedrooms', '1 private bedroom', '3 bedrooms',\n",
       "       'Studio', '5 bedrooms', '6 bedrooms', '4 bedrooms', '7 bedrooms',\n",
       "       '28 bedrooms'], dtype=object)"
      ]
     },
     "execution_count": 6,
     "metadata": {},
     "output_type": "execute_result"
    }
   ],
   "source": [
    "df['no_bedroom'].unique() \n",
    "\n",
    "# studio means one room, 28 rooms doesnt sound right but we will get back to it later"
   ]
  },
  {
   "cell_type": "code",
   "execution_count": 7,
   "metadata": {},
   "outputs": [
    {
     "data": {
      "text/html": [
       "<div>\n",
       "<style scoped>\n",
       "    .dataframe tbody tr th:only-of-type {\n",
       "        vertical-align: middle;\n",
       "    }\n",
       "\n",
       "    .dataframe tbody tr th {\n",
       "        vertical-align: top;\n",
       "    }\n",
       "\n",
       "    .dataframe thead th {\n",
       "        text-align: right;\n",
       "    }\n",
       "</style>\n",
       "<table border=\"1\" class=\"dataframe\">\n",
       "  <thead>\n",
       "    <tr style=\"text-align: right;\">\n",
       "      <th></th>\n",
       "      <th>Title</th>\n",
       "      <th>listing_url</th>\n",
       "      <th>service_level</th>\n",
       "      <th>accom_type</th>\n",
       "      <th>max_guest</th>\n",
       "      <th>no_bedroom</th>\n",
       "      <th>no_bed</th>\n",
       "      <th>no_bathroom</th>\n",
       "      <th>_3c0zz14</th>\n",
       "      <th>_3c0zz15</th>\n",
       "      <th>_3c0zz16</th>\n",
       "      <th>_3c0zz17</th>\n",
       "      <th>rating</th>\n",
       "      <th>no_review</th>\n",
       "      <th>price</th>\n",
       "      <th>_tt122m</th>\n",
       "    </tr>\n",
       "  </thead>\n",
       "  <tbody>\n",
       "    <tr>\n",
       "      <th>280</th>\n",
       "      <td>Adiwana Bisma</td>\n",
       "      <td>https://www.airbnb.com/rooms/51990429?adults=2...</td>\n",
       "      <td>NaN</td>\n",
       "      <td>Hotel room in Kecamatan Ubud</td>\n",
       "      <td>2 guests</td>\n",
       "      <td>28 bedrooms</td>\n",
       "      <td>1 bed</td>\n",
       "      <td>1 private bath</td>\n",
       "      <td>Pool</td>\n",
       "      <td>Wifi</td>\n",
       "      <td>Air conditioning</td>\n",
       "      <td>NaN</td>\n",
       "      <td>NaN</td>\n",
       "      <td>NaN</td>\n",
       "      <td>$52</td>\n",
       "      <td>$260 total</td>\n",
       "    </tr>\n",
       "  </tbody>\n",
       "</table>\n",
       "</div>"
      ],
      "text/plain": [
       "             Title                                        listing_url  \\\n",
       "280  Adiwana Bisma  https://www.airbnb.com/rooms/51990429?adults=2...   \n",
       "\n",
       "    service_level                    accom_type max_guest   no_bedroom no_bed  \\\n",
       "280           NaN  Hotel room in Kecamatan Ubud  2 guests  28 bedrooms  1 bed   \n",
       "\n",
       "        no_bathroom _3c0zz14 _3c0zz15          _3c0zz16 _3c0zz17  rating  \\\n",
       "280  1 private bath     Pool     Wifi  Air conditioning      NaN     NaN   \n",
       "\n",
       "    no_review price     _tt122m  \n",
       "280       NaN   $52  $260 total  "
      ]
     },
     "execution_count": 7,
     "metadata": {},
     "output_type": "execute_result"
    }
   ],
   "source": [
    "df[df['no_bedroom'] == '28 bedrooms'] \n",
    "\n",
    "\n",
    "# Luckily, we have the url for this particular listing so we can do some investigation\n",
    "# Since it is just a regular hotel room, we can conclude that the number of room is 1"
   ]
  },
  {
   "cell_type": "code",
   "execution_count": 8,
   "metadata": {
    "scrolled": true
   },
   "outputs": [
    {
     "data": {
      "text/plain": [
       "array(['1 bed', '0 beds', '2 beds', '3 beds', '1 private bath', '1 bath',\n",
       "       '6 beds', '7 beds', '9 beds', '5 beds', '4 beds'], dtype=object)"
      ]
     },
     "execution_count": 8,
     "metadata": {},
     "output_type": "execute_result"
    }
   ],
   "source": [
    "df['no_bed'].unique() \n",
    "\n",
    "#'0 beds' looks suspicious"
   ]
  },
  {
   "cell_type": "code",
   "execution_count": 9,
   "metadata": {},
   "outputs": [
    {
     "data": {
      "text/html": [
       "<div>\n",
       "<style scoped>\n",
       "    .dataframe tbody tr th:only-of-type {\n",
       "        vertical-align: middle;\n",
       "    }\n",
       "\n",
       "    .dataframe tbody tr th {\n",
       "        vertical-align: top;\n",
       "    }\n",
       "\n",
       "    .dataframe thead th {\n",
       "        text-align: right;\n",
       "    }\n",
       "</style>\n",
       "<table border=\"1\" class=\"dataframe\">\n",
       "  <thead>\n",
       "    <tr style=\"text-align: right;\">\n",
       "      <th></th>\n",
       "      <th>Title</th>\n",
       "      <th>listing_url</th>\n",
       "      <th>service_level</th>\n",
       "      <th>accom_type</th>\n",
       "      <th>max_guest</th>\n",
       "      <th>no_bedroom</th>\n",
       "      <th>no_bed</th>\n",
       "      <th>no_bathroom</th>\n",
       "      <th>_3c0zz14</th>\n",
       "      <th>_3c0zz15</th>\n",
       "      <th>_3c0zz16</th>\n",
       "      <th>_3c0zz17</th>\n",
       "      <th>rating</th>\n",
       "      <th>no_review</th>\n",
       "      <th>price</th>\n",
       "      <th>_tt122m</th>\n",
       "    </tr>\n",
       "  </thead>\n",
       "  <tbody>\n",
       "    <tr>\n",
       "      <th>1</th>\n",
       "      <td>-75% New Luxe Villa C, Private Pool/Jungle Views</td>\n",
       "      <td>https://www.airbnb.com/rooms/50444504?adults=2...</td>\n",
       "      <td>NaN</td>\n",
       "      <td>Entire villa in Kecamatan Ubud</td>\n",
       "      <td>2 guests</td>\n",
       "      <td>1 bedroom</td>\n",
       "      <td>0 beds</td>\n",
       "      <td>1 bath</td>\n",
       "      <td>Pool</td>\n",
       "      <td>Wifi</td>\n",
       "      <td>Air conditioning</td>\n",
       "      <td>Kitchen</td>\n",
       "      <td>5.00</td>\n",
       "      <td>(9 reviews)</td>\n",
       "      <td>$38</td>\n",
       "      <td>$205 total</td>\n",
       "    </tr>\n",
       "    <tr>\n",
       "      <th>18</th>\n",
       "      <td>Unique wooden house in Balinese Lumbung Style</td>\n",
       "      <td>https://www.airbnb.com/rooms/42480717?adults=2...</td>\n",
       "      <td>NaN</td>\n",
       "      <td>Entire villa in Ubud</td>\n",
       "      <td>2 guests</td>\n",
       "      <td>1 bedroom</td>\n",
       "      <td>0 beds</td>\n",
       "      <td>1 bath</td>\n",
       "      <td>Wifi</td>\n",
       "      <td>Air conditioning</td>\n",
       "      <td>Kitchen</td>\n",
       "      <td>NaN</td>\n",
       "      <td>5.00</td>\n",
       "      <td>(5 reviews)</td>\n",
       "      <td>$30</td>\n",
       "      <td>$148 total</td>\n",
       "    </tr>\n",
       "    <tr>\n",
       "      <th>57</th>\n",
       "      <td>Exclusive Villa, for Couples Looking To Relax</td>\n",
       "      <td>https://www.airbnb.com/rooms/40773716?adults=2...</td>\n",
       "      <td>SUPERHOST</td>\n",
       "      <td>Private room in Kecamatan Ubud</td>\n",
       "      <td>2 guests</td>\n",
       "      <td>1 bedroom</td>\n",
       "      <td>0 beds</td>\n",
       "      <td>1 private bath</td>\n",
       "      <td>Pool</td>\n",
       "      <td>Wifi</td>\n",
       "      <td>Air conditioning</td>\n",
       "      <td>NaN</td>\n",
       "      <td>5.00</td>\n",
       "      <td>(9 reviews)</td>\n",
       "      <td>$69</td>\n",
       "      <td>$371 total</td>\n",
       "    </tr>\n",
       "    <tr>\n",
       "      <th>105</th>\n",
       "      <td>Beautiful Room Near Ubud Market - Large Pool</td>\n",
       "      <td>https://www.airbnb.com/rooms/17592869?adults=2...</td>\n",
       "      <td>SUPERHOST</td>\n",
       "      <td>Hotel room in Ubud</td>\n",
       "      <td>2 guests</td>\n",
       "      <td>1 bedroom</td>\n",
       "      <td>0 beds</td>\n",
       "      <td>1 private bath</td>\n",
       "      <td>Wifi</td>\n",
       "      <td>Air conditioning</td>\n",
       "      <td>NaN</td>\n",
       "      <td>NaN</td>\n",
       "      <td>4.62</td>\n",
       "      <td>(182 reviews)</td>\n",
       "      <td>$23</td>\n",
       "      <td>$113 total</td>\n",
       "    </tr>\n",
       "    <tr>\n",
       "      <th>132</th>\n",
       "      <td>Villa Amrita Ubud Bali One Bedroom</td>\n",
       "      <td>https://www.airbnb.com/rooms/813651?adults=2&amp;c...</td>\n",
       "      <td>SUPERHOST</td>\n",
       "      <td>Entire villa in Tegallalang</td>\n",
       "      <td>7 guests</td>\n",
       "      <td>1 bedroom</td>\n",
       "      <td>0 beds</td>\n",
       "      <td>2 baths</td>\n",
       "      <td>Pool</td>\n",
       "      <td>Wifi</td>\n",
       "      <td>Air conditioning</td>\n",
       "      <td>Kitchen</td>\n",
       "      <td>4.93</td>\n",
       "      <td>(67 reviews)</td>\n",
       "      <td>$143</td>\n",
       "      <td>$713 total</td>\n",
       "    </tr>\n",
       "  </tbody>\n",
       "</table>\n",
       "</div>"
      ],
      "text/plain": [
       "                                                Title  \\\n",
       "1    -75% New Luxe Villa C, Private Pool/Jungle Views   \n",
       "18      Unique wooden house in Balinese Lumbung Style   \n",
       "57      Exclusive Villa, for Couples Looking To Relax   \n",
       "105      Beautiful Room Near Ubud Market - Large Pool   \n",
       "132                Villa Amrita Ubud Bali One Bedroom   \n",
       "\n",
       "                                           listing_url service_level  \\\n",
       "1    https://www.airbnb.com/rooms/50444504?adults=2...           NaN   \n",
       "18   https://www.airbnb.com/rooms/42480717?adults=2...           NaN   \n",
       "57   https://www.airbnb.com/rooms/40773716?adults=2...     SUPERHOST   \n",
       "105  https://www.airbnb.com/rooms/17592869?adults=2...     SUPERHOST   \n",
       "132  https://www.airbnb.com/rooms/813651?adults=2&c...     SUPERHOST   \n",
       "\n",
       "                         accom_type max_guest no_bedroom  no_bed  \\\n",
       "1    Entire villa in Kecamatan Ubud  2 guests  1 bedroom  0 beds   \n",
       "18             Entire villa in Ubud  2 guests  1 bedroom  0 beds   \n",
       "57   Private room in Kecamatan Ubud  2 guests  1 bedroom  0 beds   \n",
       "105              Hotel room in Ubud  2 guests  1 bedroom  0 beds   \n",
       "132     Entire villa in Tegallalang  7 guests  1 bedroom  0 beds   \n",
       "\n",
       "        no_bathroom _3c0zz14          _3c0zz15          _3c0zz16 _3c0zz17  \\\n",
       "1            1 bath     Pool              Wifi  Air conditioning  Kitchen   \n",
       "18           1 bath     Wifi  Air conditioning           Kitchen      NaN   \n",
       "57   1 private bath     Pool              Wifi  Air conditioning      NaN   \n",
       "105  1 private bath     Wifi  Air conditioning               NaN      NaN   \n",
       "132         2 baths     Pool              Wifi  Air conditioning  Kitchen   \n",
       "\n",
       "     rating      no_review price     _tt122m  \n",
       "1      5.00    (9 reviews)   $38  $205 total  \n",
       "18     5.00    (5 reviews)   $30  $148 total  \n",
       "57     5.00    (9 reviews)   $69  $371 total  \n",
       "105    4.62  (182 reviews)   $23  $113 total  \n",
       "132    4.93   (67 reviews)  $143  $713 total  "
      ]
     },
     "execution_count": 9,
     "metadata": {},
     "output_type": "execute_result"
    }
   ],
   "source": [
    "df[df['no_bed'] == '0 beds'].head()\n",
    "\n",
    "\n",
    "# It is pretty unlikely that hotels/villas have no bed (unless if they offer 'unique experience'). Therefore, in this case we would just make\n",
    "# an educated guess where if the number of bed is 0, we would replace it with the values on 'no_bedroom'"
   ]
  },
  {
   "cell_type": "code",
   "execution_count": 10,
   "metadata": {},
   "outputs": [
    {
     "data": {
      "text/plain": [
       "array(['1 bath', '1 private bath', '2 baths', '2 shared baths',\n",
       "       '2.5 baths', '1.5 baths', nan, '3 baths', '1.5 shared baths',\n",
       "       '1 shared bath', '5.5 baths', '6 baths', '3.5 baths', '4 baths',\n",
       "       'Kitchen', '5 baths', '7 baths'], dtype=object)"
      ]
     },
     "execution_count": 10,
     "metadata": {},
     "output_type": "execute_result"
    }
   ],
   "source": [
    "df['no_bathroom'].unique() \n",
    "\n",
    "# unusual value 'Kitchen' in 'no_bathroom'"
   ]
  },
  {
   "cell_type": "code",
   "execution_count": 11,
   "metadata": {},
   "outputs": [
    {
     "data": {
      "text/html": [
       "<div>\n",
       "<style scoped>\n",
       "    .dataframe tbody tr th:only-of-type {\n",
       "        vertical-align: middle;\n",
       "    }\n",
       "\n",
       "    .dataframe tbody tr th {\n",
       "        vertical-align: top;\n",
       "    }\n",
       "\n",
       "    .dataframe thead th {\n",
       "        text-align: right;\n",
       "    }\n",
       "</style>\n",
       "<table border=\"1\" class=\"dataframe\">\n",
       "  <thead>\n",
       "    <tr style=\"text-align: right;\">\n",
       "      <th></th>\n",
       "      <th>Title</th>\n",
       "      <th>listing_url</th>\n",
       "      <th>service_level</th>\n",
       "      <th>accom_type</th>\n",
       "      <th>max_guest</th>\n",
       "      <th>no_bedroom</th>\n",
       "      <th>no_bed</th>\n",
       "      <th>no_bathroom</th>\n",
       "      <th>_3c0zz14</th>\n",
       "      <th>_3c0zz15</th>\n",
       "      <th>_3c0zz16</th>\n",
       "      <th>_3c0zz17</th>\n",
       "      <th>rating</th>\n",
       "      <th>no_review</th>\n",
       "      <th>price</th>\n",
       "      <th>_tt122m</th>\n",
       "    </tr>\n",
       "  </thead>\n",
       "  <tbody>\n",
       "    <tr>\n",
       "      <th>169</th>\n",
       "      <td>Paradise River side Bungalow 2</td>\n",
       "      <td>https://www.airbnb.com/rooms/47837699?adults=2...</td>\n",
       "      <td>NaN</td>\n",
       "      <td>Room in boutique hotel in Kecamatan Ubud</td>\n",
       "      <td>2 guests</td>\n",
       "      <td>1 bedroom</td>\n",
       "      <td>1 bed</td>\n",
       "      <td>Kitchen</td>\n",
       "      <td>Pool</td>\n",
       "      <td>Wifi</td>\n",
       "      <td>Air conditioning</td>\n",
       "      <td>Kitchen</td>\n",
       "      <td>5.0</td>\n",
       "      <td>(3 reviews)</td>\n",
       "      <td>$17</td>\n",
       "      <td>$86 total</td>\n",
       "    </tr>\n",
       "    <tr>\n",
       "      <th>214</th>\n",
       "      <td>Private Pool Villa @ Uma Jala Villa Ubud</td>\n",
       "      <td>https://www.airbnb.com/rooms/50879242?adults=2...</td>\n",
       "      <td>NaN</td>\n",
       "      <td>Entire villa in Kecamatan Ubud</td>\n",
       "      <td>2 guests</td>\n",
       "      <td>1 bedroom</td>\n",
       "      <td>1 bath</td>\n",
       "      <td>Kitchen</td>\n",
       "      <td>Pool</td>\n",
       "      <td>Wifi</td>\n",
       "      <td>Air conditioning</td>\n",
       "      <td>Kitchen</td>\n",
       "      <td>NaN</td>\n",
       "      <td>NaN</td>\n",
       "      <td>$40</td>\n",
       "      <td>$200 total</td>\n",
       "    </tr>\n",
       "  </tbody>\n",
       "</table>\n",
       "</div>"
      ],
      "text/plain": [
       "                                        Title  \\\n",
       "169            Paradise River side Bungalow 2   \n",
       "214  Private Pool Villa @ Uma Jala Villa Ubud   \n",
       "\n",
       "                                           listing_url service_level  \\\n",
       "169  https://www.airbnb.com/rooms/47837699?adults=2...           NaN   \n",
       "214  https://www.airbnb.com/rooms/50879242?adults=2...           NaN   \n",
       "\n",
       "                                   accom_type max_guest no_bedroom  no_bed  \\\n",
       "169  Room in boutique hotel in Kecamatan Ubud  2 guests  1 bedroom   1 bed   \n",
       "214            Entire villa in Kecamatan Ubud  2 guests  1 bedroom  1 bath   \n",
       "\n",
       "    no_bathroom _3c0zz14 _3c0zz15          _3c0zz16 _3c0zz17  rating  \\\n",
       "169     Kitchen     Pool     Wifi  Air conditioning  Kitchen     5.0   \n",
       "214     Kitchen     Pool     Wifi  Air conditioning  Kitchen     NaN   \n",
       "\n",
       "       no_review price     _tt122m  \n",
       "169  (3 reviews)   $17   $86 total  \n",
       "214          NaN   $40  $200 total  "
      ]
     },
     "execution_count": 11,
     "metadata": {},
     "output_type": "execute_result"
    }
   ],
   "source": [
    "df[df['no_bathroom'] == 'Kitchen']\n",
    "\n",
    "# Because the two listings that have Kitchen in 'no_bathroom' have one bedroom, we would just assume that the number of bathroom is also one.\n",
    "\n"
   ]
  },
  {
   "cell_type": "code",
   "execution_count": 12,
   "metadata": {
    "scrolled": true
   },
   "outputs": [
    {
     "data": {
      "text/plain": [
       "array([5.  , 4.93, 4.9 , 4.77,  nan, 4.92, 4.71, 4.88, 4.76, 4.78, 4.68,\n",
       "       4.91, 4.73, 4.79, 4.62, 4.86, 4.96, 4.85, 4.2 , 4.87, 4.83, 4.67,\n",
       "       4.95, 4.94, 4.98, 4.74, 4.8 , 4.99, 4.81, 4.45, 4.89, 4.75, 4.59,\n",
       "       4.7 , 4.6 , 4.72, 4.24, 4.84, 4.65, 4.64, 4.69, 4.19, 4.82, 3.71,\n",
       "       4.97, 4.61, 4.55, 4.53, 4.56, 3.92, 4.5 , 4.57])"
      ]
     },
     "execution_count": 12,
     "metadata": {},
     "output_type": "execute_result"
    }
   ],
   "source": [
    "df['rating'].unique() \n",
    "\n",
    "#no unusual value"
   ]
  },
  {
   "cell_type": "code",
   "execution_count": 13,
   "metadata": {},
   "outputs": [
    {
     "data": {
      "text/plain": [
       "array(['(13 reviews)', '(9 reviews)', '(28 reviews)', '(52 reviews)',\n",
       "       '(439 reviews)', '(47 reviews)', nan, '(36 reviews)',\n",
       "       '(445 reviews)', '(181 reviews)', '(49 reviews)', '(268 reviews)',\n",
       "       '(95 reviews)', '(99 reviews)', '(8 reviews)', '(128 reviews)',\n",
       "       '(22 reviews)', '(271 reviews)', '(5 reviews)', '(19 reviews)',\n",
       "       '(312 reviews)', '(66 reviews)', '(29 reviews)', '(3 reviews)',\n",
       "       '(7 reviews)', '(20 reviews)', '(14 reviews)', '(117 reviews)',\n",
       "       '(10 reviews)', '(126 reviews)', '(67 reviews)', '(18 reviews)',\n",
       "       '(138 reviews)', '(113 reviews)', '(338 reviews)', '(63 reviews)',\n",
       "       '(31 reviews)', '(165 reviews)', '(27 reviews)', '(143 reviews)',\n",
       "       '(12 reviews)', '(69 reviews)', '(85 reviews)', '(64 reviews)',\n",
       "       '(38 reviews)', '(140 reviews)', '(98 reviews)', '(178 reviews)',\n",
       "       '(74 reviews)', '(105 reviews)', '(337 reviews)', '(91 reviews)',\n",
       "       '(16 reviews)', '(73 reviews)', '(15 reviews)', '(108 reviews)',\n",
       "       '(68 reviews)', '(147 reviews)', '(111 reviews)', '(171 reviews)',\n",
       "       '(4 reviews)', '(86 reviews)', '(41 reviews)', '(153 reviews)',\n",
       "       '(59 reviews)', '(182 reviews)', '(44 reviews)', '(34 reviews)',\n",
       "       '(45 reviews)', '(152 reviews)', '(131 reviews)', '(106 reviews)',\n",
       "       '(23 reviews)', '(212 reviews)', '(25 reviews)', '(17 reviews)',\n",
       "       '(6 reviews)', '(330 reviews)', '(196 reviews)', '(150 reviews)',\n",
       "       '(124 reviews)', '(316 reviews)', '(180 reviews)', '(60 reviews)',\n",
       "       '(213 reviews)', '(132 reviews)', '(582 reviews)', '(174 reviews)',\n",
       "       '(421 reviews)', '(43 reviews)', '(32 reviews)', '(183 reviews)',\n",
       "       '(26 reviews)', '(161 reviews)', '(218 reviews)', '(256 reviews)',\n",
       "       '(57 reviews)', '(80 reviews)', '(169 reviews)', '(104 reviews)',\n",
       "       '(141 reviews)', '(33 reviews)', '(300 reviews)', '(304 reviews)',\n",
       "       '(310 reviews)', '(88 reviews)', '(58 reviews)', '(55 reviews)',\n",
       "       '(50 reviews)', '(56 reviews)', '(228 reviews)', '(137 reviews)',\n",
       "       '(11 reviews)', '(48 reviews)', '(24 reviews)', '(35 reviews)',\n",
       "       '(78 reviews)', '(317 reviews)', '(245 reviews)', '(37 reviews)',\n",
       "       '(352 reviews)', '(170 reviews)', '(175 reviews)', '(42 reviews)',\n",
       "       '(122 reviews)', '(40 reviews)', '(378 reviews)', '(97 reviews)',\n",
       "       '(133 reviews)', '(53 reviews)'], dtype=object)"
      ]
     },
     "execution_count": 13,
     "metadata": {},
     "output_type": "execute_result"
    }
   ],
   "source": [
    "df['no_review'].unique() \n",
    "\n",
    "#no unusual value"
   ]
  },
  {
   "cell_type": "code",
   "execution_count": 14,
   "metadata": {},
   "outputs": [
    {
     "data": {
      "text/plain": [
       "array(['$42', '$38', '$47', '$215', '$280', '$49', '$105', '$354', '$32',\n",
       "       '$80', '$16', '$294', '$12', '$119', '$66', '$537', '$107', '$176',\n",
       "       '$30', '$63', '$120', '$41', '$24', '$144', '$56', '$60', '$81',\n",
       "       '$89', '$250', '$68', '$35', '$126', '$295', '$88', '$174', '$154',\n",
       "       '$207', '$108', '$73', '$100', '$76', '$134', '$48', '$39', '$69',\n",
       "       '$84', '$45', '$160', '$33', '$17', '$129', '$40', '$23', '$55',\n",
       "       '$72', '$28', '$128', '$82', '$54', '$19', '$26', '$102', '$175',\n",
       "       '$70', '$90', '$64', '$36', '$161', '$121', '$198', '$256', '$75',\n",
       "       '$200', '$193', '$59', '$34', '$25', '$112', '$101', '$202', '$14',\n",
       "       '$768', '$399', '$95', '$62', '$13', '$91', '$143', '$20', '$132',\n",
       "       '$149', '$172', '$195', '$206', '$127', '$273', '$58', '$83',\n",
       "       '$50', '$224', '$531', '$155', '$96', '$43', '$204', '$118',\n",
       "       '$480', '$11', '$168', '$413', '$151', '$29', '$167', '$342',\n",
       "       '$15', '$22', '$650', '$472', '$125', '$77', '$152', '$31', '$52',\n",
       "       '$137', '$286', '$640', '$78', '$86', '$97', '$44', '$71', '$74',\n",
       "       '$46', '$139', '$400', '$79', '$173', '$53', '$307', '$302', '$18',\n",
       "       '$359', '$171'], dtype=object)"
      ]
     },
     "execution_count": 14,
     "metadata": {},
     "output_type": "execute_result"
    }
   ],
   "source": [
    "df['price'].unique() \n",
    "\n",
    "#no unusual value"
   ]
  },
  {
   "cell_type": "markdown",
   "metadata": {},
   "source": [
    "#### 2.2.1.2. Inputting the correct value"
   ]
  },
  {
   "cell_type": "markdown",
   "metadata": {},
   "source": [
    "Let's correct the wrong values:"
   ]
  },
  {
   "cell_type": "code",
   "execution_count": 15,
   "metadata": {
    "scrolled": true
   },
   "outputs": [],
   "source": [
    "# Change value of 'Studio' to '1 bedroom'\n",
    "\n",
    "for i in range(len(df)):\n",
    "    if df.iloc[i,5] == 'Studio':\n",
    "        df.iloc[i,5] = '1 bedroom'\n",
    "    df"
   ]
  },
  {
   "cell_type": "code",
   "execution_count": 16,
   "metadata": {
    "scrolled": true
   },
   "outputs": [],
   "source": [
    "# Change value of 'Kitchen' to '1 bath'\n",
    "\n",
    "for i in range(len(df)):\n",
    "    if df.iloc[i,7] == 'Kitchen':\n",
    "        df.iloc[i,7] = '1 bath'\n",
    "    df"
   ]
  },
  {
   "cell_type": "code",
   "execution_count": 17,
   "metadata": {},
   "outputs": [
    {
     "data": {
      "text/plain": [
       "array(['1 bedroom', '2 bedrooms', '1 private bedroom', '3 bedrooms',\n",
       "       '5 bedrooms', '6 bedrooms', '4 bedrooms', '7 bedrooms',\n",
       "       '28 bedrooms'], dtype=object)"
      ]
     },
     "execution_count": 17,
     "metadata": {},
     "output_type": "execute_result"
    }
   ],
   "source": [
    "df['no_bedroom'].unique() # No more 'Studio'"
   ]
  },
  {
   "cell_type": "code",
   "execution_count": 18,
   "metadata": {},
   "outputs": [
    {
     "data": {
      "text/plain": [
       "array(['1 bath', '1 private bath', '2 baths', '2 shared baths',\n",
       "       '2.5 baths', '1.5 baths', nan, '3 baths', '1.5 shared baths',\n",
       "       '1 shared bath', '5.5 baths', '6 baths', '3.5 baths', '4 baths',\n",
       "       '5 baths', '7 baths'], dtype=object)"
      ]
     },
     "execution_count": 18,
     "metadata": {},
     "output_type": "execute_result"
    }
   ],
   "source": [
    "df['no_bathroom'].unique() # No more 'kitchen'"
   ]
  },
  {
   "cell_type": "markdown",
   "metadata": {},
   "source": [
    "#### 2.2.1.3 Changing data types"
   ]
  },
  {
   "cell_type": "code",
   "execution_count": 19,
   "metadata": {
    "scrolled": true
   },
   "outputs": [],
   "source": [
    "#Change from string to float:\n",
    "\n",
    "df['max_guest'] = df['max_guest'].str.split(' ').str[0]\n",
    "df['max_guest'] = df['max_guest'].astype(float)\n",
    "\n",
    "df['no_bedroom'] = df['no_bedroom'].str.split(' ').str[0]\n",
    "df['no_bedroom'] = df['no_bedroom'].astype(float)\n",
    "\n",
    "df['no_bed'] = df['no_bed'].str.split(' ').str[0]\n",
    "df['no_bed'] = df['no_bed'].astype(float)\n",
    "\n",
    "df['no_bathroom'] = df['no_bathroom'].str.split(' ').str[0]\n",
    "df['no_bathroom'] = df['no_bathroom'].astype(float)\n",
    "\n",
    "df['no_review'] = df['no_review'].str.replace('(' or ')', '')\n",
    "df['no_review'] = df['no_review'].str.split(' ').str[0]\n",
    "df['no_review'] = df['no_review'].astype(float)\n",
    "\n",
    "df['price'] = df['price'].str.replace('$','')\n",
    "df['price'] = df['price'].astype(float)"
   ]
  },
  {
   "cell_type": "code",
   "execution_count": 20,
   "metadata": {
    "scrolled": true
   },
   "outputs": [
    {
     "data": {
      "text/html": [
       "<div>\n",
       "<style scoped>\n",
       "    .dataframe tbody tr th:only-of-type {\n",
       "        vertical-align: middle;\n",
       "    }\n",
       "\n",
       "    .dataframe tbody tr th {\n",
       "        vertical-align: top;\n",
       "    }\n",
       "\n",
       "    .dataframe thead th {\n",
       "        text-align: right;\n",
       "    }\n",
       "</style>\n",
       "<table border=\"1\" class=\"dataframe\">\n",
       "  <thead>\n",
       "    <tr style=\"text-align: right;\">\n",
       "      <th></th>\n",
       "      <th>Title</th>\n",
       "      <th>listing_url</th>\n",
       "      <th>service_level</th>\n",
       "      <th>accom_type</th>\n",
       "      <th>max_guest</th>\n",
       "      <th>no_bedroom</th>\n",
       "      <th>no_bed</th>\n",
       "      <th>no_bathroom</th>\n",
       "      <th>_3c0zz14</th>\n",
       "      <th>_3c0zz15</th>\n",
       "      <th>_3c0zz16</th>\n",
       "      <th>_3c0zz17</th>\n",
       "      <th>rating</th>\n",
       "      <th>no_review</th>\n",
       "      <th>price</th>\n",
       "      <th>_tt122m</th>\n",
       "    </tr>\n",
       "  </thead>\n",
       "  <tbody>\n",
       "    <tr>\n",
       "      <th>0</th>\n",
       "      <td>NEW Private Luxe Villa, Jungle View-Pool-Koi Pond</td>\n",
       "      <td>https://www.airbnb.com/rooms/49443276?adults=2...</td>\n",
       "      <td>NaN</td>\n",
       "      <td>Entire villa in Kecamatan Ubud</td>\n",
       "      <td>2.0</td>\n",
       "      <td>1.0</td>\n",
       "      <td>1.0</td>\n",
       "      <td>1.0</td>\n",
       "      <td>Pool</td>\n",
       "      <td>Wifi</td>\n",
       "      <td>Air conditioning</td>\n",
       "      <td>Kitchen</td>\n",
       "      <td>5.00</td>\n",
       "      <td>13.0</td>\n",
       "      <td>42.0</td>\n",
       "      <td>$225 total</td>\n",
       "    </tr>\n",
       "    <tr>\n",
       "      <th>1</th>\n",
       "      <td>-75% New Luxe Villa C, Private Pool/Jungle Views</td>\n",
       "      <td>https://www.airbnb.com/rooms/50444504?adults=2...</td>\n",
       "      <td>NaN</td>\n",
       "      <td>Entire villa in Kecamatan Ubud</td>\n",
       "      <td>2.0</td>\n",
       "      <td>1.0</td>\n",
       "      <td>1.0</td>\n",
       "      <td>1.0</td>\n",
       "      <td>Pool</td>\n",
       "      <td>Wifi</td>\n",
       "      <td>Air conditioning</td>\n",
       "      <td>Kitchen</td>\n",
       "      <td>5.00</td>\n",
       "      <td>9.0</td>\n",
       "      <td>38.0</td>\n",
       "      <td>$205 total</td>\n",
       "    </tr>\n",
       "    <tr>\n",
       "      <th>2</th>\n",
       "      <td>55%OFF|Lasamana Exotic Hideaway W/ Rice Field ...</td>\n",
       "      <td>https://www.airbnb.com/rooms/44411077?adults=2...</td>\n",
       "      <td>SUPERHOST</td>\n",
       "      <td>Private room in Kecamatan Ubud</td>\n",
       "      <td>2.0</td>\n",
       "      <td>1.0</td>\n",
       "      <td>1.0</td>\n",
       "      <td>1.0</td>\n",
       "      <td>Pool</td>\n",
       "      <td>Wifi</td>\n",
       "      <td>Air conditioning</td>\n",
       "      <td>Kitchen</td>\n",
       "      <td>4.93</td>\n",
       "      <td>28.0</td>\n",
       "      <td>47.0</td>\n",
       "      <td>$233 total</td>\n",
       "    </tr>\n",
       "    <tr>\n",
       "      <th>3</th>\n",
       "      <td>-70%- Chic 2BR private villa with endless rice...</td>\n",
       "      <td>https://www.airbnb.com/rooms/43271847?adults=2...</td>\n",
       "      <td>NaN</td>\n",
       "      <td>Entire villa in Kecamatan Ubud</td>\n",
       "      <td>6.0</td>\n",
       "      <td>2.0</td>\n",
       "      <td>2.0</td>\n",
       "      <td>2.0</td>\n",
       "      <td>Pool</td>\n",
       "      <td>Wifi</td>\n",
       "      <td>Air conditioning</td>\n",
       "      <td>Kitchen</td>\n",
       "      <td>4.90</td>\n",
       "      <td>52.0</td>\n",
       "      <td>215.0</td>\n",
       "      <td>$1,075 total</td>\n",
       "    </tr>\n",
       "    <tr>\n",
       "      <th>4</th>\n",
       "      <td>Magical Treehouse with Jungle Pool above the R...</td>\n",
       "      <td>https://www.airbnb.com/rooms/plus/792724?adult...</td>\n",
       "      <td>PLUS</td>\n",
       "      <td>Treehouse in Ubud</td>\n",
       "      <td>4.0</td>\n",
       "      <td>2.0</td>\n",
       "      <td>3.0</td>\n",
       "      <td>2.0</td>\n",
       "      <td>Pool</td>\n",
       "      <td>Wifi</td>\n",
       "      <td>Air conditioning</td>\n",
       "      <td>Kitchen</td>\n",
       "      <td>4.77</td>\n",
       "      <td>439.0</td>\n",
       "      <td>280.0</td>\n",
       "      <td>$1,399 total</td>\n",
       "    </tr>\n",
       "  </tbody>\n",
       "</table>\n",
       "</div>"
      ],
      "text/plain": [
       "                                               Title  \\\n",
       "0  NEW Private Luxe Villa, Jungle View-Pool-Koi Pond   \n",
       "1   -75% New Luxe Villa C, Private Pool/Jungle Views   \n",
       "2  55%OFF|Lasamana Exotic Hideaway W/ Rice Field ...   \n",
       "3  -70%- Chic 2BR private villa with endless rice...   \n",
       "4  Magical Treehouse with Jungle Pool above the R...   \n",
       "\n",
       "                                         listing_url service_level  \\\n",
       "0  https://www.airbnb.com/rooms/49443276?adults=2...           NaN   \n",
       "1  https://www.airbnb.com/rooms/50444504?adults=2...           NaN   \n",
       "2  https://www.airbnb.com/rooms/44411077?adults=2...     SUPERHOST   \n",
       "3  https://www.airbnb.com/rooms/43271847?adults=2...           NaN   \n",
       "4  https://www.airbnb.com/rooms/plus/792724?adult...          PLUS   \n",
       "\n",
       "                       accom_type  max_guest  no_bedroom  no_bed  no_bathroom  \\\n",
       "0  Entire villa in Kecamatan Ubud        2.0         1.0     1.0          1.0   \n",
       "1  Entire villa in Kecamatan Ubud        2.0         1.0     1.0          1.0   \n",
       "2  Private room in Kecamatan Ubud        2.0         1.0     1.0          1.0   \n",
       "3  Entire villa in Kecamatan Ubud        6.0         2.0     2.0          2.0   \n",
       "4               Treehouse in Ubud        4.0         2.0     3.0          2.0   \n",
       "\n",
       "  _3c0zz14 _3c0zz15          _3c0zz16 _3c0zz17  rating  no_review  price  \\\n",
       "0     Pool     Wifi  Air conditioning  Kitchen    5.00       13.0   42.0   \n",
       "1     Pool     Wifi  Air conditioning  Kitchen    5.00        9.0   38.0   \n",
       "2     Pool     Wifi  Air conditioning  Kitchen    4.93       28.0   47.0   \n",
       "3     Pool     Wifi  Air conditioning  Kitchen    4.90       52.0  215.0   \n",
       "4     Pool     Wifi  Air conditioning  Kitchen    4.77      439.0  280.0   \n",
       "\n",
       "        _tt122m  \n",
       "0    $225 total  \n",
       "1    $205 total  \n",
       "2    $233 total  \n",
       "3  $1,075 total  \n",
       "4  $1,399 total  "
      ]
     },
     "execution_count": 20,
     "metadata": {},
     "output_type": "execute_result"
    }
   ],
   "source": [
    "# we should not forget that some values in 'no_bedroom' and 'no_bed' need some changing\n",
    "\n",
    "df.loc[280, 'no_bedroom'] = 1 # change 28 bedrooms to 1\n",
    "\n",
    "for i in range(len(df)):\n",
    "    if df.iloc[i, 6] == 0:\n",
    "        df.iloc[i, 6] = df.iloc[i, 5]\n",
    "        \n",
    "df.head()"
   ]
  },
  {
   "cell_type": "code",
   "execution_count": 21,
   "metadata": {},
   "outputs": [
    {
     "data": {
      "text/html": [
       "<div>\n",
       "<style scoped>\n",
       "    .dataframe tbody tr th:only-of-type {\n",
       "        vertical-align: middle;\n",
       "    }\n",
       "\n",
       "    .dataframe tbody tr th {\n",
       "        vertical-align: top;\n",
       "    }\n",
       "\n",
       "    .dataframe thead th {\n",
       "        text-align: right;\n",
       "    }\n",
       "</style>\n",
       "<table border=\"1\" class=\"dataframe\">\n",
       "  <thead>\n",
       "    <tr style=\"text-align: right;\">\n",
       "      <th></th>\n",
       "      <th>max_guest</th>\n",
       "      <th>no_bedroom</th>\n",
       "      <th>no_bed</th>\n",
       "      <th>no_bathroom</th>\n",
       "      <th>rating</th>\n",
       "      <th>no_review</th>\n",
       "      <th>price</th>\n",
       "    </tr>\n",
       "  </thead>\n",
       "  <tbody>\n",
       "    <tr>\n",
       "      <th>count</th>\n",
       "      <td>300.000000</td>\n",
       "      <td>300.000000</td>\n",
       "      <td>300.000000</td>\n",
       "      <td>297.000000</td>\n",
       "      <td>227.000000</td>\n",
       "      <td>227.000000</td>\n",
       "      <td>300.000000</td>\n",
       "    </tr>\n",
       "    <tr>\n",
       "      <th>mean</th>\n",
       "      <td>2.983333</td>\n",
       "      <td>1.396667</td>\n",
       "      <td>1.523333</td>\n",
       "      <td>1.489899</td>\n",
       "      <td>4.821233</td>\n",
       "      <td>83.361233</td>\n",
       "      <td>107.043333</td>\n",
       "    </tr>\n",
       "    <tr>\n",
       "      <th>std</th>\n",
       "      <td>2.063310</td>\n",
       "      <td>0.876670</td>\n",
       "      <td>1.143305</td>\n",
       "      <td>0.939864</td>\n",
       "      <td>0.181406</td>\n",
       "      <td>99.218771</td>\n",
       "      <td>125.731205</td>\n",
       "    </tr>\n",
       "    <tr>\n",
       "      <th>min</th>\n",
       "      <td>2.000000</td>\n",
       "      <td>1.000000</td>\n",
       "      <td>1.000000</td>\n",
       "      <td>1.000000</td>\n",
       "      <td>3.710000</td>\n",
       "      <td>3.000000</td>\n",
       "      <td>11.000000</td>\n",
       "    </tr>\n",
       "    <tr>\n",
       "      <th>25%</th>\n",
       "      <td>2.000000</td>\n",
       "      <td>1.000000</td>\n",
       "      <td>1.000000</td>\n",
       "      <td>1.000000</td>\n",
       "      <td>4.735000</td>\n",
       "      <td>13.500000</td>\n",
       "      <td>36.000000</td>\n",
       "    </tr>\n",
       "    <tr>\n",
       "      <th>50%</th>\n",
       "      <td>2.000000</td>\n",
       "      <td>1.000000</td>\n",
       "      <td>1.000000</td>\n",
       "      <td>1.000000</td>\n",
       "      <td>4.860000</td>\n",
       "      <td>44.000000</td>\n",
       "      <td>63.500000</td>\n",
       "    </tr>\n",
       "    <tr>\n",
       "      <th>75%</th>\n",
       "      <td>4.000000</td>\n",
       "      <td>2.000000</td>\n",
       "      <td>2.000000</td>\n",
       "      <td>2.000000</td>\n",
       "      <td>4.945000</td>\n",
       "      <td>127.000000</td>\n",
       "      <td>126.000000</td>\n",
       "    </tr>\n",
       "    <tr>\n",
       "      <th>max</th>\n",
       "      <td>16.000000</td>\n",
       "      <td>7.000000</td>\n",
       "      <td>9.000000</td>\n",
       "      <td>7.000000</td>\n",
       "      <td>5.000000</td>\n",
       "      <td>582.000000</td>\n",
       "      <td>768.000000</td>\n",
       "    </tr>\n",
       "  </tbody>\n",
       "</table>\n",
       "</div>"
      ],
      "text/plain": [
       "        max_guest  no_bedroom      no_bed  no_bathroom      rating  \\\n",
       "count  300.000000  300.000000  300.000000   297.000000  227.000000   \n",
       "mean     2.983333    1.396667    1.523333     1.489899    4.821233   \n",
       "std      2.063310    0.876670    1.143305     0.939864    0.181406   \n",
       "min      2.000000    1.000000    1.000000     1.000000    3.710000   \n",
       "25%      2.000000    1.000000    1.000000     1.000000    4.735000   \n",
       "50%      2.000000    1.000000    1.000000     1.000000    4.860000   \n",
       "75%      4.000000    2.000000    2.000000     2.000000    4.945000   \n",
       "max     16.000000    7.000000    9.000000     7.000000    5.000000   \n",
       "\n",
       "        no_review       price  \n",
       "count  227.000000  300.000000  \n",
       "mean    83.361233  107.043333  \n",
       "std     99.218771  125.731205  \n",
       "min      3.000000   11.000000  \n",
       "25%     13.500000   36.000000  \n",
       "50%     44.000000   63.500000  \n",
       "75%    127.000000  126.000000  \n",
       "max    582.000000  768.000000  "
      ]
     },
     "execution_count": 21,
     "metadata": {},
     "output_type": "execute_result"
    }
   ],
   "source": [
    "df.describe()"
   ]
  },
  {
   "cell_type": "markdown",
   "metadata": {},
   "source": [
    "### 2.2.2. Categorical variables"
   ]
  },
  {
   "cell_type": "markdown",
   "metadata": {},
   "source": [
    "#### 2.2.2.1 Checking for unusual values"
   ]
  },
  {
   "cell_type": "code",
   "execution_count": 22,
   "metadata": {},
   "outputs": [
    {
     "data": {
      "text/plain": [
       "array([nan, 'SUPERHOST', 'PLUS'], dtype=object)"
      ]
     },
     "execution_count": 22,
     "metadata": {},
     "output_type": "execute_result"
    }
   ],
   "source": [
    "df['service_level'].unique() #no unusual value"
   ]
  },
  {
   "cell_type": "code",
   "execution_count": 23,
   "metadata": {
    "scrolled": true
   },
   "outputs": [
    {
     "data": {
      "text/html": [
       "<div>\n",
       "<style scoped>\n",
       "    .dataframe tbody tr th:only-of-type {\n",
       "        vertical-align: middle;\n",
       "    }\n",
       "\n",
       "    .dataframe tbody tr th {\n",
       "        vertical-align: top;\n",
       "    }\n",
       "\n",
       "    .dataframe thead th {\n",
       "        text-align: right;\n",
       "    }\n",
       "</style>\n",
       "<table border=\"1\" class=\"dataframe\">\n",
       "  <thead>\n",
       "    <tr style=\"text-align: right;\">\n",
       "      <th></th>\n",
       "      <th>Title</th>\n",
       "      <th>listing_url</th>\n",
       "      <th>service_level</th>\n",
       "      <th>accom_type</th>\n",
       "      <th>max_guest</th>\n",
       "      <th>no_bedroom</th>\n",
       "      <th>no_bed</th>\n",
       "      <th>no_bathroom</th>\n",
       "      <th>_3c0zz14</th>\n",
       "      <th>_3c0zz15</th>\n",
       "      <th>_3c0zz16</th>\n",
       "      <th>_3c0zz17</th>\n",
       "      <th>rating</th>\n",
       "      <th>no_review</th>\n",
       "      <th>price</th>\n",
       "      <th>_tt122m</th>\n",
       "      <th>type</th>\n",
       "      <th>area</th>\n",
       "    </tr>\n",
       "  </thead>\n",
       "  <tbody>\n",
       "    <tr>\n",
       "      <th>0</th>\n",
       "      <td>NEW Private Luxe Villa, Jungle View-Pool-Koi Pond</td>\n",
       "      <td>https://www.airbnb.com/rooms/49443276?adults=2...</td>\n",
       "      <td>NaN</td>\n",
       "      <td>Entire villa in Kecamatan Ubud</td>\n",
       "      <td>2.0</td>\n",
       "      <td>1.0</td>\n",
       "      <td>1.0</td>\n",
       "      <td>1.0</td>\n",
       "      <td>Pool</td>\n",
       "      <td>Wifi</td>\n",
       "      <td>Air conditioning</td>\n",
       "      <td>Kitchen</td>\n",
       "      <td>5.00</td>\n",
       "      <td>13.0</td>\n",
       "      <td>42.0</td>\n",
       "      <td>$225 total</td>\n",
       "      <td>Entire villa</td>\n",
       "      <td>Kecamatan Ubud</td>\n",
       "    </tr>\n",
       "    <tr>\n",
       "      <th>1</th>\n",
       "      <td>-75% New Luxe Villa C, Private Pool/Jungle Views</td>\n",
       "      <td>https://www.airbnb.com/rooms/50444504?adults=2...</td>\n",
       "      <td>NaN</td>\n",
       "      <td>Entire villa in Kecamatan Ubud</td>\n",
       "      <td>2.0</td>\n",
       "      <td>1.0</td>\n",
       "      <td>1.0</td>\n",
       "      <td>1.0</td>\n",
       "      <td>Pool</td>\n",
       "      <td>Wifi</td>\n",
       "      <td>Air conditioning</td>\n",
       "      <td>Kitchen</td>\n",
       "      <td>5.00</td>\n",
       "      <td>9.0</td>\n",
       "      <td>38.0</td>\n",
       "      <td>$205 total</td>\n",
       "      <td>Entire villa</td>\n",
       "      <td>Kecamatan Ubud</td>\n",
       "    </tr>\n",
       "    <tr>\n",
       "      <th>2</th>\n",
       "      <td>55%OFF|Lasamana Exotic Hideaway W/ Rice Field ...</td>\n",
       "      <td>https://www.airbnb.com/rooms/44411077?adults=2...</td>\n",
       "      <td>SUPERHOST</td>\n",
       "      <td>Private room in Kecamatan Ubud</td>\n",
       "      <td>2.0</td>\n",
       "      <td>1.0</td>\n",
       "      <td>1.0</td>\n",
       "      <td>1.0</td>\n",
       "      <td>Pool</td>\n",
       "      <td>Wifi</td>\n",
       "      <td>Air conditioning</td>\n",
       "      <td>Kitchen</td>\n",
       "      <td>4.93</td>\n",
       "      <td>28.0</td>\n",
       "      <td>47.0</td>\n",
       "      <td>$233 total</td>\n",
       "      <td>Private room</td>\n",
       "      <td>Kecamatan Ubud</td>\n",
       "    </tr>\n",
       "    <tr>\n",
       "      <th>3</th>\n",
       "      <td>-70%- Chic 2BR private villa with endless rice...</td>\n",
       "      <td>https://www.airbnb.com/rooms/43271847?adults=2...</td>\n",
       "      <td>NaN</td>\n",
       "      <td>Entire villa in Kecamatan Ubud</td>\n",
       "      <td>6.0</td>\n",
       "      <td>2.0</td>\n",
       "      <td>2.0</td>\n",
       "      <td>2.0</td>\n",
       "      <td>Pool</td>\n",
       "      <td>Wifi</td>\n",
       "      <td>Air conditioning</td>\n",
       "      <td>Kitchen</td>\n",
       "      <td>4.90</td>\n",
       "      <td>52.0</td>\n",
       "      <td>215.0</td>\n",
       "      <td>$1,075 total</td>\n",
       "      <td>Entire villa</td>\n",
       "      <td>Kecamatan Ubud</td>\n",
       "    </tr>\n",
       "    <tr>\n",
       "      <th>4</th>\n",
       "      <td>Magical Treehouse with Jungle Pool above the R...</td>\n",
       "      <td>https://www.airbnb.com/rooms/plus/792724?adult...</td>\n",
       "      <td>PLUS</td>\n",
       "      <td>Treehouse in Ubud</td>\n",
       "      <td>4.0</td>\n",
       "      <td>2.0</td>\n",
       "      <td>3.0</td>\n",
       "      <td>2.0</td>\n",
       "      <td>Pool</td>\n",
       "      <td>Wifi</td>\n",
       "      <td>Air conditioning</td>\n",
       "      <td>Kitchen</td>\n",
       "      <td>4.77</td>\n",
       "      <td>439.0</td>\n",
       "      <td>280.0</td>\n",
       "      <td>$1,399 total</td>\n",
       "      <td>Treehouse</td>\n",
       "      <td>Ubud</td>\n",
       "    </tr>\n",
       "  </tbody>\n",
       "</table>\n",
       "</div>"
      ],
      "text/plain": [
       "                                               Title  \\\n",
       "0  NEW Private Luxe Villa, Jungle View-Pool-Koi Pond   \n",
       "1   -75% New Luxe Villa C, Private Pool/Jungle Views   \n",
       "2  55%OFF|Lasamana Exotic Hideaway W/ Rice Field ...   \n",
       "3  -70%- Chic 2BR private villa with endless rice...   \n",
       "4  Magical Treehouse with Jungle Pool above the R...   \n",
       "\n",
       "                                         listing_url service_level  \\\n",
       "0  https://www.airbnb.com/rooms/49443276?adults=2...           NaN   \n",
       "1  https://www.airbnb.com/rooms/50444504?adults=2...           NaN   \n",
       "2  https://www.airbnb.com/rooms/44411077?adults=2...     SUPERHOST   \n",
       "3  https://www.airbnb.com/rooms/43271847?adults=2...           NaN   \n",
       "4  https://www.airbnb.com/rooms/plus/792724?adult...          PLUS   \n",
       "\n",
       "                       accom_type  max_guest  no_bedroom  no_bed  no_bathroom  \\\n",
       "0  Entire villa in Kecamatan Ubud        2.0         1.0     1.0          1.0   \n",
       "1  Entire villa in Kecamatan Ubud        2.0         1.0     1.0          1.0   \n",
       "2  Private room in Kecamatan Ubud        2.0         1.0     1.0          1.0   \n",
       "3  Entire villa in Kecamatan Ubud        6.0         2.0     2.0          2.0   \n",
       "4               Treehouse in Ubud        4.0         2.0     3.0          2.0   \n",
       "\n",
       "  _3c0zz14 _3c0zz15          _3c0zz16 _3c0zz17  rating  no_review  price  \\\n",
       "0     Pool     Wifi  Air conditioning  Kitchen    5.00       13.0   42.0   \n",
       "1     Pool     Wifi  Air conditioning  Kitchen    5.00        9.0   38.0   \n",
       "2     Pool     Wifi  Air conditioning  Kitchen    4.93       28.0   47.0   \n",
       "3     Pool     Wifi  Air conditioning  Kitchen    4.90       52.0  215.0   \n",
       "4     Pool     Wifi  Air conditioning  Kitchen    4.77      439.0  280.0   \n",
       "\n",
       "        _tt122m          type            area  \n",
       "0    $225 total  Entire villa  Kecamatan Ubud  \n",
       "1    $205 total  Entire villa  Kecamatan Ubud  \n",
       "2    $233 total  Private room  Kecamatan Ubud  \n",
       "3  $1,075 total  Entire villa  Kecamatan Ubud  \n",
       "4  $1,399 total     Treehouse            Ubud  "
      ]
     },
     "execution_count": 23,
     "metadata": {},
     "output_type": "execute_result"
    }
   ],
   "source": [
    "# The 'accom_type' label actually contains 2 kinds of information, the accommodation type and the area. \n",
    "# Therefore, we want to split the label into 2 different labels ('type' and 'area') \n",
    "# first before checking for unusual values:\n",
    "\n",
    "df[['type','area']] = df['accom_type'].str.rsplit(' in ', n = 1, expand = True)\n",
    "df.head()"
   ]
  },
  {
   "cell_type": "code",
   "execution_count": 24,
   "metadata": {
    "scrolled": true
   },
   "outputs": [
    {
     "name": "stdout",
     "output_type": "stream",
     "text": [
      "['Entire villa' 'Private room' 'Treehouse' 'Shared room'\n",
      " 'Entire residential home' 'Entire rental unit' 'Room in boutique hotel'\n",
      " 'Tiny house' 'Hotel room' 'Dome house' 'Entire cottage' 'Resort room'\n",
      " 'Entire bungalow' 'Entire serviced apartment' 'Hut' 'Entire townhouse'\n",
      " 'Entire place' 'Entire guesthouse' 'Entire loft' 'Entire cabin']\n"
     ]
    }
   ],
   "source": [
    "print(df['type'].unique()) #no unusual value"
   ]
  },
  {
   "cell_type": "code",
   "execution_count": 25,
   "metadata": {
    "scrolled": true
   },
   "outputs": [
    {
     "name": "stdout",
     "output_type": "stream",
     "text": [
      "['Kecamatan Ubud' 'Ubud' 'Payangan' 'Gianyar' 'Ubud, Gianyar'\n",
      " 'Ubud , Gianyar' 'Bali' 'Kecamatan Tegallalang' 'Tegallalang'\n",
      " 'Kabupaten Gianyar' 'Sukawati' 'Tegalalang' 'Banjar Kutuh kaja'\n",
      " 'Tampaksiring' 'Kecamatan Sukawati' 'Ubud Bali' 'Kecamatan Gianyar'\n",
      " 'Blahbatuh']\n"
     ]
    }
   ],
   "source": [
    "print(df['area'].unique()) \n",
    "\n",
    "# there are some different names for some values that are actually identical"
   ]
  },
  {
   "cell_type": "markdown",
   "metadata": {},
   "source": [
    "#### 2.2.2.2. Inputting the correct values"
   ]
  },
  {
   "cell_type": "code",
   "execution_count": 26,
   "metadata": {},
   "outputs": [
    {
     "name": "stdout",
     "output_type": "stream",
     "text": [
      "['Pool' 'Wifi' nan]\n",
      "['Wifi' 'Air conditioning' nan 'Kitchen']\n",
      "['Air conditioning' nan 'Kitchen']\n",
      "['Kitchen' nan]\n"
     ]
    }
   ],
   "source": [
    "# These labels represent the 4 main amenities\n",
    "# At this point, we want to merge these labels so as to make their values easier to manipulate for feature engineering later\n",
    "\n",
    "print(df['_3c0zz14'].unique())\n",
    "print(df['_3c0zz15'].unique())\n",
    "print(df['_3c0zz16'].unique())\n",
    "print(df['_3c0zz17'].unique())"
   ]
  },
  {
   "cell_type": "code",
   "execution_count": 27,
   "metadata": {},
   "outputs": [],
   "source": [
    "# Turns out we can not merge string values with nulls\n",
    "# Therefore, we fill nulls with the string 'none'\n",
    "\n",
    "df['_3c0zz14'].fillna('none', inplace = True)\n",
    "df['_3c0zz15'].fillna('none', inplace = True)\n",
    "df['_3c0zz16'].fillna('none', inplace = True)\n",
    "df['_3c0zz17'].fillna('none', inplace = True)"
   ]
  },
  {
   "cell_type": "code",
   "execution_count": 28,
   "metadata": {
    "scrolled": true
   },
   "outputs": [],
   "source": [
    "#merge amenities\n",
    "df['amenities'] = df[['_3c0zz14','_3c0zz15','_3c0zz16','_3c0zz17']].agg(','.join, axis = 1)"
   ]
  },
  {
   "cell_type": "code",
   "execution_count": 29,
   "metadata": {},
   "outputs": [
    {
     "data": {
      "text/html": [
       "<div>\n",
       "<style scoped>\n",
       "    .dataframe tbody tr th:only-of-type {\n",
       "        vertical-align: middle;\n",
       "    }\n",
       "\n",
       "    .dataframe tbody tr th {\n",
       "        vertical-align: top;\n",
       "    }\n",
       "\n",
       "    .dataframe thead th {\n",
       "        text-align: right;\n",
       "    }\n",
       "</style>\n",
       "<table border=\"1\" class=\"dataframe\">\n",
       "  <thead>\n",
       "    <tr style=\"text-align: right;\">\n",
       "      <th></th>\n",
       "      <th>Title</th>\n",
       "      <th>listing_url</th>\n",
       "      <th>service_level</th>\n",
       "      <th>accom_type</th>\n",
       "      <th>max_guest</th>\n",
       "      <th>no_bedroom</th>\n",
       "      <th>no_bed</th>\n",
       "      <th>no_bathroom</th>\n",
       "      <th>_3c0zz14</th>\n",
       "      <th>_3c0zz15</th>\n",
       "      <th>_3c0zz16</th>\n",
       "      <th>_3c0zz17</th>\n",
       "      <th>rating</th>\n",
       "      <th>no_review</th>\n",
       "      <th>price</th>\n",
       "      <th>_tt122m</th>\n",
       "      <th>type</th>\n",
       "      <th>area</th>\n",
       "      <th>amenities</th>\n",
       "    </tr>\n",
       "  </thead>\n",
       "  <tbody>\n",
       "    <tr>\n",
       "      <th>0</th>\n",
       "      <td>NEW Private Luxe Villa, Jungle View-Pool-Koi Pond</td>\n",
       "      <td>https://www.airbnb.com/rooms/49443276?adults=2...</td>\n",
       "      <td>NaN</td>\n",
       "      <td>Entire villa in Kecamatan Ubud</td>\n",
       "      <td>2.0</td>\n",
       "      <td>1.0</td>\n",
       "      <td>1.0</td>\n",
       "      <td>1.0</td>\n",
       "      <td>Pool</td>\n",
       "      <td>Wifi</td>\n",
       "      <td>Air conditioning</td>\n",
       "      <td>Kitchen</td>\n",
       "      <td>5.00</td>\n",
       "      <td>13.0</td>\n",
       "      <td>42.0</td>\n",
       "      <td>$225 total</td>\n",
       "      <td>Entire villa</td>\n",
       "      <td>Ubud</td>\n",
       "      <td>Pool,Wifi,Air conditioning,Kitchen</td>\n",
       "    </tr>\n",
       "    <tr>\n",
       "      <th>1</th>\n",
       "      <td>-75% New Luxe Villa C, Private Pool/Jungle Views</td>\n",
       "      <td>https://www.airbnb.com/rooms/50444504?adults=2...</td>\n",
       "      <td>NaN</td>\n",
       "      <td>Entire villa in Kecamatan Ubud</td>\n",
       "      <td>2.0</td>\n",
       "      <td>1.0</td>\n",
       "      <td>1.0</td>\n",
       "      <td>1.0</td>\n",
       "      <td>Pool</td>\n",
       "      <td>Wifi</td>\n",
       "      <td>Air conditioning</td>\n",
       "      <td>Kitchen</td>\n",
       "      <td>5.00</td>\n",
       "      <td>9.0</td>\n",
       "      <td>38.0</td>\n",
       "      <td>$205 total</td>\n",
       "      <td>Entire villa</td>\n",
       "      <td>Ubud</td>\n",
       "      <td>Pool,Wifi,Air conditioning,Kitchen</td>\n",
       "    </tr>\n",
       "    <tr>\n",
       "      <th>2</th>\n",
       "      <td>55%OFF|Lasamana Exotic Hideaway W/ Rice Field ...</td>\n",
       "      <td>https://www.airbnb.com/rooms/44411077?adults=2...</td>\n",
       "      <td>SUPERHOST</td>\n",
       "      <td>Private room in Kecamatan Ubud</td>\n",
       "      <td>2.0</td>\n",
       "      <td>1.0</td>\n",
       "      <td>1.0</td>\n",
       "      <td>1.0</td>\n",
       "      <td>Pool</td>\n",
       "      <td>Wifi</td>\n",
       "      <td>Air conditioning</td>\n",
       "      <td>Kitchen</td>\n",
       "      <td>4.93</td>\n",
       "      <td>28.0</td>\n",
       "      <td>47.0</td>\n",
       "      <td>$233 total</td>\n",
       "      <td>Private room</td>\n",
       "      <td>Ubud</td>\n",
       "      <td>Pool,Wifi,Air conditioning,Kitchen</td>\n",
       "    </tr>\n",
       "    <tr>\n",
       "      <th>3</th>\n",
       "      <td>-70%- Chic 2BR private villa with endless rice...</td>\n",
       "      <td>https://www.airbnb.com/rooms/43271847?adults=2...</td>\n",
       "      <td>NaN</td>\n",
       "      <td>Entire villa in Kecamatan Ubud</td>\n",
       "      <td>6.0</td>\n",
       "      <td>2.0</td>\n",
       "      <td>2.0</td>\n",
       "      <td>2.0</td>\n",
       "      <td>Pool</td>\n",
       "      <td>Wifi</td>\n",
       "      <td>Air conditioning</td>\n",
       "      <td>Kitchen</td>\n",
       "      <td>4.90</td>\n",
       "      <td>52.0</td>\n",
       "      <td>215.0</td>\n",
       "      <td>$1,075 total</td>\n",
       "      <td>Entire villa</td>\n",
       "      <td>Ubud</td>\n",
       "      <td>Pool,Wifi,Air conditioning,Kitchen</td>\n",
       "    </tr>\n",
       "    <tr>\n",
       "      <th>4</th>\n",
       "      <td>Magical Treehouse with Jungle Pool above the R...</td>\n",
       "      <td>https://www.airbnb.com/rooms/plus/792724?adult...</td>\n",
       "      <td>PLUS</td>\n",
       "      <td>Treehouse in Ubud</td>\n",
       "      <td>4.0</td>\n",
       "      <td>2.0</td>\n",
       "      <td>3.0</td>\n",
       "      <td>2.0</td>\n",
       "      <td>Pool</td>\n",
       "      <td>Wifi</td>\n",
       "      <td>Air conditioning</td>\n",
       "      <td>Kitchen</td>\n",
       "      <td>4.77</td>\n",
       "      <td>439.0</td>\n",
       "      <td>280.0</td>\n",
       "      <td>$1,399 total</td>\n",
       "      <td>Treehouse</td>\n",
       "      <td>Ubud</td>\n",
       "      <td>Pool,Wifi,Air conditioning,Kitchen</td>\n",
       "    </tr>\n",
       "  </tbody>\n",
       "</table>\n",
       "</div>"
      ],
      "text/plain": [
       "                                               Title  \\\n",
       "0  NEW Private Luxe Villa, Jungle View-Pool-Koi Pond   \n",
       "1   -75% New Luxe Villa C, Private Pool/Jungle Views   \n",
       "2  55%OFF|Lasamana Exotic Hideaway W/ Rice Field ...   \n",
       "3  -70%- Chic 2BR private villa with endless rice...   \n",
       "4  Magical Treehouse with Jungle Pool above the R...   \n",
       "\n",
       "                                         listing_url service_level  \\\n",
       "0  https://www.airbnb.com/rooms/49443276?adults=2...           NaN   \n",
       "1  https://www.airbnb.com/rooms/50444504?adults=2...           NaN   \n",
       "2  https://www.airbnb.com/rooms/44411077?adults=2...     SUPERHOST   \n",
       "3  https://www.airbnb.com/rooms/43271847?adults=2...           NaN   \n",
       "4  https://www.airbnb.com/rooms/plus/792724?adult...          PLUS   \n",
       "\n",
       "                       accom_type  max_guest  no_bedroom  no_bed  no_bathroom  \\\n",
       "0  Entire villa in Kecamatan Ubud        2.0         1.0     1.0          1.0   \n",
       "1  Entire villa in Kecamatan Ubud        2.0         1.0     1.0          1.0   \n",
       "2  Private room in Kecamatan Ubud        2.0         1.0     1.0          1.0   \n",
       "3  Entire villa in Kecamatan Ubud        6.0         2.0     2.0          2.0   \n",
       "4               Treehouse in Ubud        4.0         2.0     3.0          2.0   \n",
       "\n",
       "  _3c0zz14 _3c0zz15          _3c0zz16 _3c0zz17  rating  no_review  price  \\\n",
       "0     Pool     Wifi  Air conditioning  Kitchen    5.00       13.0   42.0   \n",
       "1     Pool     Wifi  Air conditioning  Kitchen    5.00        9.0   38.0   \n",
       "2     Pool     Wifi  Air conditioning  Kitchen    4.93       28.0   47.0   \n",
       "3     Pool     Wifi  Air conditioning  Kitchen    4.90       52.0  215.0   \n",
       "4     Pool     Wifi  Air conditioning  Kitchen    4.77      439.0  280.0   \n",
       "\n",
       "        _tt122m          type  area                           amenities  \n",
       "0    $225 total  Entire villa  Ubud  Pool,Wifi,Air conditioning,Kitchen  \n",
       "1    $205 total  Entire villa  Ubud  Pool,Wifi,Air conditioning,Kitchen  \n",
       "2    $233 total  Private room  Ubud  Pool,Wifi,Air conditioning,Kitchen  \n",
       "3  $1,075 total  Entire villa  Ubud  Pool,Wifi,Air conditioning,Kitchen  \n",
       "4  $1,399 total     Treehouse  Ubud  Pool,Wifi,Air conditioning,Kitchen  "
      ]
     },
     "execution_count": 29,
     "metadata": {},
     "output_type": "execute_result"
    }
   ],
   "source": [
    "# Correct area names\n",
    "\n",
    "for i in range(len(df)):\n",
    "    if df.iloc[i, 17] == 'Kecamatan Ubud' or df.iloc[i, 17] == 'Ubud Bali' or df.iloc[i, 17] == 'Bali':\n",
    "        df.iloc[i, 17] = 'Ubud'\n",
    "    if df.iloc[i, 17] == 'Ubud, Gianyar' or df.iloc[i, 17] == 'Ubud , Gianyar'or df.iloc[i, 17] == 'Kabupaten Gianyar' or df.iloc[i, 17] == 'Kecamatan Gianyar':\n",
    "        df.iloc[i, 17] = 'Gianyar'\n",
    "    if df.iloc[i, 17] == 'Kecamatan Tegallalang' or df.iloc[i, 17] == 'Tegallalang':\n",
    "        df.iloc[i, 17] = 'Tegalalang'\n",
    "        \n",
    "df.head()"
   ]
  },
  {
   "cell_type": "code",
   "execution_count": 30,
   "metadata": {},
   "outputs": [
    {
     "data": {
      "text/plain": [
       "array(['Entire villa', 'Private room', 'Treehouse', 'Shared room',\n",
       "       'Entire residential home', 'Entire rental unit',\n",
       "       'Room in boutique hotel', 'Tiny house', 'Hotel room', 'Dome house',\n",
       "       'Entire cottage', 'Resort room', 'Entire bungalow',\n",
       "       'Entire serviced apartment', 'Hut', 'Entire townhouse',\n",
       "       'Entire place', 'Entire guesthouse', 'Entire loft', 'Entire cabin'],\n",
       "      dtype=object)"
      ]
     },
     "execution_count": 30,
     "metadata": {},
     "output_type": "execute_result"
    }
   ],
   "source": [
    "df['type'].unique()"
   ]
  },
  {
   "cell_type": "code",
   "execution_count": 31,
   "metadata": {},
   "outputs": [
    {
     "data": {
      "text/plain": [
       "array(['Ubud', 'Payangan', 'Gianyar', 'Tegalalang', 'Sukawati',\n",
       "       'Banjar Kutuh kaja', 'Tampaksiring', 'Kecamatan Sukawati',\n",
       "       'Blahbatuh'], dtype=object)"
      ]
     },
     "execution_count": 31,
     "metadata": {},
     "output_type": "execute_result"
    }
   ],
   "source": [
    "df['area'].unique()"
   ]
  },
  {
   "cell_type": "code",
   "execution_count": 32,
   "metadata": {
    "scrolled": true
   },
   "outputs": [
    {
     "data": {
      "text/plain": [
       "Title             object\n",
       "listing_url       object\n",
       "service_level     object\n",
       "accom_type        object\n",
       "max_guest        float64\n",
       "no_bedroom       float64\n",
       "no_bed           float64\n",
       "no_bathroom      float64\n",
       "_3c0zz14          object\n",
       "_3c0zz15          object\n",
       "_3c0zz16          object\n",
       "_3c0zz17          object\n",
       "rating           float64\n",
       "no_review        float64\n",
       "price            float64\n",
       "_tt122m           object\n",
       "type              object\n",
       "area              object\n",
       "amenities         object\n",
       "dtype: object"
      ]
     },
     "execution_count": 32,
     "metadata": {},
     "output_type": "execute_result"
    }
   ],
   "source": [
    "df.dtypes # all the labels that are independent variables candidates are in the right types"
   ]
  },
  {
   "cell_type": "markdown",
   "metadata": {},
   "source": [
    "### 2.2.3. Dealing with remaining nulls"
   ]
  },
  {
   "cell_type": "markdown",
   "metadata": {},
   "source": [
    "#### 2.2.3.1. Checking for nulls\n",
    "\n",
    "#### It is always a good idea to use heatmap to show us the visual representation of nulls in our dataset"
   ]
  },
  {
   "cell_type": "code",
   "execution_count": 33,
   "metadata": {},
   "outputs": [
    {
     "data": {
      "image/png": "[encoded data removed]",
      "text/plain": [
       "<Figure size 504x432 with 1 Axes>"
      ]
     },
     "metadata": {
      "needs_background": "light"
     },
     "output_type": "display_data"
    }
   ],
   "source": [
    "#Heatmap\n",
    "\n",
    "plt.figure(figsize=(7, 6))\n",
    "sns.heatmap(df.isnull(), cbar=False)\n",
    "\n",
    "plt.xlabel('Labels')\n",
    "plt.ylabel('Index')\n",
    "plt.show()\n",
    "\n",
    "#beige color indicates nulls"
   ]
  },
  {
   "cell_type": "code",
   "execution_count": 34,
   "metadata": {},
   "outputs": [
    {
     "data": {
      "text/plain": [
       "Title             0.000000\n",
       "listing_url       0.000000\n",
       "service_level    41.000000\n",
       "accom_type        0.000000\n",
       "max_guest         0.000000\n",
       "no_bedroom        0.000000\n",
       "no_bed            0.000000\n",
       "no_bathroom       1.000000\n",
       "_3c0zz14          0.000000\n",
       "_3c0zz15          0.000000\n",
       "_3c0zz16          0.000000\n",
       "_3c0zz17          0.000000\n",
       "rating           24.333333\n",
       "no_review        24.333333\n",
       "price             0.000000\n",
       "_tt122m           0.000000\n",
       "type              0.000000\n",
       "area              0.000000\n",
       "amenities         0.000000\n",
       "dtype: float64"
      ]
     },
     "execution_count": 34,
     "metadata": {},
     "output_type": "execute_result"
    }
   ],
   "source": [
    "df.isnull().mean() * 100 \n",
    "\n",
    "#percentages of empty values in each column"
   ]
  },
  {
   "cell_type": "markdown",
   "metadata": {},
   "source": [
    "#### 2.2.3.2. Filling nulls with appropriate values\n",
    "\n",
    "So far, we are left with 'service_level', 'rating', and 'no_review' that have empty values. \n",
    "\n",
    "Deleting rows that contain nulls is not always wise as we may risk losing important information or creating biased models. Since there is no cookie-cutter method to deal with nulls, nulls in each column have to be treated according to their specific situations."
   ]
  },
  {
   "cell_type": "code",
   "execution_count": 35,
   "metadata": {},
   "outputs": [],
   "source": [
    "# filling the nulls in 'service_level' with 'Regular' will make handling this label easier later:\n",
    "\n",
    "df['service_level'].fillna('REGULAR', inplace = True)"
   ]
  },
  {
   "cell_type": "code",
   "execution_count": 36,
   "metadata": {},
   "outputs": [
    {
     "name": "stdout",
     "output_type": "stream",
     "text": [
      "4.86\n",
      "4.821233480176211\n"
     ]
    }
   ],
   "source": [
    "print(df['rating'].median())\n",
    "print(df['rating'].mean())\n",
    "\n",
    "# turns out the median and mean have similar values, but we will use median as it is less impacted by outliers"
   ]
  },
  {
   "cell_type": "code",
   "execution_count": 37,
   "metadata": {},
   "outputs": [],
   "source": [
    "df['rating'].fillna(df['rating'].median(), inplace = True) \n",
    "\n",
    "# fill nulls with median"
   ]
  },
  {
   "cell_type": "code",
   "execution_count": 38,
   "metadata": {
    "scrolled": true
   },
   "outputs": [],
   "source": [
    "df['no_review'].fillna(0, inplace = True) \n",
    "df['no_review'] = df['no_review'].astype(int)\n",
    "\n",
    "# In this label, nulls simply mean that these accommodations have not received any review\n",
    "# Therefore, we fill these nulls with zeros"
   ]
  },
  {
   "cell_type": "code",
   "execution_count": 39,
   "metadata": {},
   "outputs": [],
   "source": [
    "df['no_bathroom'].fillna(1, inplace = True)\n",
    "\n",
    "# fill nulls with ones"
   ]
  },
  {
   "cell_type": "code",
   "execution_count": 40,
   "metadata": {},
   "outputs": [
    {
     "data": {
      "text/html": [
       "<div>\n",
       "<style scoped>\n",
       "    .dataframe tbody tr th:only-of-type {\n",
       "        vertical-align: middle;\n",
       "    }\n",
       "\n",
       "    .dataframe tbody tr th {\n",
       "        vertical-align: top;\n",
       "    }\n",
       "\n",
       "    .dataframe thead th {\n",
       "        text-align: right;\n",
       "    }\n",
       "</style>\n",
       "<table border=\"1\" class=\"dataframe\">\n",
       "  <thead>\n",
       "    <tr style=\"text-align: right;\">\n",
       "      <th></th>\n",
       "      <th>Title</th>\n",
       "      <th>listing_url</th>\n",
       "      <th>service_level</th>\n",
       "      <th>accom_type</th>\n",
       "      <th>max_guest</th>\n",
       "      <th>no_bedroom</th>\n",
       "      <th>no_bed</th>\n",
       "      <th>no_bathroom</th>\n",
       "      <th>_3c0zz14</th>\n",
       "      <th>_3c0zz15</th>\n",
       "      <th>_3c0zz16</th>\n",
       "      <th>_3c0zz17</th>\n",
       "      <th>rating</th>\n",
       "      <th>no_review</th>\n",
       "      <th>price</th>\n",
       "      <th>_tt122m</th>\n",
       "      <th>type</th>\n",
       "      <th>area</th>\n",
       "      <th>amenities</th>\n",
       "    </tr>\n",
       "  </thead>\n",
       "  <tbody>\n",
       "    <tr>\n",
       "      <th>0</th>\n",
       "      <td>NEW Private Luxe Villa, Jungle View-Pool-Koi Pond</td>\n",
       "      <td>https://www.airbnb.com/rooms/49443276?adults=2...</td>\n",
       "      <td>REGULAR</td>\n",
       "      <td>Entire villa in Kecamatan Ubud</td>\n",
       "      <td>2.0</td>\n",
       "      <td>1.0</td>\n",
       "      <td>1.0</td>\n",
       "      <td>1.0</td>\n",
       "      <td>Pool</td>\n",
       "      <td>Wifi</td>\n",
       "      <td>Air conditioning</td>\n",
       "      <td>Kitchen</td>\n",
       "      <td>5.00</td>\n",
       "      <td>13</td>\n",
       "      <td>42.0</td>\n",
       "      <td>$225 total</td>\n",
       "      <td>Entire villa</td>\n",
       "      <td>Ubud</td>\n",
       "      <td>Pool,Wifi,Air conditioning,Kitchen</td>\n",
       "    </tr>\n",
       "    <tr>\n",
       "      <th>1</th>\n",
       "      <td>-75% New Luxe Villa C, Private Pool/Jungle Views</td>\n",
       "      <td>https://www.airbnb.com/rooms/50444504?adults=2...</td>\n",
       "      <td>REGULAR</td>\n",
       "      <td>Entire villa in Kecamatan Ubud</td>\n",
       "      <td>2.0</td>\n",
       "      <td>1.0</td>\n",
       "      <td>1.0</td>\n",
       "      <td>1.0</td>\n",
       "      <td>Pool</td>\n",
       "      <td>Wifi</td>\n",
       "      <td>Air conditioning</td>\n",
       "      <td>Kitchen</td>\n",
       "      <td>5.00</td>\n",
       "      <td>9</td>\n",
       "      <td>38.0</td>\n",
       "      <td>$205 total</td>\n",
       "      <td>Entire villa</td>\n",
       "      <td>Ubud</td>\n",
       "      <td>Pool,Wifi,Air conditioning,Kitchen</td>\n",
       "    </tr>\n",
       "    <tr>\n",
       "      <th>2</th>\n",
       "      <td>55%OFF|Lasamana Exotic Hideaway W/ Rice Field ...</td>\n",
       "      <td>https://www.airbnb.com/rooms/44411077?adults=2...</td>\n",
       "      <td>SUPERHOST</td>\n",
       "      <td>Private room in Kecamatan Ubud</td>\n",
       "      <td>2.0</td>\n",
       "      <td>1.0</td>\n",
       "      <td>1.0</td>\n",
       "      <td>1.0</td>\n",
       "      <td>Pool</td>\n",
       "      <td>Wifi</td>\n",
       "      <td>Air conditioning</td>\n",
       "      <td>Kitchen</td>\n",
       "      <td>4.93</td>\n",
       "      <td>28</td>\n",
       "      <td>47.0</td>\n",
       "      <td>$233 total</td>\n",
       "      <td>Private room</td>\n",
       "      <td>Ubud</td>\n",
       "      <td>Pool,Wifi,Air conditioning,Kitchen</td>\n",
       "    </tr>\n",
       "    <tr>\n",
       "      <th>3</th>\n",
       "      <td>-70%- Chic 2BR private villa with endless rice...</td>\n",
       "      <td>https://www.airbnb.com/rooms/43271847?adults=2...</td>\n",
       "      <td>REGULAR</td>\n",
       "      <td>Entire villa in Kecamatan Ubud</td>\n",
       "      <td>6.0</td>\n",
       "      <td>2.0</td>\n",
       "      <td>2.0</td>\n",
       "      <td>2.0</td>\n",
       "      <td>Pool</td>\n",
       "      <td>Wifi</td>\n",
       "      <td>Air conditioning</td>\n",
       "      <td>Kitchen</td>\n",
       "      <td>4.90</td>\n",
       "      <td>52</td>\n",
       "      <td>215.0</td>\n",
       "      <td>$1,075 total</td>\n",
       "      <td>Entire villa</td>\n",
       "      <td>Ubud</td>\n",
       "      <td>Pool,Wifi,Air conditioning,Kitchen</td>\n",
       "    </tr>\n",
       "    <tr>\n",
       "      <th>4</th>\n",
       "      <td>Magical Treehouse with Jungle Pool above the R...</td>\n",
       "      <td>https://www.airbnb.com/rooms/plus/792724?adult...</td>\n",
       "      <td>PLUS</td>\n",
       "      <td>Treehouse in Ubud</td>\n",
       "      <td>4.0</td>\n",
       "      <td>2.0</td>\n",
       "      <td>3.0</td>\n",
       "      <td>2.0</td>\n",
       "      <td>Pool</td>\n",
       "      <td>Wifi</td>\n",
       "      <td>Air conditioning</td>\n",
       "      <td>Kitchen</td>\n",
       "      <td>4.77</td>\n",
       "      <td>439</td>\n",
       "      <td>280.0</td>\n",
       "      <td>$1,399 total</td>\n",
       "      <td>Treehouse</td>\n",
       "      <td>Ubud</td>\n",
       "      <td>Pool,Wifi,Air conditioning,Kitchen</td>\n",
       "    </tr>\n",
       "  </tbody>\n",
       "</table>\n",
       "</div>"
      ],
      "text/plain": [
       "                                               Title  \\\n",
       "0  NEW Private Luxe Villa, Jungle View-Pool-Koi Pond   \n",
       "1   -75% New Luxe Villa C, Private Pool/Jungle Views   \n",
       "2  55%OFF|Lasamana Exotic Hideaway W/ Rice Field ...   \n",
       "3  -70%- Chic 2BR private villa with endless rice...   \n",
       "4  Magical Treehouse with Jungle Pool above the R...   \n",
       "\n",
       "                                         listing_url service_level  \\\n",
       "0  https://www.airbnb.com/rooms/49443276?adults=2...       REGULAR   \n",
       "1  https://www.airbnb.com/rooms/50444504?adults=2...       REGULAR   \n",
       "2  https://www.airbnb.com/rooms/44411077?adults=2...     SUPERHOST   \n",
       "3  https://www.airbnb.com/rooms/43271847?adults=2...       REGULAR   \n",
       "4  https://www.airbnb.com/rooms/plus/792724?adult...          PLUS   \n",
       "\n",
       "                       accom_type  max_guest  no_bedroom  no_bed  no_bathroom  \\\n",
       "0  Entire villa in Kecamatan Ubud        2.0         1.0     1.0          1.0   \n",
       "1  Entire villa in Kecamatan Ubud        2.0         1.0     1.0          1.0   \n",
       "2  Private room in Kecamatan Ubud        2.0         1.0     1.0          1.0   \n",
       "3  Entire villa in Kecamatan Ubud        6.0         2.0     2.0          2.0   \n",
       "4               Treehouse in Ubud        4.0         2.0     3.0          2.0   \n",
       "\n",
       "  _3c0zz14 _3c0zz15          _3c0zz16 _3c0zz17  rating  no_review  price  \\\n",
       "0     Pool     Wifi  Air conditioning  Kitchen    5.00         13   42.0   \n",
       "1     Pool     Wifi  Air conditioning  Kitchen    5.00          9   38.0   \n",
       "2     Pool     Wifi  Air conditioning  Kitchen    4.93         28   47.0   \n",
       "3     Pool     Wifi  Air conditioning  Kitchen    4.90         52  215.0   \n",
       "4     Pool     Wifi  Air conditioning  Kitchen    4.77        439  280.0   \n",
       "\n",
       "        _tt122m          type  area                           amenities  \n",
       "0    $225 total  Entire villa  Ubud  Pool,Wifi,Air conditioning,Kitchen  \n",
       "1    $205 total  Entire villa  Ubud  Pool,Wifi,Air conditioning,Kitchen  \n",
       "2    $233 total  Private room  Ubud  Pool,Wifi,Air conditioning,Kitchen  \n",
       "3  $1,075 total  Entire villa  Ubud  Pool,Wifi,Air conditioning,Kitchen  \n",
       "4  $1,399 total     Treehouse  Ubud  Pool,Wifi,Air conditioning,Kitchen  "
      ]
     },
     "execution_count": 40,
     "metadata": {},
     "output_type": "execute_result"
    }
   ],
   "source": [
    "df.head()"
   ]
  },
  {
   "cell_type": "code",
   "execution_count": 41,
   "metadata": {
    "scrolled": true
   },
   "outputs": [
    {
     "data": {
      "image/png": "[encoded data removed]",
      "text/plain": [
       "<Figure size 432x288 with 1 Axes>"
      ]
     },
     "metadata": {
      "needs_background": "light"
     },
     "output_type": "display_data"
    }
   ],
   "source": [
    "sns.heatmap(df.isnull(), cbar=False) # no more null!\n",
    "\n",
    "plt.xlabel('Labels')\n",
    "plt.ylabel('Index')\n",
    "plt.show()"
   ]
  },
  {
   "cell_type": "code",
   "execution_count": 42,
   "metadata": {
    "scrolled": true
   },
   "outputs": [
    {
     "data": {
      "text/html": [
       "<div>\n",
       "<style scoped>\n",
       "    .dataframe tbody tr th:only-of-type {\n",
       "        vertical-align: middle;\n",
       "    }\n",
       "\n",
       "    .dataframe tbody tr th {\n",
       "        vertical-align: top;\n",
       "    }\n",
       "\n",
       "    .dataframe thead th {\n",
       "        text-align: right;\n",
       "    }\n",
       "</style>\n",
       "<table border=\"1\" class=\"dataframe\">\n",
       "  <thead>\n",
       "    <tr style=\"text-align: right;\">\n",
       "      <th></th>\n",
       "      <th>service_level</th>\n",
       "      <th>max_guest</th>\n",
       "      <th>no_bedroom</th>\n",
       "      <th>no_bed</th>\n",
       "      <th>no_bathroom</th>\n",
       "      <th>rating</th>\n",
       "      <th>no_review</th>\n",
       "      <th>price</th>\n",
       "      <th>type</th>\n",
       "      <th>area</th>\n",
       "      <th>amenities</th>\n",
       "    </tr>\n",
       "  </thead>\n",
       "  <tbody>\n",
       "    <tr>\n",
       "      <th>0</th>\n",
       "      <td>REGULAR</td>\n",
       "      <td>2.0</td>\n",
       "      <td>1.0</td>\n",
       "      <td>1.0</td>\n",
       "      <td>1.0</td>\n",
       "      <td>5.00</td>\n",
       "      <td>13</td>\n",
       "      <td>42.0</td>\n",
       "      <td>Entire villa</td>\n",
       "      <td>Ubud</td>\n",
       "      <td>Pool,Wifi,Air conditioning,Kitchen</td>\n",
       "    </tr>\n",
       "    <tr>\n",
       "      <th>1</th>\n",
       "      <td>REGULAR</td>\n",
       "      <td>2.0</td>\n",
       "      <td>1.0</td>\n",
       "      <td>1.0</td>\n",
       "      <td>1.0</td>\n",
       "      <td>5.00</td>\n",
       "      <td>9</td>\n",
       "      <td>38.0</td>\n",
       "      <td>Entire villa</td>\n",
       "      <td>Ubud</td>\n",
       "      <td>Pool,Wifi,Air conditioning,Kitchen</td>\n",
       "    </tr>\n",
       "    <tr>\n",
       "      <th>2</th>\n",
       "      <td>SUPERHOST</td>\n",
       "      <td>2.0</td>\n",
       "      <td>1.0</td>\n",
       "      <td>1.0</td>\n",
       "      <td>1.0</td>\n",
       "      <td>4.93</td>\n",
       "      <td>28</td>\n",
       "      <td>47.0</td>\n",
       "      <td>Private room</td>\n",
       "      <td>Ubud</td>\n",
       "      <td>Pool,Wifi,Air conditioning,Kitchen</td>\n",
       "    </tr>\n",
       "    <tr>\n",
       "      <th>3</th>\n",
       "      <td>REGULAR</td>\n",
       "      <td>6.0</td>\n",
       "      <td>2.0</td>\n",
       "      <td>2.0</td>\n",
       "      <td>2.0</td>\n",
       "      <td>4.90</td>\n",
       "      <td>52</td>\n",
       "      <td>215.0</td>\n",
       "      <td>Entire villa</td>\n",
       "      <td>Ubud</td>\n",
       "      <td>Pool,Wifi,Air conditioning,Kitchen</td>\n",
       "    </tr>\n",
       "    <tr>\n",
       "      <th>4</th>\n",
       "      <td>PLUS</td>\n",
       "      <td>4.0</td>\n",
       "      <td>2.0</td>\n",
       "      <td>3.0</td>\n",
       "      <td>2.0</td>\n",
       "      <td>4.77</td>\n",
       "      <td>439</td>\n",
       "      <td>280.0</td>\n",
       "      <td>Treehouse</td>\n",
       "      <td>Ubud</td>\n",
       "      <td>Pool,Wifi,Air conditioning,Kitchen</td>\n",
       "    </tr>\n",
       "  </tbody>\n",
       "</table>\n",
       "</div>"
      ],
      "text/plain": [
       "  service_level  max_guest  no_bedroom  no_bed  no_bathroom  rating  \\\n",
       "0       REGULAR        2.0         1.0     1.0          1.0    5.00   \n",
       "1       REGULAR        2.0         1.0     1.0          1.0    5.00   \n",
       "2     SUPERHOST        2.0         1.0     1.0          1.0    4.93   \n",
       "3       REGULAR        6.0         2.0     2.0          2.0    4.90   \n",
       "4          PLUS        4.0         2.0     3.0          2.0    4.77   \n",
       "\n",
       "   no_review  price          type  area                           amenities  \n",
       "0         13   42.0  Entire villa  Ubud  Pool,Wifi,Air conditioning,Kitchen  \n",
       "1          9   38.0  Entire villa  Ubud  Pool,Wifi,Air conditioning,Kitchen  \n",
       "2         28   47.0  Private room  Ubud  Pool,Wifi,Air conditioning,Kitchen  \n",
       "3         52  215.0  Entire villa  Ubud  Pool,Wifi,Air conditioning,Kitchen  \n",
       "4        439  280.0     Treehouse  Ubud  Pool,Wifi,Air conditioning,Kitchen  "
      ]
     },
     "execution_count": 42,
     "metadata": {},
     "output_type": "execute_result"
    }
   ],
   "source": [
    "# At this stage, we decided that we want to drop some labels that we already know that we will not use\n",
    "# However, right before our model building step, it is highly likely that we will remove some more labels\n",
    "\n",
    "dd = df.drop(labels = ['Title', 'listing_url', 'accom_type', '_3c0zz14', '_3c0zz15', '_3c0zz16', '_3c0zz17', '_tt122m'], axis = 1)\n",
    "\n",
    "dd.head() # new dataframe after first label removal"
   ]
  },
  {
   "cell_type": "markdown",
   "metadata": {},
   "source": [
    "### And finally, we got our data cleansed. Congrats!"
   ]
  },
  {
   "cell_type": "code",
   "execution_count": 43,
   "metadata": {},
   "outputs": [],
   "source": [
    "dd.to_csv('airbnb bali-cleansed dataset.csv', index = False)"
   ]
  },
  {
   "cell_type": "code",
   "execution_count": null,
   "metadata": {},
   "outputs": [],
   "source": []
  }
 ],
 "metadata": {
  "kernelspec": {
   "display_name": "Python 3",
   "language": "python",
   "name": "python3"
  },
  "language_info": {
   "codemirror_mode": {
    "name": "ipython",
    "version": 3
   },
   "file_extension": ".py",
   "mimetype": "text/x-python",
   "name": "python",
   "nbconvert_exporter": "python",
   "pygments_lexer": "ipython3",
   "version": "3.8.3"
  }
 },
 "nbformat": 4,
 "nbformat_minor": 4
}
