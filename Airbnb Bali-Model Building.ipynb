{
 "cells": [
  {
   "cell_type": "code",
   "execution_count": 1,
   "metadata": {},
   "outputs": [],
   "source": [
    "import matplotlib.pyplot as plt\n",
    "import pandas as pd\n",
    "import numpy as np\n",
    "import scipy\n",
    "import scipy.stats as stats\n",
    "import seaborn as sns\n",
    "import warnings\n",
    "from scipy.stats import shapiro\n",
    "from sklearn.metrics import r2_score\n",
    "warnings.filterwarnings('ignore')"
   ]
  },
  {
   "cell_type": "code",
   "execution_count": 2,
   "metadata": {},
   "outputs": [
    {
     "data": {
      "text/html": [
       "<div>\n",
       "<style scoped>\n",
       "    .dataframe tbody tr th:only-of-type {\n",
       "        vertical-align: middle;\n",
       "    }\n",
       "\n",
       "    .dataframe tbody tr th {\n",
       "        vertical-align: top;\n",
       "    }\n",
       "\n",
       "    .dataframe thead th {\n",
       "        text-align: right;\n",
       "    }\n",
       "</style>\n",
       "<table border=\"1\" class=\"dataframe\">\n",
       "  <thead>\n",
       "    <tr style=\"text-align: right;\">\n",
       "      <th></th>\n",
       "      <th>max_guest</th>\n",
       "      <th>price</th>\n",
       "      <th>service_level_PLUS</th>\n",
       "      <th>service_level_SUPERHOST</th>\n",
       "      <th>type_Entire Unit</th>\n",
       "      <th>pool_Pool</th>\n",
       "      <th>kitchen_Kitchen</th>\n",
       "    </tr>\n",
       "  </thead>\n",
       "  <tbody>\n",
       "    <tr>\n",
       "      <th>0</th>\n",
       "      <td>2.0</td>\n",
       "      <td>42.0</td>\n",
       "      <td>0</td>\n",
       "      <td>0</td>\n",
       "      <td>1</td>\n",
       "      <td>1</td>\n",
       "      <td>1</td>\n",
       "    </tr>\n",
       "    <tr>\n",
       "      <th>1</th>\n",
       "      <td>2.0</td>\n",
       "      <td>38.0</td>\n",
       "      <td>0</td>\n",
       "      <td>0</td>\n",
       "      <td>1</td>\n",
       "      <td>1</td>\n",
       "      <td>1</td>\n",
       "    </tr>\n",
       "    <tr>\n",
       "      <th>2</th>\n",
       "      <td>2.0</td>\n",
       "      <td>47.0</td>\n",
       "      <td>0</td>\n",
       "      <td>1</td>\n",
       "      <td>0</td>\n",
       "      <td>1</td>\n",
       "      <td>1</td>\n",
       "    </tr>\n",
       "    <tr>\n",
       "      <th>3</th>\n",
       "      <td>6.0</td>\n",
       "      <td>215.0</td>\n",
       "      <td>0</td>\n",
       "      <td>0</td>\n",
       "      <td>1</td>\n",
       "      <td>1</td>\n",
       "      <td>1</td>\n",
       "    </tr>\n",
       "    <tr>\n",
       "      <th>4</th>\n",
       "      <td>4.0</td>\n",
       "      <td>280.0</td>\n",
       "      <td>1</td>\n",
       "      <td>0</td>\n",
       "      <td>1</td>\n",
       "      <td>1</td>\n",
       "      <td>1</td>\n",
       "    </tr>\n",
       "    <tr>\n",
       "      <th>...</th>\n",
       "      <td>...</td>\n",
       "      <td>...</td>\n",
       "      <td>...</td>\n",
       "      <td>...</td>\n",
       "      <td>...</td>\n",
       "      <td>...</td>\n",
       "      <td>...</td>\n",
       "    </tr>\n",
       "    <tr>\n",
       "      <th>295</th>\n",
       "      <td>5.0</td>\n",
       "      <td>171.0</td>\n",
       "      <td>0</td>\n",
       "      <td>0</td>\n",
       "      <td>1</td>\n",
       "      <td>1</td>\n",
       "      <td>0</td>\n",
       "    </tr>\n",
       "    <tr>\n",
       "      <th>296</th>\n",
       "      <td>2.0</td>\n",
       "      <td>50.0</td>\n",
       "      <td>0</td>\n",
       "      <td>0</td>\n",
       "      <td>1</td>\n",
       "      <td>1</td>\n",
       "      <td>0</td>\n",
       "    </tr>\n",
       "    <tr>\n",
       "      <th>297</th>\n",
       "      <td>2.0</td>\n",
       "      <td>19.0</td>\n",
       "      <td>0</td>\n",
       "      <td>0</td>\n",
       "      <td>1</td>\n",
       "      <td>0</td>\n",
       "      <td>1</td>\n",
       "    </tr>\n",
       "    <tr>\n",
       "      <th>298</th>\n",
       "      <td>2.0</td>\n",
       "      <td>100.0</td>\n",
       "      <td>0</td>\n",
       "      <td>0</td>\n",
       "      <td>1</td>\n",
       "      <td>1</td>\n",
       "      <td>1</td>\n",
       "    </tr>\n",
       "    <tr>\n",
       "      <th>299</th>\n",
       "      <td>4.0</td>\n",
       "      <td>59.0</td>\n",
       "      <td>0</td>\n",
       "      <td>1</td>\n",
       "      <td>1</td>\n",
       "      <td>1</td>\n",
       "      <td>1</td>\n",
       "    </tr>\n",
       "  </tbody>\n",
       "</table>\n",
       "<p>300 rows × 7 columns</p>\n",
       "</div>"
      ],
      "text/plain": [
       "     max_guest  price  service_level_PLUS  service_level_SUPERHOST  \\\n",
       "0          2.0   42.0                   0                        0   \n",
       "1          2.0   38.0                   0                        0   \n",
       "2          2.0   47.0                   0                        1   \n",
       "3          6.0  215.0                   0                        0   \n",
       "4          4.0  280.0                   1                        0   \n",
       "..         ...    ...                 ...                      ...   \n",
       "295        5.0  171.0                   0                        0   \n",
       "296        2.0   50.0                   0                        0   \n",
       "297        2.0   19.0                   0                        0   \n",
       "298        2.0  100.0                   0                        0   \n",
       "299        4.0   59.0                   0                        1   \n",
       "\n",
       "     type_Entire Unit  pool_Pool  kitchen_Kitchen  \n",
       "0                   1          1                1  \n",
       "1                   1          1                1  \n",
       "2                   0          1                1  \n",
       "3                   1          1                1  \n",
       "4                   1          1                1  \n",
       "..                ...        ...              ...  \n",
       "295                 1          1                0  \n",
       "296                 1          1                0  \n",
       "297                 1          0                1  \n",
       "298                 1          1                1  \n",
       "299                 1          1                1  \n",
       "\n",
       "[300 rows x 7 columns]"
      ]
     },
     "execution_count": 2,
     "metadata": {},
     "output_type": "execute_result"
    }
   ],
   "source": [
    "features = pd.read_csv('airbnb bali-regression features.csv')\n",
    "features"
   ]
  },
  {
   "cell_type": "markdown",
   "metadata": {},
   "source": [
    "# 4. Model Building"
   ]
  },
  {
   "cell_type": "markdown",
   "metadata": {},
   "source": [
    "## 4.1. First model"
   ]
  },
  {
   "cell_type": "code",
   "execution_count": 3,
   "metadata": {},
   "outputs": [
    {
     "data": {
      "text/html": [
       "<div>\n",
       "<style scoped>\n",
       "    .dataframe tbody tr th:only-of-type {\n",
       "        vertical-align: middle;\n",
       "    }\n",
       "\n",
       "    .dataframe tbody tr th {\n",
       "        vertical-align: top;\n",
       "    }\n",
       "\n",
       "    .dataframe thead th {\n",
       "        text-align: right;\n",
       "    }\n",
       "</style>\n",
       "<table border=\"1\" class=\"dataframe\">\n",
       "  <thead>\n",
       "    <tr style=\"text-align: right;\">\n",
       "      <th></th>\n",
       "      <th>price</th>\n",
       "      <th>max_guest</th>\n",
       "      <th>service_level_PLUS</th>\n",
       "      <th>service_level_SUPERHOST</th>\n",
       "      <th>type_Entire Unit</th>\n",
       "      <th>pool_Pool</th>\n",
       "      <th>kitchen_Kitchen</th>\n",
       "    </tr>\n",
       "  </thead>\n",
       "  <tbody>\n",
       "    <tr>\n",
       "      <th>0</th>\n",
       "      <td>42.0</td>\n",
       "      <td>2.0</td>\n",
       "      <td>0</td>\n",
       "      <td>0</td>\n",
       "      <td>1</td>\n",
       "      <td>1</td>\n",
       "      <td>1</td>\n",
       "    </tr>\n",
       "    <tr>\n",
       "      <th>1</th>\n",
       "      <td>38.0</td>\n",
       "      <td>2.0</td>\n",
       "      <td>0</td>\n",
       "      <td>0</td>\n",
       "      <td>1</td>\n",
       "      <td>1</td>\n",
       "      <td>1</td>\n",
       "    </tr>\n",
       "    <tr>\n",
       "      <th>2</th>\n",
       "      <td>47.0</td>\n",
       "      <td>2.0</td>\n",
       "      <td>0</td>\n",
       "      <td>1</td>\n",
       "      <td>0</td>\n",
       "      <td>1</td>\n",
       "      <td>1</td>\n",
       "    </tr>\n",
       "    <tr>\n",
       "      <th>3</th>\n",
       "      <td>215.0</td>\n",
       "      <td>6.0</td>\n",
       "      <td>0</td>\n",
       "      <td>0</td>\n",
       "      <td>1</td>\n",
       "      <td>1</td>\n",
       "      <td>1</td>\n",
       "    </tr>\n",
       "    <tr>\n",
       "      <th>4</th>\n",
       "      <td>280.0</td>\n",
       "      <td>4.0</td>\n",
       "      <td>1</td>\n",
       "      <td>0</td>\n",
       "      <td>1</td>\n",
       "      <td>1</td>\n",
       "      <td>1</td>\n",
       "    </tr>\n",
       "    <tr>\n",
       "      <th>...</th>\n",
       "      <td>...</td>\n",
       "      <td>...</td>\n",
       "      <td>...</td>\n",
       "      <td>...</td>\n",
       "      <td>...</td>\n",
       "      <td>...</td>\n",
       "      <td>...</td>\n",
       "    </tr>\n",
       "    <tr>\n",
       "      <th>295</th>\n",
       "      <td>171.0</td>\n",
       "      <td>5.0</td>\n",
       "      <td>0</td>\n",
       "      <td>0</td>\n",
       "      <td>1</td>\n",
       "      <td>1</td>\n",
       "      <td>0</td>\n",
       "    </tr>\n",
       "    <tr>\n",
       "      <th>296</th>\n",
       "      <td>50.0</td>\n",
       "      <td>2.0</td>\n",
       "      <td>0</td>\n",
       "      <td>0</td>\n",
       "      <td>1</td>\n",
       "      <td>1</td>\n",
       "      <td>0</td>\n",
       "    </tr>\n",
       "    <tr>\n",
       "      <th>297</th>\n",
       "      <td>19.0</td>\n",
       "      <td>2.0</td>\n",
       "      <td>0</td>\n",
       "      <td>0</td>\n",
       "      <td>1</td>\n",
       "      <td>0</td>\n",
       "      <td>1</td>\n",
       "    </tr>\n",
       "    <tr>\n",
       "      <th>298</th>\n",
       "      <td>100.0</td>\n",
       "      <td>2.0</td>\n",
       "      <td>0</td>\n",
       "      <td>0</td>\n",
       "      <td>1</td>\n",
       "      <td>1</td>\n",
       "      <td>1</td>\n",
       "    </tr>\n",
       "    <tr>\n",
       "      <th>299</th>\n",
       "      <td>59.0</td>\n",
       "      <td>4.0</td>\n",
       "      <td>0</td>\n",
       "      <td>1</td>\n",
       "      <td>1</td>\n",
       "      <td>1</td>\n",
       "      <td>1</td>\n",
       "    </tr>\n",
       "  </tbody>\n",
       "</table>\n",
       "<p>300 rows × 7 columns</p>\n",
       "</div>"
      ],
      "text/plain": [
       "     price  max_guest  service_level_PLUS  service_level_SUPERHOST  \\\n",
       "0     42.0        2.0                   0                        0   \n",
       "1     38.0        2.0                   0                        0   \n",
       "2     47.0        2.0                   0                        1   \n",
       "3    215.0        6.0                   0                        0   \n",
       "4    280.0        4.0                   1                        0   \n",
       "..     ...        ...                 ...                      ...   \n",
       "295  171.0        5.0                   0                        0   \n",
       "296   50.0        2.0                   0                        0   \n",
       "297   19.0        2.0                   0                        0   \n",
       "298  100.0        2.0                   0                        0   \n",
       "299   59.0        4.0                   0                        1   \n",
       "\n",
       "     type_Entire Unit  pool_Pool  kitchen_Kitchen  \n",
       "0                   1          1                1  \n",
       "1                   1          1                1  \n",
       "2                   0          1                1  \n",
       "3                   1          1                1  \n",
       "4                   1          1                1  \n",
       "..                ...        ...              ...  \n",
       "295                 1          1                0  \n",
       "296                 1          1                0  \n",
       "297                 1          0                1  \n",
       "298                 1          1                1  \n",
       "299                 1          1                1  \n",
       "\n",
       "[300 rows x 7 columns]"
      ]
     },
     "execution_count": 3,
     "metadata": {},
     "output_type": "execute_result"
    }
   ],
   "source": [
    "# We use all variables here\n",
    "\n",
    "feat1 = features[['price', 'max_guest', 'service_level_PLUS', 'service_level_SUPERHOST', 'type_Entire Unit', 'pool_Pool', 'kitchen_Kitchen']]\n",
    "\n",
    "feat1 # variables rearranged\n"
   ]
  },
  {
   "cell_type": "code",
   "execution_count": 4,
   "metadata": {},
   "outputs": [],
   "source": [
    "x = feat1.iloc[:, 1:] # predictors\n",
    "y = feat1.iloc[:, 0] # target"
   ]
  },
  {
   "cell_type": "code",
   "execution_count": 5,
   "metadata": {},
   "outputs": [],
   "source": [
    "from sklearn.model_selection import train_test_split\n",
    "\n",
    "# Dataset split\n",
    "# 70:30 split\n",
    "test_ratio = 0.3\n",
    "random_state = 9\n",
    "\n",
    "X_train, X_test, y_train, y_test = train_test_split(x, y, test_size= test_ratio, random_state= random_state)"
   ]
  },
  {
   "cell_type": "code",
   "execution_count": 6,
   "metadata": {},
   "outputs": [
    {
     "data": {
      "text/html": [
       "<table class=\"simpletable\">\n",
       "<caption>OLS Regression Results</caption>\n",
       "<tr>\n",
       "  <th>Dep. Variable:</th>          <td>price</td>      <th>  R-squared:         </th> <td>   0.573</td>\n",
       "</tr>\n",
       "<tr>\n",
       "  <th>Model:</th>                   <td>OLS</td>       <th>  Adj. R-squared:    </th> <td>   0.561</td>\n",
       "</tr>\n",
       "<tr>\n",
       "  <th>Method:</th>             <td>Least Squares</td>  <th>  F-statistic:       </th> <td>   45.45</td>\n",
       "</tr>\n",
       "<tr>\n",
       "  <th>Date:</th>             <td>Fri, 01 Oct 2021</td> <th>  Prob (F-statistic):</th> <td>5.12e-35</td>\n",
       "</tr>\n",
       "<tr>\n",
       "  <th>Time:</th>                 <td>14:43:48</td>     <th>  Log-Likelihood:    </th> <td> -1235.2</td>\n",
       "</tr>\n",
       "<tr>\n",
       "  <th>No. Observations:</th>      <td>   210</td>      <th>  AIC:               </th> <td>   2484.</td>\n",
       "</tr>\n",
       "<tr>\n",
       "  <th>Df Residuals:</th>          <td>   203</td>      <th>  BIC:               </th> <td>   2508.</td>\n",
       "</tr>\n",
       "<tr>\n",
       "  <th>Df Model:</th>              <td>     6</td>      <th>                     </th>     <td> </td>   \n",
       "</tr>\n",
       "<tr>\n",
       "  <th>Covariance Type:</th>      <td>nonrobust</td>    <th>                     </th>     <td> </td>   \n",
       "</tr>\n",
       "</table>\n",
       "<table class=\"simpletable\">\n",
       "<tr>\n",
       "             <td></td>                <th>coef</th>     <th>std err</th>      <th>t</th>      <th>P>|t|</th>  <th>[0.025</th>    <th>0.975]</th>  \n",
       "</tr>\n",
       "<tr>\n",
       "  <th>const</th>                   <td>  -72.4640</td> <td>   20.144</td> <td>   -3.597</td> <td> 0.000</td> <td> -112.183</td> <td>  -32.745</td>\n",
       "</tr>\n",
       "<tr>\n",
       "  <th>max_guest</th>               <td>   41.9633</td> <td>    2.900</td> <td>   14.469</td> <td> 0.000</td> <td>   36.245</td> <td>   47.682</td>\n",
       "</tr>\n",
       "<tr>\n",
       "  <th>service_level_PLUS</th>      <td>   49.7885</td> <td>   26.751</td> <td>    1.861</td> <td> 0.064</td> <td>   -2.956</td> <td>  102.533</td>\n",
       "</tr>\n",
       "<tr>\n",
       "  <th>service_level_SUPERHOST</th> <td>    5.1780</td> <td>   12.989</td> <td>    0.399</td> <td> 0.691</td> <td>  -20.434</td> <td>   30.790</td>\n",
       "</tr>\n",
       "<tr>\n",
       "  <th>type_Entire Unit</th>        <td>   33.0113</td> <td>   15.902</td> <td>    2.076</td> <td> 0.039</td> <td>    1.658</td> <td>   64.365</td>\n",
       "</tr>\n",
       "<tr>\n",
       "  <th>pool_Pool</th>               <td>   37.1129</td> <td>   18.047</td> <td>    2.056</td> <td> 0.041</td> <td>    1.529</td> <td>   72.696</td>\n",
       "</tr>\n",
       "<tr>\n",
       "  <th>kitchen_Kitchen</th>         <td>  -11.0265</td> <td>   15.970</td> <td>   -0.690</td> <td> 0.491</td> <td>  -42.515</td> <td>   20.462</td>\n",
       "</tr>\n",
       "</table>\n",
       "<table class=\"simpletable\">\n",
       "<tr>\n",
       "  <th>Omnibus:</th>       <td>59.203</td> <th>  Durbin-Watson:     </th> <td>   2.025</td> \n",
       "</tr>\n",
       "<tr>\n",
       "  <th>Prob(Omnibus):</th> <td> 0.000</td> <th>  Jarque-Bera (JB):  </th> <td> 598.365</td> \n",
       "</tr>\n",
       "<tr>\n",
       "  <th>Skew:</th>          <td> 0.713</td> <th>  Prob(JB):          </th> <td>1.17e-130</td>\n",
       "</tr>\n",
       "<tr>\n",
       "  <th>Kurtosis:</th>      <td>11.146</td> <th>  Cond. No.          </th> <td>    18.8</td> \n",
       "</tr>\n",
       "</table><br/><br/>Warnings:<br/>[1] Standard Errors assume that the covariance matrix of the errors is correctly specified."
      ],
      "text/plain": [
       "<class 'statsmodels.iolib.summary.Summary'>\n",
       "\"\"\"\n",
       "                            OLS Regression Results                            \n",
       "==============================================================================\n",
       "Dep. Variable:                  price   R-squared:                       0.573\n",
       "Model:                            OLS   Adj. R-squared:                  0.561\n",
       "Method:                 Least Squares   F-statistic:                     45.45\n",
       "Date:                Fri, 01 Oct 2021   Prob (F-statistic):           5.12e-35\n",
       "Time:                        14:43:48   Log-Likelihood:                -1235.2\n",
       "No. Observations:                 210   AIC:                             2484.\n",
       "Df Residuals:                     203   BIC:                             2508.\n",
       "Df Model:                           6                                         \n",
       "Covariance Type:            nonrobust                                         \n",
       "===========================================================================================\n",
       "                              coef    std err          t      P>|t|      [0.025      0.975]\n",
       "-------------------------------------------------------------------------------------------\n",
       "const                     -72.4640     20.144     -3.597      0.000    -112.183     -32.745\n",
       "max_guest                  41.9633      2.900     14.469      0.000      36.245      47.682\n",
       "service_level_PLUS         49.7885     26.751      1.861      0.064      -2.956     102.533\n",
       "service_level_SUPERHOST     5.1780     12.989      0.399      0.691     -20.434      30.790\n",
       "type_Entire Unit           33.0113     15.902      2.076      0.039       1.658      64.365\n",
       "pool_Pool                  37.1129     18.047      2.056      0.041       1.529      72.696\n",
       "kitchen_Kitchen           -11.0265     15.970     -0.690      0.491     -42.515      20.462\n",
       "==============================================================================\n",
       "Omnibus:                       59.203   Durbin-Watson:                   2.025\n",
       "Prob(Omnibus):                  0.000   Jarque-Bera (JB):              598.365\n",
       "Skew:                           0.713   Prob(JB):                    1.17e-130\n",
       "Kurtosis:                      11.146   Cond. No.                         18.8\n",
       "==============================================================================\n",
       "\n",
       "Warnings:\n",
       "[1] Standard Errors assume that the covariance matrix of the errors is correctly specified.\n",
       "\"\"\""
      ]
     },
     "execution_count": 6,
     "metadata": {},
     "output_type": "execute_result"
    }
   ],
   "source": [
    "import statsmodels.api as sm\n",
    "# using statsmodel API\n",
    "\n",
    "modelAPI = sm.OLS(y_train, sm.add_constant(X_train)).fit() #statsmodel API does not automatically add Y-intercept\n",
    "summary_1 = modelAPI.summary()\n",
    "summary_1"
   ]
  },
  {
   "cell_type": "markdown",
   "metadata": {},
   "source": [
    "We finally built our very first model! But is it a good model?\n",
    "\n",
    "First thing first, let's see the p-values of our features. If we choose our alpha at 0.05, we can see that service level plus, service level Superhost, and kitchen have p-values that are  larger than 0.05. Therefore, we can conclude that those variables do not make good predictors. So we can eliminate those, and then try building a new model with the remaining features."
   ]
  },
  {
   "cell_type": "markdown",
   "metadata": {},
   "source": [
    "## 4.2 second model"
   ]
  },
  {
   "cell_type": "code",
   "execution_count": 7,
   "metadata": {},
   "outputs": [
    {
     "data": {
      "text/html": [
       "<div>\n",
       "<style scoped>\n",
       "    .dataframe tbody tr th:only-of-type {\n",
       "        vertical-align: middle;\n",
       "    }\n",
       "\n",
       "    .dataframe tbody tr th {\n",
       "        vertical-align: top;\n",
       "    }\n",
       "\n",
       "    .dataframe thead th {\n",
       "        text-align: right;\n",
       "    }\n",
       "</style>\n",
       "<table border=\"1\" class=\"dataframe\">\n",
       "  <thead>\n",
       "    <tr style=\"text-align: right;\">\n",
       "      <th></th>\n",
       "      <th>price</th>\n",
       "      <th>max_guest</th>\n",
       "      <th>type_Entire Unit</th>\n",
       "      <th>pool_Pool</th>\n",
       "    </tr>\n",
       "  </thead>\n",
       "  <tbody>\n",
       "    <tr>\n",
       "      <th>0</th>\n",
       "      <td>42.0</td>\n",
       "      <td>2.0</td>\n",
       "      <td>1</td>\n",
       "      <td>1</td>\n",
       "    </tr>\n",
       "    <tr>\n",
       "      <th>1</th>\n",
       "      <td>38.0</td>\n",
       "      <td>2.0</td>\n",
       "      <td>1</td>\n",
       "      <td>1</td>\n",
       "    </tr>\n",
       "    <tr>\n",
       "      <th>2</th>\n",
       "      <td>47.0</td>\n",
       "      <td>2.0</td>\n",
       "      <td>0</td>\n",
       "      <td>1</td>\n",
       "    </tr>\n",
       "    <tr>\n",
       "      <th>3</th>\n",
       "      <td>215.0</td>\n",
       "      <td>6.0</td>\n",
       "      <td>1</td>\n",
       "      <td>1</td>\n",
       "    </tr>\n",
       "    <tr>\n",
       "      <th>4</th>\n",
       "      <td>280.0</td>\n",
       "      <td>4.0</td>\n",
       "      <td>1</td>\n",
       "      <td>1</td>\n",
       "    </tr>\n",
       "    <tr>\n",
       "      <th>...</th>\n",
       "      <td>...</td>\n",
       "      <td>...</td>\n",
       "      <td>...</td>\n",
       "      <td>...</td>\n",
       "    </tr>\n",
       "    <tr>\n",
       "      <th>295</th>\n",
       "      <td>171.0</td>\n",
       "      <td>5.0</td>\n",
       "      <td>1</td>\n",
       "      <td>1</td>\n",
       "    </tr>\n",
       "    <tr>\n",
       "      <th>296</th>\n",
       "      <td>50.0</td>\n",
       "      <td>2.0</td>\n",
       "      <td>1</td>\n",
       "      <td>1</td>\n",
       "    </tr>\n",
       "    <tr>\n",
       "      <th>297</th>\n",
       "      <td>19.0</td>\n",
       "      <td>2.0</td>\n",
       "      <td>1</td>\n",
       "      <td>0</td>\n",
       "    </tr>\n",
       "    <tr>\n",
       "      <th>298</th>\n",
       "      <td>100.0</td>\n",
       "      <td>2.0</td>\n",
       "      <td>1</td>\n",
       "      <td>1</td>\n",
       "    </tr>\n",
       "    <tr>\n",
       "      <th>299</th>\n",
       "      <td>59.0</td>\n",
       "      <td>4.0</td>\n",
       "      <td>1</td>\n",
       "      <td>1</td>\n",
       "    </tr>\n",
       "  </tbody>\n",
       "</table>\n",
       "<p>300 rows × 4 columns</p>\n",
       "</div>"
      ],
      "text/plain": [
       "     price  max_guest  type_Entire Unit  pool_Pool\n",
       "0     42.0        2.0                 1          1\n",
       "1     38.0        2.0                 1          1\n",
       "2     47.0        2.0                 0          1\n",
       "3    215.0        6.0                 1          1\n",
       "4    280.0        4.0                 1          1\n",
       "..     ...        ...               ...        ...\n",
       "295  171.0        5.0                 1          1\n",
       "296   50.0        2.0                 1          1\n",
       "297   19.0        2.0                 1          0\n",
       "298  100.0        2.0                 1          1\n",
       "299   59.0        4.0                 1          1\n",
       "\n",
       "[300 rows x 4 columns]"
      ]
     },
     "execution_count": 7,
     "metadata": {},
     "output_type": "execute_result"
    }
   ],
   "source": [
    "#In this model we eliminate service_level and kitchen\n",
    "\n",
    "feat2 = features[['price', 'max_guest', 'type_Entire Unit', 'pool_Pool']]\n",
    "\n",
    "feat2"
   ]
  },
  {
   "cell_type": "code",
   "execution_count": 8,
   "metadata": {},
   "outputs": [],
   "source": [
    "x = feat2.iloc[:, 1:] # predictors\n",
    "y = feat2.iloc[:, 0] # target"
   ]
  },
  {
   "cell_type": "code",
   "execution_count": 9,
   "metadata": {},
   "outputs": [],
   "source": [
    "X_train, X_test, y_train, y_test = train_test_split(x, y, test_size= test_ratio, random_state= random_state)"
   ]
  },
  {
   "cell_type": "code",
   "execution_count": 10,
   "metadata": {
    "scrolled": true
   },
   "outputs": [],
   "source": [
    "modelAPI = sm.OLS(y_train, sm.add_constant(X_train)).fit() #statsmodel API does not automatically add Y-intercept\n"
   ]
  },
  {
   "cell_type": "code",
   "execution_count": 11,
   "metadata": {},
   "outputs": [],
   "source": [
    "c, x1, x2, x3 = modelAPI.params"
   ]
  },
  {
   "cell_type": "code",
   "execution_count": 12,
   "metadata": {
    "scrolled": true
   },
   "outputs": [
    {
     "data": {
      "text/html": [
       "<table class=\"simpletable\">\n",
       "<caption>OLS Regression Results</caption>\n",
       "<tr>\n",
       "  <th>Dep. Variable:</th>          <td>price</td>      <th>  R-squared:         </th> <td>   0.566</td>\n",
       "</tr>\n",
       "<tr>\n",
       "  <th>Model:</th>                   <td>OLS</td>       <th>  Adj. R-squared:    </th> <td>   0.559</td>\n",
       "</tr>\n",
       "<tr>\n",
       "  <th>Method:</th>             <td>Least Squares</td>  <th>  F-statistic:       </th> <td>   89.42</td>\n",
       "</tr>\n",
       "<tr>\n",
       "  <th>Date:</th>             <td>Fri, 01 Oct 2021</td> <th>  Prob (F-statistic):</th> <td>4.32e-37</td>\n",
       "</tr>\n",
       "<tr>\n",
       "  <th>Time:</th>                 <td>14:43:48</td>     <th>  Log-Likelihood:    </th> <td> -1237.0</td>\n",
       "</tr>\n",
       "<tr>\n",
       "  <th>No. Observations:</th>      <td>   210</td>      <th>  AIC:               </th> <td>   2482.</td>\n",
       "</tr>\n",
       "<tr>\n",
       "  <th>Df Residuals:</th>          <td>   206</td>      <th>  BIC:               </th> <td>   2495.</td>\n",
       "</tr>\n",
       "<tr>\n",
       "  <th>Df Model:</th>              <td>     3</td>      <th>                     </th>     <td> </td>   \n",
       "</tr>\n",
       "<tr>\n",
       "  <th>Covariance Type:</th>      <td>nonrobust</td>    <th>                     </th>     <td> </td>   \n",
       "</tr>\n",
       "</table>\n",
       "<table class=\"simpletable\">\n",
       "<tr>\n",
       "          <td></td>            <th>coef</th>     <th>std err</th>      <th>t</th>      <th>P>|t|</th>  <th>[0.025</th>    <th>0.975]</th>  \n",
       "</tr>\n",
       "<tr>\n",
       "  <th>const</th>            <td>  -69.1046</td> <td>   19.227</td> <td>   -3.594</td> <td> 0.000</td> <td> -107.011</td> <td>  -31.198</td>\n",
       "</tr>\n",
       "<tr>\n",
       "  <th>max_guest</th>        <td>   41.3287</td> <td>    2.824</td> <td>   14.636</td> <td> 0.000</td> <td>   35.762</td> <td>   46.896</td>\n",
       "</tr>\n",
       "<tr>\n",
       "  <th>type_Entire Unit</th> <td>   27.8700</td> <td>   13.605</td> <td>    2.048</td> <td> 0.042</td> <td>    1.047</td> <td>   54.693</td>\n",
       "</tr>\n",
       "<tr>\n",
       "  <th>pool_Pool</th>        <td>   37.5992</td> <td>   17.599</td> <td>    2.136</td> <td> 0.034</td> <td>    2.901</td> <td>   72.297</td>\n",
       "</tr>\n",
       "</table>\n",
       "<table class=\"simpletable\">\n",
       "<tr>\n",
       "  <th>Omnibus:</th>       <td>59.901</td> <th>  Durbin-Watson:     </th> <td>   2.001</td> \n",
       "</tr>\n",
       "<tr>\n",
       "  <th>Prob(Omnibus):</th> <td> 0.000</td> <th>  Jarque-Bera (JB):  </th> <td> 533.647</td> \n",
       "</tr>\n",
       "<tr>\n",
       "  <th>Skew:</th>          <td> 0.775</td> <th>  Prob(JB):          </th> <td>1.32e-116</td>\n",
       "</tr>\n",
       "<tr>\n",
       "  <th>Kurtosis:</th>      <td>10.654</td> <th>  Cond. No.          </th> <td>    16.5</td> \n",
       "</tr>\n",
       "</table><br/><br/>Warnings:<br/>[1] Standard Errors assume that the covariance matrix of the errors is correctly specified."
      ],
      "text/plain": [
       "<class 'statsmodels.iolib.summary.Summary'>\n",
       "\"\"\"\n",
       "                            OLS Regression Results                            \n",
       "==============================================================================\n",
       "Dep. Variable:                  price   R-squared:                       0.566\n",
       "Model:                            OLS   Adj. R-squared:                  0.559\n",
       "Method:                 Least Squares   F-statistic:                     89.42\n",
       "Date:                Fri, 01 Oct 2021   Prob (F-statistic):           4.32e-37\n",
       "Time:                        14:43:48   Log-Likelihood:                -1237.0\n",
       "No. Observations:                 210   AIC:                             2482.\n",
       "Df Residuals:                     206   BIC:                             2495.\n",
       "Df Model:                           3                                         \n",
       "Covariance Type:            nonrobust                                         \n",
       "====================================================================================\n",
       "                       coef    std err          t      P>|t|      [0.025      0.975]\n",
       "------------------------------------------------------------------------------------\n",
       "const              -69.1046     19.227     -3.594      0.000    -107.011     -31.198\n",
       "max_guest           41.3287      2.824     14.636      0.000      35.762      46.896\n",
       "type_Entire Unit    27.8700     13.605      2.048      0.042       1.047      54.693\n",
       "pool_Pool           37.5992     17.599      2.136      0.034       2.901      72.297\n",
       "==============================================================================\n",
       "Omnibus:                       59.901   Durbin-Watson:                   2.001\n",
       "Prob(Omnibus):                  0.000   Jarque-Bera (JB):              533.647\n",
       "Skew:                           0.775   Prob(JB):                    1.32e-116\n",
       "Kurtosis:                      10.654   Cond. No.                         16.5\n",
       "==============================================================================\n",
       "\n",
       "Warnings:\n",
       "[1] Standard Errors assume that the covariance matrix of the errors is correctly specified.\n",
       "\"\"\""
      ]
     },
     "execution_count": 12,
     "metadata": {},
     "output_type": "execute_result"
    }
   ],
   "source": [
    "summary_2 = modelAPI.summary()\n",
    "summary_2\n",
    "\n",
    "# All of the predictors are statistically significant (alpha = 0.05)\n",
    "# This one makes better model (based on p-values)"
   ]
  },
  {
   "cell_type": "markdown",
   "metadata": {},
   "source": [
    "- Adjusted R2 go down a bit\n",
    "- Based on p-values, those independent variables make good predictors"
   ]
  },
  {
   "cell_type": "code",
   "execution_count": 13,
   "metadata": {},
   "outputs": [
    {
     "name": "stdout",
     "output_type": "stream",
     "text": [
      "y = -69.10 + 41.33x1 + 27.87x2 + 37.60x3\n"
     ]
    }
   ],
   "source": [
    "print(f'y = {c:.2f} + {x1:.2f}x1 + {x2:.2f}x2 + {x3:.2f}x3') # This is our regression function"
   ]
  },
  {
   "cell_type": "code",
   "execution_count": 14,
   "metadata": {
    "scrolled": true
   },
   "outputs": [
    {
     "data": {
      "text/plain": [
       "90"
      ]
     },
     "execution_count": 14,
     "metadata": {},
     "output_type": "execute_result"
    }
   ],
   "source": [
    "y_pred = modelAPI.predict(sm.add_constant(X_test))\n",
    "len(y_pred)"
   ]
  },
  {
   "cell_type": "code",
   "execution_count": 15,
   "metadata": {},
   "outputs": [
    {
     "data": {
      "text/plain": [
       "90"
      ]
     },
     "execution_count": 15,
     "metadata": {},
     "output_type": "execute_result"
    }
   ],
   "source": [
    "len(y_test)"
   ]
  },
  {
   "cell_type": "code",
   "execution_count": 16,
   "metadata": {
    "scrolled": false
   },
   "outputs": [
    {
     "data": {
      "image/png": "[encoded data removed]",
      "text/plain": [
       "<Figure size 936x504 with 1 Axes>"
      ]
     },
     "metadata": {
      "needs_background": "light"
     },
     "output_type": "display_data"
    }
   ],
   "source": [
    "plt.figure(figsize = [13,7])\n",
    "plt.scatter(y_pred,y_test, marker = '.')\n",
    "plt.plot(y_pred, y_pred, color = 'red')\n",
    "\n",
    "plt.xlabel('Predicted Price')\n",
    "plt.ylabel('Observed Price')\n",
    "plt.grid()\n",
    "plt.show()"
   ]
  },
  {
   "cell_type": "code",
   "execution_count": 17,
   "metadata": {},
   "outputs": [],
   "source": [
    "s1 = pd.Series(y_pred, name = 'price_pred')"
   ]
  },
  {
   "cell_type": "code",
   "execution_count": 18,
   "metadata": {
    "scrolled": false
   },
   "outputs": [],
   "source": [
    "prices2 = pd.concat([y_test, s1], axis = 1)\n",
    "prices2['residual'] = prices2['price'] - prices2['price_pred']"
   ]
  },
  {
   "cell_type": "code",
   "execution_count": 19,
   "metadata": {
    "scrolled": true
   },
   "outputs": [
    {
     "data": {
      "image/png": "[encoded data removed]",
      "text/plain": [
       "<Figure size 936x504 with 1 Axes>"
      ]
     },
     "metadata": {
      "needs_background": "light"
     },
     "output_type": "display_data"
    }
   ],
   "source": [
    "# Residual Plot\n",
    "\n",
    "plt.figure(figsize = [13,7])\n",
    "plt.scatter(prices2['price_pred'], prices2['residual'], marker = '.')\n",
    "plt.hlines(y = 0, xmin = prices2['price_pred'].min(), xmax = prices2['price_pred'].max(), color = 'red')\n",
    "plt.title('Residual Plot')\n",
    "\n",
    "plt.grid()\n",
    "plt.show()\n",
    "\n",
    "# seems like our model can better predict for lower range of price\n",
    "# we do not know for sure why and we can only guess\n",
    "# data is quite sparse for higher price range\n",
    "# as price increases, villas and hotels offer more amenities\n",
    "# there are also other factors not taken into account into our model\n",
    "# such as supply and demand, popularity, etc.\n",
    "# not to forget that the data is gained during covid19 pandemic"
   ]
  },
  {
   "cell_type": "code",
   "execution_count": null,
   "metadata": {},
   "outputs": [],
   "source": []
  },
  {
   "cell_type": "code",
   "execution_count": 20,
   "metadata": {
    "scrolled": true
   },
   "outputs": [
    {
     "data": {
      "image/png": "[encoded data removed]",
      "text/plain": [
       "<Figure size 432x288 with 1 Axes>"
      ]
     },
     "metadata": {
      "needs_background": "light"
     },
     "output_type": "display_data"
    }
   ],
   "source": [
    "# Distribution of residual\n",
    "\n",
    "plt.hist(prices2['residual'], bins = 21)\n",
    "\n",
    "plt.grid()\n",
    "plt.show()\n",
    "\n",
    "# Data is skewed"
   ]
  },
  {
   "cell_type": "code",
   "execution_count": 21,
   "metadata": {},
   "outputs": [
    {
     "data": {
      "image/png": "[encoded data removed]",
      "text/plain": [
       "<Figure size 936x504 with 1 Axes>"
      ]
     },
     "metadata": {
      "needs_background": "light"
     },
     "output_type": "display_data"
    }
   ],
   "source": [
    "import pylab\n",
    "\n",
    "plt.figure(figsize = [13,7])\n",
    "stats.probplot(prices2['residual'], plot = plt)\n",
    "\n",
    "plt.grid()\n",
    "plt.show()"
   ]
  },
  {
   "cell_type": "code",
   "execution_count": 22,
   "metadata": {},
   "outputs": [
    {
     "data": {
      "text/plain": [
       "ShapiroResult(statistic=0.7744854688644409, pvalue=1.9719222088543376e-10)"
      ]
     },
     "execution_count": 22,
     "metadata": {},
     "output_type": "execute_result"
    }
   ],
   "source": [
    "# alpha = 0.05\n",
    "\n",
    "stats.shapiro(prices2['residual']) #very small p-value\n",
    "\n",
    "# p-value much smaller than alpha --> the residuals are not normally distributed\n",
    "# Since the normality assumption is violated, The second model is a bad one.\n",
    "# Next, we try to transform the target feature"
   ]
  },
  {
   "cell_type": "markdown",
   "metadata": {},
   "source": [
    "## 4.3. Third model"
   ]
  },
  {
   "cell_type": "code",
   "execution_count": 23,
   "metadata": {},
   "outputs": [
    {
     "data": {
      "text/html": [
       "<div>\n",
       "<style scoped>\n",
       "    .dataframe tbody tr th:only-of-type {\n",
       "        vertical-align: middle;\n",
       "    }\n",
       "\n",
       "    .dataframe tbody tr th {\n",
       "        vertical-align: top;\n",
       "    }\n",
       "\n",
       "    .dataframe thead th {\n",
       "        text-align: right;\n",
       "    }\n",
       "</style>\n",
       "<table border=\"1\" class=\"dataframe\">\n",
       "  <thead>\n",
       "    <tr style=\"text-align: right;\">\n",
       "      <th></th>\n",
       "      <th>log_price</th>\n",
       "      <th>max_guest</th>\n",
       "      <th>type_Entire Unit</th>\n",
       "      <th>pool_Pool</th>\n",
       "    </tr>\n",
       "  </thead>\n",
       "  <tbody>\n",
       "    <tr>\n",
       "      <th>0</th>\n",
       "      <td>3.737670</td>\n",
       "      <td>2.0</td>\n",
       "      <td>1</td>\n",
       "      <td>1</td>\n",
       "    </tr>\n",
       "    <tr>\n",
       "      <th>1</th>\n",
       "      <td>3.637586</td>\n",
       "      <td>2.0</td>\n",
       "      <td>1</td>\n",
       "      <td>1</td>\n",
       "    </tr>\n",
       "    <tr>\n",
       "      <th>2</th>\n",
       "      <td>3.850148</td>\n",
       "      <td>2.0</td>\n",
       "      <td>0</td>\n",
       "      <td>1</td>\n",
       "    </tr>\n",
       "    <tr>\n",
       "      <th>3</th>\n",
       "      <td>5.370638</td>\n",
       "      <td>6.0</td>\n",
       "      <td>1</td>\n",
       "      <td>1</td>\n",
       "    </tr>\n",
       "    <tr>\n",
       "      <th>4</th>\n",
       "      <td>5.634790</td>\n",
       "      <td>4.0</td>\n",
       "      <td>1</td>\n",
       "      <td>1</td>\n",
       "    </tr>\n",
       "    <tr>\n",
       "      <th>...</th>\n",
       "      <td>...</td>\n",
       "      <td>...</td>\n",
       "      <td>...</td>\n",
       "      <td>...</td>\n",
       "    </tr>\n",
       "    <tr>\n",
       "      <th>295</th>\n",
       "      <td>5.141664</td>\n",
       "      <td>5.0</td>\n",
       "      <td>1</td>\n",
       "      <td>1</td>\n",
       "    </tr>\n",
       "    <tr>\n",
       "      <th>296</th>\n",
       "      <td>3.912023</td>\n",
       "      <td>2.0</td>\n",
       "      <td>1</td>\n",
       "      <td>1</td>\n",
       "    </tr>\n",
       "    <tr>\n",
       "      <th>297</th>\n",
       "      <td>2.944439</td>\n",
       "      <td>2.0</td>\n",
       "      <td>1</td>\n",
       "      <td>0</td>\n",
       "    </tr>\n",
       "    <tr>\n",
       "      <th>298</th>\n",
       "      <td>4.605170</td>\n",
       "      <td>2.0</td>\n",
       "      <td>1</td>\n",
       "      <td>1</td>\n",
       "    </tr>\n",
       "    <tr>\n",
       "      <th>299</th>\n",
       "      <td>4.077537</td>\n",
       "      <td>4.0</td>\n",
       "      <td>1</td>\n",
       "      <td>1</td>\n",
       "    </tr>\n",
       "  </tbody>\n",
       "</table>\n",
       "<p>300 rows × 4 columns</p>\n",
       "</div>"
      ],
      "text/plain": [
       "     log_price  max_guest  type_Entire Unit  pool_Pool\n",
       "0     3.737670        2.0                 1          1\n",
       "1     3.637586        2.0                 1          1\n",
       "2     3.850148        2.0                 0          1\n",
       "3     5.370638        6.0                 1          1\n",
       "4     5.634790        4.0                 1          1\n",
       "..         ...        ...               ...        ...\n",
       "295   5.141664        5.0                 1          1\n",
       "296   3.912023        2.0                 1          1\n",
       "297   2.944439        2.0                 1          0\n",
       "298   4.605170        2.0                 1          1\n",
       "299   4.077537        4.0                 1          1\n",
       "\n",
       "[300 rows x 4 columns]"
      ]
     },
     "execution_count": 23,
     "metadata": {},
     "output_type": "execute_result"
    }
   ],
   "source": [
    "# For our third model, we are using the same predictors as those of second model\n",
    "# The difference is we log-transform the target so as to reduce the skew of this variable\n",
    "# Thus, making the data more normal and reducing the model's bias\n",
    "# We use natural logarithm (with base number of Euler's number or e)\n",
    "\n",
    "feat3 = features[['price', 'max_guest', 'type_Entire Unit', 'pool_Pool']]\n",
    "feat3['log_price'] = np.log(feat3['price']) # This is when the log-transformation happens\n",
    "feat3 = feat3.drop(labels = 'price', axis = 1)\n",
    "feat3 = feat3[['log_price', 'max_guest', 'type_Entire Unit', 'pool_Pool']]\n",
    "feat3"
   ]
  },
  {
   "cell_type": "code",
   "execution_count": 24,
   "metadata": {},
   "outputs": [],
   "source": [
    "x = feat3.drop(labels = 'log_price', axis = 1)\n",
    "y = feat3['log_price']"
   ]
  },
  {
   "cell_type": "code",
   "execution_count": 25,
   "metadata": {},
   "outputs": [],
   "source": [
    "X_train, X_test, y_train, y_test = train_test_split(x, y, test_size= test_ratio, random_state= random_state)"
   ]
  },
  {
   "cell_type": "code",
   "execution_count": 26,
   "metadata": {
    "scrolled": true
   },
   "outputs": [
    {
     "data": {
      "text/html": [
       "<table class=\"simpletable\">\n",
       "<caption>OLS Regression Results</caption>\n",
       "<tr>\n",
       "  <th>Dep. Variable:</th>        <td>log_price</td>    <th>  R-squared:         </th> <td>   0.451</td>\n",
       "</tr>\n",
       "<tr>\n",
       "  <th>Model:</th>                   <td>OLS</td>       <th>  Adj. R-squared:    </th> <td>   0.443</td>\n",
       "</tr>\n",
       "<tr>\n",
       "  <th>Method:</th>             <td>Least Squares</td>  <th>  F-statistic:       </th> <td>   56.34</td>\n",
       "</tr>\n",
       "<tr>\n",
       "  <th>Date:</th>             <td>Fri, 01 Oct 2021</td> <th>  Prob (F-statistic):</th> <td>1.23e-26</td>\n",
       "</tr>\n",
       "<tr>\n",
       "  <th>Time:</th>                 <td>14:43:49</td>     <th>  Log-Likelihood:    </th> <td> -218.61</td>\n",
       "</tr>\n",
       "<tr>\n",
       "  <th>No. Observations:</th>      <td>   210</td>      <th>  AIC:               </th> <td>   445.2</td>\n",
       "</tr>\n",
       "<tr>\n",
       "  <th>Df Residuals:</th>          <td>   206</td>      <th>  BIC:               </th> <td>   458.6</td>\n",
       "</tr>\n",
       "<tr>\n",
       "  <th>Df Model:</th>              <td>     3</td>      <th>                     </th>     <td> </td>   \n",
       "</tr>\n",
       "<tr>\n",
       "  <th>Covariance Type:</th>      <td>nonrobust</td>    <th>                     </th>     <td> </td>   \n",
       "</tr>\n",
       "</table>\n",
       "<table class=\"simpletable\">\n",
       "<tr>\n",
       "          <td></td>            <th>coef</th>     <th>std err</th>      <th>t</th>      <th>P>|t|</th>  <th>[0.025</th>    <th>0.975]</th>  \n",
       "</tr>\n",
       "<tr>\n",
       "  <th>const</th>            <td>    2.7068</td> <td>    0.151</td> <td>   17.977</td> <td> 0.000</td> <td>    2.410</td> <td>    3.004</td>\n",
       "</tr>\n",
       "<tr>\n",
       "  <th>max_guest</th>        <td>    0.1969</td> <td>    0.022</td> <td>    8.905</td> <td> 0.000</td> <td>    0.153</td> <td>    0.241</td>\n",
       "</tr>\n",
       "<tr>\n",
       "  <th>type_Entire Unit</th> <td>    0.5215</td> <td>    0.107</td> <td>    4.894</td> <td> 0.000</td> <td>    0.311</td> <td>    0.732</td>\n",
       "</tr>\n",
       "<tr>\n",
       "  <th>pool_Pool</th>        <td>    0.6543</td> <td>    0.138</td> <td>    4.747</td> <td> 0.000</td> <td>    0.383</td> <td>    0.926</td>\n",
       "</tr>\n",
       "</table>\n",
       "<table class=\"simpletable\">\n",
       "<tr>\n",
       "  <th>Omnibus:</th>       <td> 1.946</td> <th>  Durbin-Watson:     </th> <td>   2.173</td>\n",
       "</tr>\n",
       "<tr>\n",
       "  <th>Prob(Omnibus):</th> <td> 0.378</td> <th>  Jarque-Bera (JB):  </th> <td>   1.992</td>\n",
       "</tr>\n",
       "<tr>\n",
       "  <th>Skew:</th>          <td> 0.227</td> <th>  Prob(JB):          </th> <td>   0.369</td>\n",
       "</tr>\n",
       "<tr>\n",
       "  <th>Kurtosis:</th>      <td> 2.856</td> <th>  Cond. No.          </th> <td>    16.5</td>\n",
       "</tr>\n",
       "</table><br/><br/>Warnings:<br/>[1] Standard Errors assume that the covariance matrix of the errors is correctly specified."
      ],
      "text/plain": [
       "<class 'statsmodels.iolib.summary.Summary'>\n",
       "\"\"\"\n",
       "                            OLS Regression Results                            \n",
       "==============================================================================\n",
       "Dep. Variable:              log_price   R-squared:                       0.451\n",
       "Model:                            OLS   Adj. R-squared:                  0.443\n",
       "Method:                 Least Squares   F-statistic:                     56.34\n",
       "Date:                Fri, 01 Oct 2021   Prob (F-statistic):           1.23e-26\n",
       "Time:                        14:43:49   Log-Likelihood:                -218.61\n",
       "No. Observations:                 210   AIC:                             445.2\n",
       "Df Residuals:                     206   BIC:                             458.6\n",
       "Df Model:                           3                                         \n",
       "Covariance Type:            nonrobust                                         \n",
       "====================================================================================\n",
       "                       coef    std err          t      P>|t|      [0.025      0.975]\n",
       "------------------------------------------------------------------------------------\n",
       "const                2.7068      0.151     17.977      0.000       2.410       3.004\n",
       "max_guest            0.1969      0.022      8.905      0.000       0.153       0.241\n",
       "type_Entire Unit     0.5215      0.107      4.894      0.000       0.311       0.732\n",
       "pool_Pool            0.6543      0.138      4.747      0.000       0.383       0.926\n",
       "==============================================================================\n",
       "Omnibus:                        1.946   Durbin-Watson:                   2.173\n",
       "Prob(Omnibus):                  0.378   Jarque-Bera (JB):                1.992\n",
       "Skew:                           0.227   Prob(JB):                        0.369\n",
       "Kurtosis:                       2.856   Cond. No.                         16.5\n",
       "==============================================================================\n",
       "\n",
       "Warnings:\n",
       "[1] Standard Errors assume that the covariance matrix of the errors is correctly specified.\n",
       "\"\"\""
      ]
     },
     "execution_count": 26,
     "metadata": {},
     "output_type": "execute_result"
    }
   ],
   "source": [
    "modelAPI = sm.OLS(y_train, sm.add_constant(X_train)).fit() #statsmodel API does not automatically add Y-intercept\n",
    "\n",
    "\n",
    "summary_3 = modelAPI.summary()\n",
    "summary_3"
   ]
  },
  {
   "cell_type": "code",
   "execution_count": 27,
   "metadata": {},
   "outputs": [],
   "source": [
    "y_pred = modelAPI.predict(sm.add_constant(X_test))"
   ]
  },
  {
   "cell_type": "code",
   "execution_count": 28,
   "metadata": {},
   "outputs": [
    {
     "data": {
      "text/plain": [
       "0.4506880241054766"
      ]
     },
     "execution_count": 28,
     "metadata": {},
     "output_type": "execute_result"
    }
   ],
   "source": [
    "r2_3 = r2_score(y_true = y_train, y_pred = modelAPI.predict(sm.add_constant(X_train)))\n",
    "r2_3"
   ]
  },
  {
   "cell_type": "code",
   "execution_count": 29,
   "metadata": {},
   "outputs": [
    {
     "data": {
      "text/plain": [
       "0.43279739761413394"
      ]
     },
     "execution_count": 29,
     "metadata": {},
     "output_type": "execute_result"
    }
   ],
   "source": [
    "r2_score(y_true = y_test, y_pred = y_pred) # calculating R-squared of test set\n",
    "\n",
    "# R-squared is not too different from that of X_train --> model is valid"
   ]
  },
  {
   "cell_type": "code",
   "execution_count": 30,
   "metadata": {},
   "outputs": [],
   "source": [
    "ypred_1 = y_pred"
   ]
  },
  {
   "cell_type": "code",
   "execution_count": 31,
   "metadata": {
    "scrolled": true
   },
   "outputs": [
    {
     "name": "stdout",
     "output_type": "stream",
     "text": [
      "y = 2.707 + 0.197x1 + 0.521x2 + 0.654x3\n"
     ]
    }
   ],
   "source": [
    "c, x1, x2, x3 = modelAPI.params\n",
    "print(f'y = {c:.3f} + {x1:.3f}x1 + {x2:.3f}x2 + {x3:.3f}x3') # This is our regression function"
   ]
  },
  {
   "cell_type": "code",
   "execution_count": 32,
   "metadata": {
    "scrolled": true
   },
   "outputs": [
    {
     "data": {
      "image/png": "[encoded data removed]",
      "text/plain": [
       "<Figure size 936x504 with 1 Axes>"
      ]
     },
     "metadata": {
      "needs_background": "light"
     },
     "output_type": "display_data"
    }
   ],
   "source": [
    "plt.figure(figsize = [13,7])\n",
    "plt.scatter(y_pred,y_test, marker = '.')\n",
    "plt.plot(y_pred, y_pred, color = 'red')\n",
    "\n",
    "plt.xlabel('Predicted ln(Price)')\n",
    "plt.ylabel('Observed ln(Price)')\n",
    "plt.grid()\n",
    "plt.show()"
   ]
  },
  {
   "cell_type": "code",
   "execution_count": 33,
   "metadata": {},
   "outputs": [],
   "source": [
    "s1 = pd.Series(y_pred, name = 'logprice_pred')"
   ]
  },
  {
   "cell_type": "code",
   "execution_count": 34,
   "metadata": {},
   "outputs": [],
   "source": [
    "prices3 = pd.concat([y_test, s1], axis = 1)\n",
    "prices3['residual'] = prices3['log_price'] - prices3['logprice_pred']"
   ]
  },
  {
   "cell_type": "code",
   "execution_count": 35,
   "metadata": {},
   "outputs": [
    {
     "data": {
      "text/html": [
       "<div>\n",
       "<style scoped>\n",
       "    .dataframe tbody tr th:only-of-type {\n",
       "        vertical-align: middle;\n",
       "    }\n",
       "\n",
       "    .dataframe tbody tr th {\n",
       "        vertical-align: top;\n",
       "    }\n",
       "\n",
       "    .dataframe thead th {\n",
       "        text-align: right;\n",
       "    }\n",
       "</style>\n",
       "<table border=\"1\" class=\"dataframe\">\n",
       "  <thead>\n",
       "    <tr style=\"text-align: right;\">\n",
       "      <th></th>\n",
       "      <th>log_price</th>\n",
       "      <th>logprice_pred</th>\n",
       "      <th>residual</th>\n",
       "    </tr>\n",
       "  </thead>\n",
       "  <tbody>\n",
       "    <tr>\n",
       "      <th>39</th>\n",
       "      <td>4.477337</td>\n",
       "      <td>3.297623</td>\n",
       "      <td>1.179714</td>\n",
       "    </tr>\n",
       "    <tr>\n",
       "      <th>38</th>\n",
       "      <td>5.686975</td>\n",
       "      <td>5.064153</td>\n",
       "      <td>0.622822</td>\n",
       "    </tr>\n",
       "    <tr>\n",
       "      <th>183</th>\n",
       "      <td>2.564949</td>\n",
       "      <td>3.100694</td>\n",
       "      <td>-0.535744</td>\n",
       "    </tr>\n",
       "    <tr>\n",
       "      <th>13</th>\n",
       "      <td>4.779123</td>\n",
       "      <td>4.276436</td>\n",
       "      <td>0.502687</td>\n",
       "    </tr>\n",
       "    <tr>\n",
       "      <th>90</th>\n",
       "      <td>3.135494</td>\n",
       "      <td>3.622170</td>\n",
       "      <td>-0.486675</td>\n",
       "    </tr>\n",
       "    <tr>\n",
       "      <th>...</th>\n",
       "      <td>...</td>\n",
       "      <td>...</td>\n",
       "      <td>...</td>\n",
       "    </tr>\n",
       "    <tr>\n",
       "      <th>77</th>\n",
       "      <td>2.484907</td>\n",
       "      <td>3.100694</td>\n",
       "      <td>-0.615787</td>\n",
       "    </tr>\n",
       "    <tr>\n",
       "      <th>80</th>\n",
       "      <td>3.988984</td>\n",
       "      <td>4.276436</td>\n",
       "      <td>-0.287452</td>\n",
       "    </tr>\n",
       "    <tr>\n",
       "      <th>78</th>\n",
       "      <td>4.382027</td>\n",
       "      <td>3.754960</td>\n",
       "      <td>0.627066</td>\n",
       "    </tr>\n",
       "    <tr>\n",
       "      <th>101</th>\n",
       "      <td>5.545177</td>\n",
       "      <td>4.276436</td>\n",
       "      <td>1.268741</td>\n",
       "    </tr>\n",
       "    <tr>\n",
       "      <th>8</th>\n",
       "      <td>3.465736</td>\n",
       "      <td>3.754960</td>\n",
       "      <td>-0.289224</td>\n",
       "    </tr>\n",
       "  </tbody>\n",
       "</table>\n",
       "<p>90 rows × 3 columns</p>\n",
       "</div>"
      ],
      "text/plain": [
       "     log_price  logprice_pred  residual\n",
       "39    4.477337       3.297623  1.179714\n",
       "38    5.686975       5.064153  0.622822\n",
       "183   2.564949       3.100694 -0.535744\n",
       "13    4.779123       4.276436  0.502687\n",
       "90    3.135494       3.622170 -0.486675\n",
       "..         ...            ...       ...\n",
       "77    2.484907       3.100694 -0.615787\n",
       "80    3.988984       4.276436 -0.287452\n",
       "78    4.382027       3.754960  0.627066\n",
       "101   5.545177       4.276436  1.268741\n",
       "8     3.465736       3.754960 -0.289224\n",
       "\n",
       "[90 rows x 3 columns]"
      ]
     },
     "execution_count": 35,
     "metadata": {},
     "output_type": "execute_result"
    }
   ],
   "source": [
    "prices3"
   ]
  },
  {
   "cell_type": "code",
   "execution_count": 36,
   "metadata": {},
   "outputs": [
    {
     "data": {
      "image/png": "[encoded data removed]",
      "text/plain": [
       "<Figure size 936x504 with 1 Axes>"
      ]
     },
     "metadata": {
      "needs_background": "light"
     },
     "output_type": "display_data"
    }
   ],
   "source": [
    "plt.figure(figsize = [13,7])\n",
    "plt.scatter(prices3['logprice_pred'], prices3['residual'], marker = '.')\n",
    "plt.hlines(y = 0, xmin = prices3['logprice_pred'].min(), xmax = prices3['logprice_pred'].max(), color = 'red')\n",
    "plt.title('Residual Plot')\n",
    "\n",
    "plt.grid()\n",
    "plt.show()\n",
    "\n",
    "# Considering the value of adjusted R2 that is not very high, it is not surprising that the residuals are not scattered closely to the red line\n",
    "# However, low R2 does not mean that the model is bad, it simply means that the data has high variability"
   ]
  },
  {
   "cell_type": "code",
   "execution_count": 37,
   "metadata": {
    "scrolled": true
   },
   "outputs": [
    {
     "data": {
      "image/png": "[encoded data removed]",
      "text/plain": [
       "<Figure size 432x288 with 1 Axes>"
      ]
     },
     "metadata": {
      "needs_background": "light"
     },
     "output_type": "display_data"
    }
   ],
   "source": [
    "# For the next step, we want to know if the residuals are normally distributed\n",
    "\n",
    "plt.hist(prices3['residual'])\n",
    "plt.show()\n",
    "\n",
    "# looks quite normal"
   ]
  },
  {
   "cell_type": "code",
   "execution_count": 38,
   "metadata": {},
   "outputs": [
    {
     "data": {
      "image/png": "[encoded data removed]",
      "text/plain": [
       "<Figure size 936x504 with 1 Axes>"
      ]
     },
     "metadata": {
      "needs_background": "light"
     },
     "output_type": "display_data"
    }
   ],
   "source": [
    "plt.figure(figsize = [13,7])\n",
    "stats.probplot(prices3['residual'], plot = plt)\n",
    "\n",
    "plt.grid()\n",
    "plt.show()"
   ]
  },
  {
   "cell_type": "code",
   "execution_count": 39,
   "metadata": {},
   "outputs": [
    {
     "data": {
      "text/plain": [
       "ShapiroResult(statistic=0.9915340542793274, pvalue=0.8372133374214172)"
      ]
     },
     "execution_count": 39,
     "metadata": {},
     "output_type": "execute_result"
    }
   ],
   "source": [
    "# From graphical evaluation, we can see that the residuals are normally distributed\n",
    "# But to make sure, we want to run Shapiro-Wilk Test\n",
    "# chosen alpha = 0.05\n",
    "\n",
    "stats.shapiro(prices3['residual'])\n",
    "\n",
    "# p-value is larger than 0.05 --> the distribution of this data is no different from normal distribution\n",
    "# Therefore, the assumption of normality is not violated by this model"
   ]
  },
  {
   "cell_type": "code",
   "execution_count": 40,
   "metadata": {},
   "outputs": [
    {
     "data": {
      "text/plain": [
       "1.3510675385811342"
      ]
     },
     "execution_count": 40,
     "metadata": {},
     "output_type": "execute_result"
    }
   ],
   "source": [
    "# Prediction interval\n",
    "\n",
    "sum_err = sum(prices3['residual']**2)\n",
    "stdev = (1/(len(prices3) -2 ) * sum_err)**0.5\n",
    "z_score = stats.norm.ppf(1 - (1-0.95)/2)\n",
    "interval3 = z_score*stdev\n",
    "\n",
    "interval3"
   ]
  },
  {
   "cell_type": "code",
   "execution_count": 41,
   "metadata": {},
   "outputs": [
    {
     "data": {
      "image/png": "[encoded data removed]",
      "text/plain": [
       "<Figure size 936x504 with 1 Axes>"
      ]
     },
     "metadata": {
      "needs_background": "light"
     },
     "output_type": "display_data"
    }
   ],
   "source": [
    "# Calculating the prediction interval\n",
    "# prediction interval is the range of value where the predicted value will fall \n",
    "\n",
    "plt.figure(figsize = [13,7])\n",
    "plt.plot(y_pred, y_pred)\n",
    "plt.plot(y_pred, y_pred+interval3, color = 'green', linestyle = '--')\n",
    "plt.plot(y_pred, y_pred-interval3, color = 'red', linestyle = '--')\n",
    "plt.scatter(y_pred,y_test, marker = 'x')\n",
    "\n",
    "plt.grid()\n",
    "plt.show()"
   ]
  },
  {
   "cell_type": "code",
   "execution_count": 42,
   "metadata": {},
   "outputs": [
    {
     "data": {
      "image/png": "[encoded data removed]",
      "text/plain": [
       "<Figure size 936x504 with 1 Axes>"
      ]
     },
     "metadata": {
      "needs_background": "light"
     },
     "output_type": "display_data"
    }
   ],
   "source": [
    "# We should not forget that our target was log-transformed\n",
    "# Therefore, we should revert it back to its original form by using exponential function with the base of Euler's number\n",
    "\n",
    "plt.figure(figsize = [13,7])\n",
    "plt.plot(y_pred.sort_values(), np.exp(y_pred.sort_values()))\n",
    "plt.plot(y_pred.sort_values(), np.exp(y_pred.sort_values() + interval3), linestyle = '--', color = 'green')\n",
    "plt.plot(y_pred.sort_values(), np.exp(y_pred.sort_values() - interval3), linestyle = '--', color = 'red')\n",
    "\n",
    "plt.xlabel('ln(Predicted Price)')\n",
    "plt.ylabel('Predicted Price in USD')\n",
    "plt.grid()\n",
    "plt.show()"
   ]
  },
  {
   "cell_type": "markdown",
   "metadata": {},
   "source": [
    "Conclusion:\n",
    "- The model can predict hotel/villa price fairly well at lower price range. However, as the predicted price increases the interval also increases exponentially"
   ]
  },
  {
   "cell_type": "code",
   "execution_count": 43,
   "metadata": {},
   "outputs": [
    {
     "name": "stdout",
     "output_type": "stream",
     "text": [
      "MSE : 0.465 , RMSE : 0.682\n"
     ]
    }
   ],
   "source": [
    "from sklearn.metrics import mean_squared_error\n",
    "import math\n",
    "\n",
    "\n",
    "MSE3 = mean_squared_error(prices3['log_price'],prices3['logprice_pred'])\n",
    "RMSE3 = math.sqrt(MSE3)\n",
    "\n",
    "print(f'MSE : {MSE3:.3f} , RMSE : {RMSE3:.3f}')"
   ]
  },
  {
   "cell_type": "code",
   "execution_count": 44,
   "metadata": {},
   "outputs": [
    {
     "name": "stdout",
     "output_type": "stream",
     "text": [
      "MAE : 0.537\n"
     ]
    }
   ],
   "source": [
    "from sklearn.metrics import mean_absolute_error\n",
    "\n",
    "MAE3 = mean_absolute_error(prices3['log_price'],prices3['logprice_pred'])\n",
    "\n",
    "print(f'MAE : {MAE3:.3f}')"
   ]
  },
  {
   "cell_type": "markdown",
   "metadata": {},
   "source": [
    "## 4.4. Fourth Model"
   ]
  },
  {
   "cell_type": "code",
   "execution_count": 45,
   "metadata": {},
   "outputs": [
    {
     "data": {
      "text/html": [
       "<div>\n",
       "<style scoped>\n",
       "    .dataframe tbody tr th:only-of-type {\n",
       "        vertical-align: middle;\n",
       "    }\n",
       "\n",
       "    .dataframe tbody tr th {\n",
       "        vertical-align: top;\n",
       "    }\n",
       "\n",
       "    .dataframe thead th {\n",
       "        text-align: right;\n",
       "    }\n",
       "</style>\n",
       "<table border=\"1\" class=\"dataframe\">\n",
       "  <thead>\n",
       "    <tr style=\"text-align: right;\">\n",
       "      <th></th>\n",
       "      <th>max_guest</th>\n",
       "      <th>service_level_PLUS</th>\n",
       "      <th>type_Entire Unit</th>\n",
       "      <th>pool_Pool</th>\n",
       "      <th>log_price</th>\n",
       "    </tr>\n",
       "  </thead>\n",
       "  <tbody>\n",
       "    <tr>\n",
       "      <th>0</th>\n",
       "      <td>2.0</td>\n",
       "      <td>0</td>\n",
       "      <td>1</td>\n",
       "      <td>1</td>\n",
       "      <td>3.737670</td>\n",
       "    </tr>\n",
       "    <tr>\n",
       "      <th>1</th>\n",
       "      <td>2.0</td>\n",
       "      <td>0</td>\n",
       "      <td>1</td>\n",
       "      <td>1</td>\n",
       "      <td>3.637586</td>\n",
       "    </tr>\n",
       "    <tr>\n",
       "      <th>2</th>\n",
       "      <td>2.0</td>\n",
       "      <td>0</td>\n",
       "      <td>0</td>\n",
       "      <td>1</td>\n",
       "      <td>3.850148</td>\n",
       "    </tr>\n",
       "    <tr>\n",
       "      <th>3</th>\n",
       "      <td>6.0</td>\n",
       "      <td>0</td>\n",
       "      <td>1</td>\n",
       "      <td>1</td>\n",
       "      <td>5.370638</td>\n",
       "    </tr>\n",
       "    <tr>\n",
       "      <th>4</th>\n",
       "      <td>4.0</td>\n",
       "      <td>1</td>\n",
       "      <td>1</td>\n",
       "      <td>1</td>\n",
       "      <td>5.634790</td>\n",
       "    </tr>\n",
       "    <tr>\n",
       "      <th>...</th>\n",
       "      <td>...</td>\n",
       "      <td>...</td>\n",
       "      <td>...</td>\n",
       "      <td>...</td>\n",
       "      <td>...</td>\n",
       "    </tr>\n",
       "    <tr>\n",
       "      <th>295</th>\n",
       "      <td>5.0</td>\n",
       "      <td>0</td>\n",
       "      <td>1</td>\n",
       "      <td>1</td>\n",
       "      <td>5.141664</td>\n",
       "    </tr>\n",
       "    <tr>\n",
       "      <th>296</th>\n",
       "      <td>2.0</td>\n",
       "      <td>0</td>\n",
       "      <td>1</td>\n",
       "      <td>1</td>\n",
       "      <td>3.912023</td>\n",
       "    </tr>\n",
       "    <tr>\n",
       "      <th>297</th>\n",
       "      <td>2.0</td>\n",
       "      <td>0</td>\n",
       "      <td>1</td>\n",
       "      <td>0</td>\n",
       "      <td>2.944439</td>\n",
       "    </tr>\n",
       "    <tr>\n",
       "      <th>298</th>\n",
       "      <td>2.0</td>\n",
       "      <td>0</td>\n",
       "      <td>1</td>\n",
       "      <td>1</td>\n",
       "      <td>4.605170</td>\n",
       "    </tr>\n",
       "    <tr>\n",
       "      <th>299</th>\n",
       "      <td>4.0</td>\n",
       "      <td>0</td>\n",
       "      <td>1</td>\n",
       "      <td>1</td>\n",
       "      <td>4.077537</td>\n",
       "    </tr>\n",
       "  </tbody>\n",
       "</table>\n",
       "<p>300 rows × 5 columns</p>\n",
       "</div>"
      ],
      "text/plain": [
       "     max_guest  service_level_PLUS  type_Entire Unit  pool_Pool  log_price\n",
       "0          2.0                   0                 1          1   3.737670\n",
       "1          2.0                   0                 1          1   3.637586\n",
       "2          2.0                   0                 0          1   3.850148\n",
       "3          6.0                   0                 1          1   5.370638\n",
       "4          4.0                   1                 1          1   5.634790\n",
       "..         ...                 ...               ...        ...        ...\n",
       "295        5.0                   0                 1          1   5.141664\n",
       "296        2.0                   0                 1          1   3.912023\n",
       "297        2.0                   0                 1          0   2.944439\n",
       "298        2.0                   0                 1          1   4.605170\n",
       "299        4.0                   0                 1          1   4.077537\n",
       "\n",
       "[300 rows x 5 columns]"
      ]
     },
     "execution_count": 45,
     "metadata": {},
     "output_type": "execute_result"
    }
   ],
   "source": [
    "# From the first model, we already know that service_level with three classes (Regular, Superhost, and Plus)\n",
    "# do not make good predictor (p-value is larger than alpha)\n",
    "# However, we would like to examine whether re-binning this variable into 2 classes (Plus and Non-Plus) would make any difference\n",
    "# Therefore, in we elminate the dummy variable 'service_level_SUPERHOST' in the features\n",
    "\n",
    "feat4 = features\n",
    "feat4['log_price'] = np.log(feat4['price'])\n",
    "feat4 = feat4.drop(labels = ['price', 'service_level_SUPERHOST', 'kitchen_Kitchen'], axis = 1)\n",
    "feat4"
   ]
  },
  {
   "cell_type": "code",
   "execution_count": 46,
   "metadata": {},
   "outputs": [],
   "source": [
    "x = feat4.iloc[:,0:-1]\n",
    "y = feat4.iloc[:, -1]"
   ]
  },
  {
   "cell_type": "code",
   "execution_count": 47,
   "metadata": {},
   "outputs": [],
   "source": [
    "X_train, X_test, y_train, y_test = train_test_split(x, y, test_size= test_ratio, random_state= random_state)"
   ]
  },
  {
   "cell_type": "code",
   "execution_count": 48,
   "metadata": {},
   "outputs": [
    {
     "data": {
      "text/html": [
       "<table class=\"simpletable\">\n",
       "<caption>OLS Regression Results</caption>\n",
       "<tr>\n",
       "  <th>Dep. Variable:</th>        <td>log_price</td>    <th>  R-squared:         </th> <td>   0.467</td>\n",
       "</tr>\n",
       "<tr>\n",
       "  <th>Model:</th>                   <td>OLS</td>       <th>  Adj. R-squared:    </th> <td>   0.457</td>\n",
       "</tr>\n",
       "<tr>\n",
       "  <th>Method:</th>             <td>Least Squares</td>  <th>  F-statistic:       </th> <td>   44.94</td>\n",
       "</tr>\n",
       "<tr>\n",
       "  <th>Date:</th>             <td>Fri, 01 Oct 2021</td> <th>  Prob (F-statistic):</th> <td>4.60e-27</td>\n",
       "</tr>\n",
       "<tr>\n",
       "  <th>Time:</th>                 <td>14:43:51</td>     <th>  Log-Likelihood:    </th> <td> -215.40</td>\n",
       "</tr>\n",
       "<tr>\n",
       "  <th>No. Observations:</th>      <td>   210</td>      <th>  AIC:               </th> <td>   440.8</td>\n",
       "</tr>\n",
       "<tr>\n",
       "  <th>Df Residuals:</th>          <td>   205</td>      <th>  BIC:               </th> <td>   457.5</td>\n",
       "</tr>\n",
       "<tr>\n",
       "  <th>Df Model:</th>              <td>     4</td>      <th>                     </th>     <td> </td>   \n",
       "</tr>\n",
       "<tr>\n",
       "  <th>Covariance Type:</th>      <td>nonrobust</td>    <th>                     </th>     <td> </td>   \n",
       "</tr>\n",
       "</table>\n",
       "<table class=\"simpletable\">\n",
       "<tr>\n",
       "           <td></td>             <th>coef</th>     <th>std err</th>      <th>t</th>      <th>P>|t|</th>  <th>[0.025</th>    <th>0.975]</th>  \n",
       "</tr>\n",
       "<tr>\n",
       "  <th>const</th>              <td>    2.6890</td> <td>    0.149</td> <td>   18.069</td> <td> 0.000</td> <td>    2.396</td> <td>    2.982</td>\n",
       "</tr>\n",
       "<tr>\n",
       "  <th>max_guest</th>          <td>    0.1989</td> <td>    0.022</td> <td>    9.106</td> <td> 0.000</td> <td>    0.156</td> <td>    0.242</td>\n",
       "</tr>\n",
       "<tr>\n",
       "  <th>service_level_PLUS</th> <td>    0.4938</td> <td>    0.196</td> <td>    2.520</td> <td> 0.013</td> <td>    0.107</td> <td>    0.880</td>\n",
       "</tr>\n",
       "<tr>\n",
       "  <th>type_Entire Unit</th>   <td>    0.5167</td> <td>    0.105</td> <td>    4.911</td> <td> 0.000</td> <td>    0.309</td> <td>    0.724</td>\n",
       "</tr>\n",
       "<tr>\n",
       "  <th>pool_Pool</th>          <td>    0.6360</td> <td>    0.136</td> <td>    4.667</td> <td> 0.000</td> <td>    0.367</td> <td>    0.905</td>\n",
       "</tr>\n",
       "</table>\n",
       "<table class=\"simpletable\">\n",
       "<tr>\n",
       "  <th>Omnibus:</th>       <td> 2.418</td> <th>  Durbin-Watson:     </th> <td>   2.177</td>\n",
       "</tr>\n",
       "<tr>\n",
       "  <th>Prob(Omnibus):</th> <td> 0.299</td> <th>  Jarque-Bera (JB):  </th> <td>   2.365</td>\n",
       "</tr>\n",
       "<tr>\n",
       "  <th>Skew:</th>          <td> 0.258</td> <th>  Prob(JB):          </th> <td>   0.306</td>\n",
       "</tr>\n",
       "<tr>\n",
       "  <th>Kurtosis:</th>      <td> 2.938</td> <th>  Cond. No.          </th> <td>    16.8</td>\n",
       "</tr>\n",
       "</table><br/><br/>Warnings:<br/>[1] Standard Errors assume that the covariance matrix of the errors is correctly specified."
      ],
      "text/plain": [
       "<class 'statsmodels.iolib.summary.Summary'>\n",
       "\"\"\"\n",
       "                            OLS Regression Results                            \n",
       "==============================================================================\n",
       "Dep. Variable:              log_price   R-squared:                       0.467\n",
       "Model:                            OLS   Adj. R-squared:                  0.457\n",
       "Method:                 Least Squares   F-statistic:                     44.94\n",
       "Date:                Fri, 01 Oct 2021   Prob (F-statistic):           4.60e-27\n",
       "Time:                        14:43:51   Log-Likelihood:                -215.40\n",
       "No. Observations:                 210   AIC:                             440.8\n",
       "Df Residuals:                     205   BIC:                             457.5\n",
       "Df Model:                           4                                         \n",
       "Covariance Type:            nonrobust                                         \n",
       "======================================================================================\n",
       "                         coef    std err          t      P>|t|      [0.025      0.975]\n",
       "--------------------------------------------------------------------------------------\n",
       "const                  2.6890      0.149     18.069      0.000       2.396       2.982\n",
       "max_guest              0.1989      0.022      9.106      0.000       0.156       0.242\n",
       "service_level_PLUS     0.4938      0.196      2.520      0.013       0.107       0.880\n",
       "type_Entire Unit       0.5167      0.105      4.911      0.000       0.309       0.724\n",
       "pool_Pool              0.6360      0.136      4.667      0.000       0.367       0.905\n",
       "==============================================================================\n",
       "Omnibus:                        2.418   Durbin-Watson:                   2.177\n",
       "Prob(Omnibus):                  0.299   Jarque-Bera (JB):                2.365\n",
       "Skew:                           0.258   Prob(JB):                        0.306\n",
       "Kurtosis:                       2.938   Cond. No.                         16.8\n",
       "==============================================================================\n",
       "\n",
       "Warnings:\n",
       "[1] Standard Errors assume that the covariance matrix of the errors is correctly specified.\n",
       "\"\"\""
      ]
     },
     "execution_count": 48,
     "metadata": {},
     "output_type": "execute_result"
    }
   ],
   "source": [
    "modelAPI = sm.OLS(y_train, sm.add_constant(X_train)).fit() #statsmodel API does not automatically add Y-intercept\n",
    "\n",
    "\n",
    "summary_4 = modelAPI.summary()\n",
    "summary_4\n",
    "\n",
    "# From the summary we can see that service_level_PLUS has p-value larger than our chosen alpha (0.05)\n",
    "# Therefore, we can infer that accommodations that are granted PLUS status have prices that are different from\n",
    "# those of REGULAR and SUPERHOST\n",
    "# So we want to examine whether the fourth model is better than the third model"
   ]
  },
  {
   "cell_type": "code",
   "execution_count": 49,
   "metadata": {},
   "outputs": [],
   "source": [
    "y_pred = modelAPI.predict(sm.add_constant(X_test))"
   ]
  },
  {
   "cell_type": "code",
   "execution_count": 50,
   "metadata": {},
   "outputs": [
    {
     "data": {
      "text/plain": [
       "0.4671903123207847"
      ]
     },
     "execution_count": 50,
     "metadata": {},
     "output_type": "execute_result"
    }
   ],
   "source": [
    "r2_4 = r2_score(y_true = y_train, y_pred = modelAPI.predict(sm.add_constant(X_train)))\n",
    "r2_4"
   ]
  },
  {
   "cell_type": "code",
   "execution_count": 51,
   "metadata": {},
   "outputs": [
    {
     "data": {
      "text/plain": [
       "0.44584849319107756"
      ]
     },
     "execution_count": 51,
     "metadata": {},
     "output_type": "execute_result"
    }
   ],
   "source": [
    "r2_score(y_true = y_test, y_pred = y_pred) # calculating R-squared of test set\n",
    "\n",
    "# R-squared is not too different from that of X_train --> model is valid"
   ]
  },
  {
   "cell_type": "code",
   "execution_count": 52,
   "metadata": {},
   "outputs": [
    {
     "data": {
      "text/html": [
       "<div>\n",
       "<style scoped>\n",
       "    .dataframe tbody tr th:only-of-type {\n",
       "        vertical-align: middle;\n",
       "    }\n",
       "\n",
       "    .dataframe tbody tr th {\n",
       "        vertical-align: top;\n",
       "    }\n",
       "\n",
       "    .dataframe thead th {\n",
       "        text-align: right;\n",
       "    }\n",
       "</style>\n",
       "<table border=\"1\" class=\"dataframe\">\n",
       "  <thead>\n",
       "    <tr style=\"text-align: right;\">\n",
       "      <th></th>\n",
       "      <th>log_price</th>\n",
       "      <th>logprice_pred</th>\n",
       "      <th>residual</th>\n",
       "    </tr>\n",
       "  </thead>\n",
       "  <tbody>\n",
       "    <tr>\n",
       "      <th>39</th>\n",
       "      <td>4.477337</td>\n",
       "      <td>3.285806</td>\n",
       "      <td>1.191531</td>\n",
       "    </tr>\n",
       "    <tr>\n",
       "      <th>38</th>\n",
       "      <td>5.686975</td>\n",
       "      <td>5.035283</td>\n",
       "      <td>0.651693</td>\n",
       "    </tr>\n",
       "    <tr>\n",
       "      <th>183</th>\n",
       "      <td>2.564949</td>\n",
       "      <td>3.086878</td>\n",
       "      <td>-0.521928</td>\n",
       "    </tr>\n",
       "    <tr>\n",
       "      <th>13</th>\n",
       "      <td>4.779123</td>\n",
       "      <td>4.239572</td>\n",
       "      <td>0.539552</td>\n",
       "    </tr>\n",
       "    <tr>\n",
       "      <th>90</th>\n",
       "      <td>3.135494</td>\n",
       "      <td>3.603568</td>\n",
       "      <td>-0.468073</td>\n",
       "    </tr>\n",
       "    <tr>\n",
       "      <th>...</th>\n",
       "      <td>...</td>\n",
       "      <td>...</td>\n",
       "      <td>...</td>\n",
       "    </tr>\n",
       "    <tr>\n",
       "      <th>77</th>\n",
       "      <td>2.484907</td>\n",
       "      <td>3.086878</td>\n",
       "      <td>-0.601971</td>\n",
       "    </tr>\n",
       "    <tr>\n",
       "      <th>80</th>\n",
       "      <td>3.988984</td>\n",
       "      <td>4.239572</td>\n",
       "      <td>-0.250588</td>\n",
       "    </tr>\n",
       "    <tr>\n",
       "      <th>78</th>\n",
       "      <td>4.382027</td>\n",
       "      <td>3.722882</td>\n",
       "      <td>0.659145</td>\n",
       "    </tr>\n",
       "    <tr>\n",
       "      <th>101</th>\n",
       "      <td>5.545177</td>\n",
       "      <td>4.239572</td>\n",
       "      <td>1.305606</td>\n",
       "    </tr>\n",
       "    <tr>\n",
       "      <th>8</th>\n",
       "      <td>3.465736</td>\n",
       "      <td>3.722882</td>\n",
       "      <td>-0.257146</td>\n",
       "    </tr>\n",
       "  </tbody>\n",
       "</table>\n",
       "<p>90 rows × 3 columns</p>\n",
       "</div>"
      ],
      "text/plain": [
       "     log_price  logprice_pred  residual\n",
       "39    4.477337       3.285806  1.191531\n",
       "38    5.686975       5.035283  0.651693\n",
       "183   2.564949       3.086878 -0.521928\n",
       "13    4.779123       4.239572  0.539552\n",
       "90    3.135494       3.603568 -0.468073\n",
       "..         ...            ...       ...\n",
       "77    2.484907       3.086878 -0.601971\n",
       "80    3.988984       4.239572 -0.250588\n",
       "78    4.382027       3.722882  0.659145\n",
       "101   5.545177       4.239572  1.305606\n",
       "8     3.465736       3.722882 -0.257146\n",
       "\n",
       "[90 rows x 3 columns]"
      ]
     },
     "execution_count": 52,
     "metadata": {},
     "output_type": "execute_result"
    }
   ],
   "source": [
    "s2 = pd.Series(y_pred, name = 'logprice_pred')\n",
    "prices4 = pd.concat([y_test, s2], axis = 1)\n",
    "prices4['residual'] = prices4['log_price'] - prices4['logprice_pred']\n",
    "prices4"
   ]
  },
  {
   "cell_type": "code",
   "execution_count": 53,
   "metadata": {
    "scrolled": true
   },
   "outputs": [
    {
     "data": {
      "image/png": "[encoded data removed]",
      "text/plain": [
       "<Figure size 432x288 with 1 Axes>"
      ]
     },
     "metadata": {
      "needs_background": "light"
     },
     "output_type": "display_data"
    }
   ],
   "source": [
    "plt.hist(prices4['residual'])\n",
    "plt.show()\n",
    "\n",
    "# looks quite normal"
   ]
  },
  {
   "cell_type": "code",
   "execution_count": 54,
   "metadata": {},
   "outputs": [
    {
     "data": {
      "image/png": "[encoded data removed]",
      "text/plain": [
       "<Figure size 936x504 with 1 Axes>"
      ]
     },
     "metadata": {
      "needs_background": "light"
     },
     "output_type": "display_data"
    }
   ],
   "source": [
    "plt.figure(figsize = [13,7])\n",
    "stats.probplot(prices4['residual'], plot = plt)\n",
    "\n",
    "plt.grid()\n",
    "plt.show()"
   ]
  },
  {
   "cell_type": "code",
   "execution_count": null,
   "metadata": {},
   "outputs": [],
   "source": []
  },
  {
   "cell_type": "code",
   "execution_count": 55,
   "metadata": {},
   "outputs": [
    {
     "data": {
      "text/plain": [
       "ShapiroResult(statistic=0.9879114031791687, pvalue=0.5782548785209656)"
      ]
     },
     "execution_count": 55,
     "metadata": {},
     "output_type": "execute_result"
    }
   ],
   "source": [
    "# normality test\n",
    "\n",
    "# if p-value > alpha --> fail to reject H0\n",
    "\n",
    "stats.shapiro(prices4['residual'])\n",
    "\n",
    "# p-value is larger than 0.05 --> the distribution of this data is no different from normal distribution\n",
    "# Therefore, the assumption of normality is not violated by this model"
   ]
  },
  {
   "cell_type": "code",
   "execution_count": 56,
   "metadata": {},
   "outputs": [
    {
     "name": "stdout",
     "output_type": "stream",
     "text": [
      "MSE : 0.454 , RMSE : 0.674\n"
     ]
    }
   ],
   "source": [
    "MSE4 = mean_squared_error(prices4['log_price'],prices4['logprice_pred'])\n",
    "RMSE4 = math.sqrt(MSE4)\n",
    "\n",
    "print(f'MSE : {MSE4:.3f} , RMSE : {RMSE4:.3f}')"
   ]
  },
  {
   "cell_type": "code",
   "execution_count": 57,
   "metadata": {},
   "outputs": [
    {
     "name": "stdout",
     "output_type": "stream",
     "text": [
      "MAE : 0.525\n"
     ]
    }
   ],
   "source": [
    "MAE4 = mean_absolute_error(prices4['log_price'],prices4['logprice_pred'])\n",
    "\n",
    "print(f'MAE : {MAE4:.3f}')"
   ]
  },
  {
   "cell_type": "code",
   "execution_count": 58,
   "metadata": {},
   "outputs": [
    {
     "data": {
      "text/plain": [
       "1.3354333304562944"
      ]
     },
     "execution_count": 58,
     "metadata": {},
     "output_type": "execute_result"
    }
   ],
   "source": [
    "# Calculating the prediction interval\n",
    "\n",
    "sum_err = sum(prices4['residual']**2)\n",
    "stdev = (1/(len(prices4) -2 ) * sum_err)**0.5\n",
    "z_score = stats.norm.ppf(1 - (1-0.95)/2)\n",
    "z_score\n",
    "interval4 = z_score*stdev\n",
    "\n",
    "interval4"
   ]
  },
  {
   "cell_type": "code",
   "execution_count": 59,
   "metadata": {},
   "outputs": [
    {
     "data": {
      "image/png": "[encoded data removed]",
      "text/plain": [
       "<Figure size 936x504 with 1 Axes>"
      ]
     },
     "metadata": {
      "needs_background": "light"
     },
     "output_type": "display_data"
    }
   ],
   "source": [
    "plt.figure(figsize = [13,7])\n",
    "plt.plot(y_pred, y_pred)\n",
    "plt.plot(y_pred, y_pred+interval4, color = 'green', linestyle = '--')\n",
    "plt.plot(y_pred, y_pred-interval4, color = 'red', linestyle = '--')\n",
    "plt.scatter(y_pred,y_test, marker = 'x')\n",
    "\n",
    "plt.grid()\n",
    "plt.show()"
   ]
  },
  {
   "cell_type": "code",
   "execution_count": 60,
   "metadata": {},
   "outputs": [
    {
     "data": {
      "image/png": "[encoded data removed]",
      "text/plain": [
       "<Figure size 936x504 with 1 Axes>"
      ]
     },
     "metadata": {
      "needs_background": "light"
     },
     "output_type": "display_data"
    }
   ],
   "source": [
    "plt.figure(figsize = [13,7])\n",
    "plt.plot(y_pred.sort_values(), np.exp(y_pred.sort_values()))\n",
    "plt.plot(y_pred.sort_values(), np.exp(y_pred.sort_values() + interval4), linestyle = '--', color = 'green')\n",
    "plt.plot(y_pred.sort_values(), np.exp(y_pred.sort_values() - interval4), linestyle = '--', color = 'red')\n",
    "\n",
    "plt.xlabel('ln(Predicted Price)')\n",
    "plt.ylabel('Predicted Price in USD')\n",
    "plt.grid()\n",
    "plt.show()\n",
    "\n",
    "# Looks pretty similar to that of the third model"
   ]
  },
  {
   "cell_type": "markdown",
   "metadata": {},
   "source": [
    "# 5. Models Evaluation"
   ]
  },
  {
   "cell_type": "markdown",
   "metadata": {},
   "source": [
    "From the four regression models, we are left with 2 valid models:\n",
    "1. The third model, where:\n",
    "    - The target variable (price) is log-transformed\n",
    "    - The predictor variables are maximum number of guests, whether there is a swimming pool, and whether it isthe entire unit\n",
    "    \n",
    "2. The fourth model, where:\n",
    "    - The target variable (price) is log-transformed\n",
    "    - The predictor variables are maximum number of guests, whether there is a swimming pool, whether it is the entire unit, and whether it is PLUS accommodation\n",
    "\n",
    "Both models are valid, but which one is better?\n",
    "Let's see the following table that helps us comparing the metrics of each model:"
   ]
  },
  {
   "cell_type": "code",
   "execution_count": 61,
   "metadata": {},
   "outputs": [
    {
     "data": {
      "text/html": [
       "<div>\n",
       "<style scoped>\n",
       "    .dataframe tbody tr th:only-of-type {\n",
       "        vertical-align: middle;\n",
       "    }\n",
       "\n",
       "    .dataframe tbody tr th {\n",
       "        vertical-align: top;\n",
       "    }\n",
       "\n",
       "    .dataframe thead th {\n",
       "        text-align: right;\n",
       "    }\n",
       "</style>\n",
       "<table border=\"1\" class=\"dataframe\">\n",
       "  <thead>\n",
       "    <tr style=\"text-align: right;\">\n",
       "      <th></th>\n",
       "      <th>Third Model</th>\n",
       "      <th>Fourth Model</th>\n",
       "    </tr>\n",
       "  </thead>\n",
       "  <tbody>\n",
       "    <tr>\n",
       "      <th>MSE</th>\n",
       "      <td>0.464620</td>\n",
       "      <td>0.453929</td>\n",
       "    </tr>\n",
       "    <tr>\n",
       "      <th>RMSE</th>\n",
       "      <td>0.681631</td>\n",
       "      <td>0.673743</td>\n",
       "    </tr>\n",
       "    <tr>\n",
       "      <th>MAE</th>\n",
       "      <td>0.537260</td>\n",
       "      <td>0.525104</td>\n",
       "    </tr>\n",
       "    <tr>\n",
       "      <th>Prediction Interval</th>\n",
       "      <td>1.351068</td>\n",
       "      <td>1.335433</td>\n",
       "    </tr>\n",
       "    <tr>\n",
       "      <th>R-squared</th>\n",
       "      <td>0.450688</td>\n",
       "      <td>0.467190</td>\n",
       "    </tr>\n",
       "  </tbody>\n",
       "</table>\n",
       "</div>"
      ],
      "text/plain": [
       "                     Third Model  Fourth Model\n",
       "MSE                     0.464620      0.453929\n",
       "RMSE                    0.681631      0.673743\n",
       "MAE                     0.537260      0.525104\n",
       "Prediction Interval     1.351068      1.335433\n",
       "R-squared               0.450688      0.467190"
      ]
     },
     "execution_count": 61,
     "metadata": {},
     "output_type": "execute_result"
    }
   ],
   "source": [
    "met_index = ['MSE', 'RMSE', 'MAE', 'Prediction Interval', 'R-squared']\n",
    "met_dict = {'Third Model' : [MSE3, RMSE3, MAE3, interval3, r2_3], 'Fourth Model' : [MSE4, RMSE4, MAE4, interval4, r2_4]}\n",
    "\n",
    "comparison = pd.DataFrame(data = met_dict, index = met_index)\n",
    "comparison"
   ]
  },
  {
   "cell_type": "markdown",
   "metadata": {},
   "source": [
    "- Remember that the third and fourth model have same measurement unit (both have target that are log-transformed). \n",
    "- Therefore, we can compare the metrics of each model with the other.\n",
    "- From those metrics, we can tell that the fourth model is better than the third model(lower errors and higher r-squared), albeit being very slightly. \n",
    "- The next thing we would like to consider is the number of predictors.\n",
    "- Too few predictors, then the model will be biased\n",
    "- Too many predictors, then the model will be less precise\n",
    "\n",
    "- In this case, I personally I prefer the fourth model because I believe that whether an accommodation granted Plus status by Airbnb is an important factor in determining the final pricing.\n",
    "\n",
    "- Thus, I pick the fourth model\n"
   ]
  },
  {
   "cell_type": "code",
   "execution_count": 62,
   "metadata": {},
   "outputs": [
    {
     "name": "stdout",
     "output_type": "stream",
     "text": [
      "ln(y) = 2.689 + 0.199x1 + 0.494x2 + 0.517x3 + 0.636x4\n"
     ]
    }
   ],
   "source": [
    "# Our Linear Model\n",
    "\n",
    "const, coef_x1, coef_x2, coef_x3, coef_x4 = modelAPI.params\n",
    "print(f'ln(y) = {const:.3f} + {coef_x1:.3f}x1 + {coef_x2:.3f}x2 + {coef_x3:.3f}x3 + {coef_x4:.3f}x4') # This is our regression function"
   ]
  },
  {
   "cell_type": "code",
   "execution_count": 63,
   "metadata": {},
   "outputs": [
    {
     "name": "stdout",
     "output_type": "stream",
     "text": [
      "y = 14.72 x e^0.20x1 x e^0.49x2 x e^0.52x3 x e^0.64x4\n"
     ]
    }
   ],
   "source": [
    "# We should not forget that the above function is for the value of ln($)\n",
    "# Therefore, to revert it back to $, we need to invert the function with exponential function\n",
    "print(f'y = {np.exp(const):.2f} x e^{coef_x1:.2f}x1 x e^{coef_x2:.2f}x2 x e^{coef_x3:.2f}x3 x e^{coef_x4:.2f}x4')"
   ]
  },
  {
   "cell_type": "code",
   "execution_count": 64,
   "metadata": {},
   "outputs": [],
   "source": [
    "# Predicting the price of our preferred accommodation:\n",
    "\n",
    "x1 = 4 # max_guest (integer)\n",
    "x2 = 0 # PLUS = 1, REGULAR/SUPERHOST = 0 (binary)\n",
    "x3 = 1 # Entire Unit = 1, Room Only = 0 (binary)\n",
    "x4 = 1 # with swimming pool = 1, without swimming pool = 0 (binary)\n",
    "\n",
    "ln_y = const + coef_x1*x1 + coef_x2*x2 + coef_x3*x3 + coef_x4*x4 \n",
    "\n",
    "price_predicted = np.exp(ln_y)\n",
    "price_upperbound = np.exp(ln_y + interval4)\n",
    "price_lowerbound = np.exp(ln_y - interval4)"
   ]
  },
  {
   "cell_type": "code",
   "execution_count": 65,
   "metadata": {},
   "outputs": [
    {
     "name": "stdout",
     "output_type": "stream",
     "text": [
      "Average Price : $ 103.28\n",
      "Upper-bound Price : $ 392.63\n",
      "Lower-bound Price : $ 27.17\n"
     ]
    }
   ],
   "source": [
    "print(f'Average Price : $ {price_predicted:.2f}')\n",
    "print(f'Upper-bound Price : $ {price_upperbound:.2f}')\n",
    "print(f'Lower-bound Price : $ {price_lowerbound:.2f}')"
   ]
  },
  {
   "cell_type": "code",
   "execution_count": null,
   "metadata": {},
   "outputs": [],
   "source": []
  }
 ],
 "metadata": {
  "kernelspec": {
   "display_name": "Python 3",
   "language": "python",
   "name": "python3"
  },
  "language_info": {
   "codemirror_mode": {
    "name": "ipython",
    "version": 3
   },
   "file_extension": ".py",
   "mimetype": "text/x-python",
   "name": "python",
   "nbconvert_exporter": "python",
   "pygments_lexer": "ipython3",
   "version": "3.8.3"
  }
 },
 "nbformat": 4,
 "nbformat_minor": 4
}
